{
 "cells": [
  {
   "cell_type": "markdown",
   "metadata": {},
   "source": [
    "# Phase 3"
   ]
  },
  {
   "cell_type": "markdown",
   "metadata": {},
   "source": [
    "By Michelle Yang and Rachel Zhang"
   ]
  },
  {
   "cell_type": "markdown",
   "metadata": {},
   "source": [
    "### Analysis 1: The relationship between gender and genre preferences "
   ]
  },
  {
   "cell_type": "markdown",
   "metadata": {},
   "source": [
    "From the user.csv, we can get information from around 53,000 users out of 81,000 users about their gender (binary M/F) and favorite animes. In the anime_marlesson_jan20.csv, we have information about the multiple genres each anime is tagged by. We would use get_dummies on the genres and gender, and match them with the user, removing double-counts (for animes that have the same genres). Then we could find the likelihood of a certain gender to choose a certain genre by performing a linear regression, and looking at the regression coefficient of the resulting model. We would expect that males are more likely to watch genres such as action and adventure than females, and that females are more likely to watch genres such as romance. "
   ]
  },
  {
   "cell_type": "markdown",
   "metadata": {},
   "source": [
    "At the same time, however, genres are not the only factor that males/females take into account, since females also do watch certain action or adventure anime. To dig deeper, we will perform a multivariable linear regression with other predictors such as popularity and rank (on top of genres). In doing so, we could analyze the potentially different weights that males v. females assign to the aspects of an anime that influence their watching decision. "
   ]
  },
  {
   "cell_type": "markdown",
   "metadata": {},
   "source": [
    "### Analysis 2: The relationship between rank and number of episodes "
   ]
  },
  {
   "cell_type": "markdown",
   "metadata": {},
   "source": [
    "From anime_marlesson_jan20.csv, we can get the information of an anime's rank and the number of episodes that it has. Since animes have varying numbers of episodes, we can group the anime into bins such as 1-12 episodes, 13-25, 26-50, etc. Then, we will perform a linear regression analysis to find the correlation between the number of episodes and the anime's resulting rank. While we expect that animes that are ranked higher may get more episodes, it is also possible that the anime gets more episodes because people ranked it highly, or because it was \"mainstream.\" To better understand the assumed positive correlation between rank and number of episodes, we could then perform a multivariable regression analysis, with rank as the measured variable, with factors such as popularity (which is a measure of how \"mainstream\" it is) and air date. It would also be interesting to see whether number of episodes interact with gender to influence male vs. female decisions to watch and their subsequent ratings of an anime. "
   ]
  }
 ],
 "metadata": {
  "kernelspec": {
   "display_name": "Python 3",
   "language": "python",
   "name": "python3"
  },
  "language_info": {
   "codemirror_mode": {
    "name": "ipython",
    "version": 3
   },
   "file_extension": ".py",
   "mimetype": "text/x-python",
   "name": "python",
   "nbconvert_exporter": "python",
   "pygments_lexer": "ipython3",
   "version": "3.7.4"
  }
 },
 "nbformat": 4,
 "nbformat_minor": 2
}
