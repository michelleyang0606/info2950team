{
 "cells": [
  {
   "cell_type": "code",
   "execution_count": 1,
   "metadata": {},
   "outputs": [],
   "source": [
    "import numpy as np\n",
    "import pandas as pd\n",
    "import matplotlib.pyplot as plt"
   ]
  },
  {
   "cell_type": "markdown",
   "metadata": {},
   "source": [
    "# Appendix"
   ]
  },
  {
   "cell_type": "markdown",
   "metadata": {},
   "source": [
    "### Importing Datasets"
   ]
  },
  {
   "cell_type": "code",
   "execution_count": 2,
   "metadata": {},
   "outputs": [
    {
     "name": "stdout",
     "output_type": "stream",
     "text": [
      "Number of Columns in anime_data: 12\n",
      "Number of Observations in anime_data: 19311\n",
      "\n",
      "Number of Columns in users: 5\n",
      "Number of Observations in users: 81727\n"
     ]
    }
   ],
   "source": [
    "#importing \"anime_marlesson_jan20.csv\"\n",
    "anime_data = pd.read_csv(\"animes_marlesson_jan20.csv\")\n",
    "anime_epdata = pd.read_csv(\"animes_marlesson_jan20.csv\")\n",
    "print(\"Number of Columns in anime_data: \" + str(len(anime_data.columns)))\n",
    "print(\"Number of Observations in anime_data: \" + str(len(anime_data)))\n",
    "\n",
    "#importing \"profiles_marlesson_jan20.csv\"\n",
    "users = pd.read_csv(\"profiles_marlesson_jan20.csv\")\n",
    "print(\"\\nNumber of Columns in users: \" + str(len(users.columns)))\n",
    "print(\"Number of Observations in users: \" + str(len(users)))"
   ]
  },
  {
   "cell_type": "markdown",
   "metadata": {},
   "source": [
    "### Cleaning: anime_epdata"
   ]
  },
  {
   "cell_type": "code",
   "execution_count": 3,
   "metadata": {},
   "outputs": [
    {
     "name": "stdout",
     "output_type": "stream",
     "text": [
      "Number of Columns in anime_epdata: 12\n",
      "Number of Observations in anime_epdata: 19311\n",
      "\n",
      "Number of Columns in anime_epdata: 9\n",
      "Number of Observations in anime_epdata: 16368\n"
     ]
    },
    {
     "data": {
      "text/html": [
       "<div>\n",
       "<style scoped>\n",
       "    .dataframe tbody tr th:only-of-type {\n",
       "        vertical-align: middle;\n",
       "    }\n",
       "\n",
       "    .dataframe tbody tr th {\n",
       "        vertical-align: top;\n",
       "    }\n",
       "\n",
       "    .dataframe thead th {\n",
       "        text-align: right;\n",
       "    }\n",
       "</style>\n",
       "<table border=\"1\" class=\"dataframe\">\n",
       "  <thead>\n",
       "    <tr style=\"text-align: right;\">\n",
       "      <th></th>\n",
       "      <th>uid</th>\n",
       "      <th>title</th>\n",
       "      <th>genre</th>\n",
       "      <th>aired</th>\n",
       "      <th>episodes</th>\n",
       "      <th>members</th>\n",
       "      <th>popularity</th>\n",
       "      <th>ranked</th>\n",
       "      <th>score</th>\n",
       "    </tr>\n",
       "  </thead>\n",
       "  <tbody>\n",
       "    <tr>\n",
       "      <td>0</td>\n",
       "      <td>28891</td>\n",
       "      <td>Haikyuu!! Second Season</td>\n",
       "      <td>['Comedy', 'Sports', 'Drama', 'School', 'Shoun...</td>\n",
       "      <td>Oct 4, 2015 to Mar 27, 2016</td>\n",
       "      <td>25.0</td>\n",
       "      <td>489888</td>\n",
       "      <td>141</td>\n",
       "      <td>25.0</td>\n",
       "      <td>8.82</td>\n",
       "    </tr>\n",
       "    <tr>\n",
       "      <td>1</td>\n",
       "      <td>23273</td>\n",
       "      <td>Shigatsu wa Kimi no Uso</td>\n",
       "      <td>['Drama', 'Music', 'Romance', 'School', 'Shoun...</td>\n",
       "      <td>Oct 10, 2014 to Mar 20, 2015</td>\n",
       "      <td>22.0</td>\n",
       "      <td>995473</td>\n",
       "      <td>28</td>\n",
       "      <td>24.0</td>\n",
       "      <td>8.83</td>\n",
       "    </tr>\n",
       "    <tr>\n",
       "      <td>2</td>\n",
       "      <td>34599</td>\n",
       "      <td>Made in Abyss</td>\n",
       "      <td>['Sci-Fi', 'Adventure', 'Mystery', 'Drama', 'F...</td>\n",
       "      <td>Jul 7, 2017 to Sep 29, 2017</td>\n",
       "      <td>13.0</td>\n",
       "      <td>581663</td>\n",
       "      <td>98</td>\n",
       "      <td>23.0</td>\n",
       "      <td>8.83</td>\n",
       "    </tr>\n",
       "    <tr>\n",
       "      <td>3</td>\n",
       "      <td>5114</td>\n",
       "      <td>Fullmetal Alchemist: Brotherhood</td>\n",
       "      <td>['Action', 'Military', 'Adventure', 'Comedy', ...</td>\n",
       "      <td>Apr 5, 2009 to Jul 4, 2010</td>\n",
       "      <td>64.0</td>\n",
       "      <td>1615084</td>\n",
       "      <td>4</td>\n",
       "      <td>1.0</td>\n",
       "      <td>9.23</td>\n",
       "    </tr>\n",
       "    <tr>\n",
       "      <td>4</td>\n",
       "      <td>31758</td>\n",
       "      <td>Kizumonogatari III: Reiketsu-hen</td>\n",
       "      <td>['Action', 'Mystery', 'Supernatural', 'Vampire']</td>\n",
       "      <td>Jan 6, 2017</td>\n",
       "      <td>1.0</td>\n",
       "      <td>214621</td>\n",
       "      <td>502</td>\n",
       "      <td>22.0</td>\n",
       "      <td>8.83</td>\n",
       "    </tr>\n",
       "  </tbody>\n",
       "</table>\n",
       "</div>"
      ],
      "text/plain": [
       "     uid                             title  \\\n",
       "0  28891           Haikyuu!! Second Season   \n",
       "1  23273           Shigatsu wa Kimi no Uso   \n",
       "2  34599                     Made in Abyss   \n",
       "3   5114  Fullmetal Alchemist: Brotherhood   \n",
       "4  31758  Kizumonogatari III: Reiketsu-hen   \n",
       "\n",
       "                                               genre  \\\n",
       "0  ['Comedy', 'Sports', 'Drama', 'School', 'Shoun...   \n",
       "1  ['Drama', 'Music', 'Romance', 'School', 'Shoun...   \n",
       "2  ['Sci-Fi', 'Adventure', 'Mystery', 'Drama', 'F...   \n",
       "3  ['Action', 'Military', 'Adventure', 'Comedy', ...   \n",
       "4   ['Action', 'Mystery', 'Supernatural', 'Vampire']   \n",
       "\n",
       "                          aired  episodes  members  popularity  ranked  score  \n",
       "0   Oct 4, 2015 to Mar 27, 2016      25.0   489888         141    25.0   8.82  \n",
       "1  Oct 10, 2014 to Mar 20, 2015      22.0   995473          28    24.0   8.83  \n",
       "2   Jul 7, 2017 to Sep 29, 2017      13.0   581663          98    23.0   8.83  \n",
       "3    Apr 5, 2009 to Jul 4, 2010      64.0  1615084           4     1.0   9.23  \n",
       "4                   Jan 6, 2017       1.0   214621         502    22.0   8.83  "
      ]
     },
     "execution_count": 3,
     "metadata": {},
     "output_type": "execute_result"
    }
   ],
   "source": [
    "print(\"Number of Columns in anime_epdata: \" + str(len(anime_epdata.columns)))\n",
    "print(\"Number of Observations in anime_epdata: \" + str(len(anime_epdata)))\n",
    "\n",
    "#Brief cleaning of dataset, removed links and dropped duplicates\n",
    "anime_epdata = anime_epdata.drop(columns = ['img_url', 'link', 'synopsis'])\n",
    "anime_epdata = anime_epdata.drop_duplicates()\n",
    "print(\"\\nNumber of Columns in anime_epdata: \" + str(len(anime_epdata.columns)))\n",
    "print(\"Number of Observations in anime_epdata: \" + str(len(anime_epdata)))\n",
    "\n",
    "anime_epdata.head()"
   ]
  },
  {
   "cell_type": "markdown",
   "metadata": {},
   "source": [
    "#### Removing movies, OVAs, and specials\n",
    "We want to remove the anime movies and OVAs/specials from the list because they are marked as 1 episode in the dataset. This can skew the analysis because we want to investigate the rating and popularity of TV shows . Many movies with high/low rankings can make it seem like the lower number of episodes result in high/low rankings."
   ]
  },
  {
   "cell_type": "code",
   "execution_count": 4,
   "metadata": {},
   "outputs": [
    {
     "name": "stdout",
     "output_type": "stream",
     "text": [
      "Number of TV animes in anime_epdata: 8555\n"
     ]
    }
   ],
   "source": [
    "#Removing animes with 1 episode\n",
    "anime_epdata = anime_epdata[anime_epdata[\"episodes\"] != 1.0]\n",
    "anime_epdata = anime_epdata.copy()\n",
    "print(\"Number of TV animes in anime_epdata: \" + str(len(anime_epdata)))"
   ]
  },
  {
   "cell_type": "markdown",
   "metadata": {},
   "source": [
    "#### Animes with NaN episodes\n",
    "Now, we want to remove animes with NaN in number of episodes. After manually checking with MAL, many of these animes seemed to have had an error when compiling the data. For example, one anime was completed at 55 episodes, but the observation in the dataframe had NaN as its number of episodes. \n",
    "\n",
    "Taking a sample of the animes with missing episodes to check manually on MAL it was also discovered that many of the anime had between 800-1000 episodes. However, the sample size was too small to make conclusions on number of episodes so we decided to completely remove all anime with NaN episodes.\n",
    "\n",
    "We also dropped the animes with missing popularity, rank, and scores since they will not help our relationship analysis. "
   ]
  },
  {
   "cell_type": "code",
   "execution_count": 5,
   "metadata": {},
   "outputs": [
    {
     "name": "stdout",
     "output_type": "stream",
     "text": [
      "Number of TV animes after dropping NaN episodes: 7100\n"
     ]
    }
   ],
   "source": [
    "#dropping animes with NaN in \"episodes\", \"ranked\", \"popularity\", \"score\"\n",
    "anime_epdata = anime_epdata.dropna(subset=[\"episodes\", \"score\", \"popularity\", \"ranked\"])\n",
    "print(\"Number of TV animes after dropping NaN episodes: \" + str(len(anime_epdata)))"
   ]
  },
  {
   "cell_type": "markdown",
   "metadata": {},
   "source": [
    "#### Checking for outliers"
   ]
  },
  {
   "cell_type": "code",
   "execution_count": 6,
   "metadata": {},
   "outputs": [
    {
     "data": {
      "image/png": "[encoded data removed]",
      "text/plain": [
       "<Figure size 432x288 with 1 Axes>"
      ]
     },
     "metadata": {
      "needs_background": "light"
     },
     "output_type": "display_data"
    }
   ],
   "source": [
    "#Create histogram to display possible outliers\n",
    "plt.hist(anime_epdata[\"episodes\"], bins=100)\n",
    "plt.title(\"Histogram of number of episodes of animes\")\n",
    "plt.xlabel('episodes')\n",
    "plt.ylabel('count')\n",
    "plt.show()"
   ]
  },
  {
   "cell_type": "code",
   "execution_count": 7,
   "metadata": {},
   "outputs": [
    {
     "name": "stdout",
     "output_type": "stream",
     "text": [
      "Statistical summary of the outliers (animes with over 500 episodes)\n",
      "count    15.00\n",
      "mean      6.14\n",
      "std       0.61\n",
      "min       5.00\n",
      "25%       5.84\n",
      "50%       6.03\n",
      "75%       6.32\n",
      "max       7.74\n",
      "Name: score, dtype: float64\n"
     ]
    }
   ],
   "source": [
    "print(\"Statistical summary of the outliers (animes with over 500 episodes)\")\n",
    "anime_epdata_over1k = anime_epdata[anime_epdata[\"episodes\"] > 500]\n",
    "print(round(anime_epdata_over1k.score.describe(),2))"
   ]
  },
  {
   "cell_type": "markdown",
   "metadata": {},
   "source": [
    "From the histogram and statistical summary, we see that there's are 15 anime that have over 500 episodes. Since there are so few in the entire sample, we decided to remove it from the dataset. We took away animes that were above the 98th percentile."
   ]
  },
  {
   "cell_type": "code",
   "execution_count": 8,
   "metadata": {},
   "outputs": [
    {
     "name": "stdout",
     "output_type": "stream",
     "text": [
      "Number of TV animes in anime_epdata: 6957\n"
     ]
    }
   ],
   "source": [
    "#Removing outlier (anime with episodes > 1000)\n",
    "anime_epdata = anime_epdata[anime_epdata.episodes < np.percentile(anime_epdata.episodes,98)]\n",
    "print(\"Number of TV animes in anime_epdata: {}\".format(len(anime_epdata)))"
   ]
  },
  {
   "cell_type": "code",
   "execution_count": 20,
   "metadata": {},
   "outputs": [
    {
     "name": "stdout",
     "output_type": "stream",
     "text": [
      "Number of columns: 9\n",
      "Column names:\n",
      "uid\n",
      "title\n",
      "genre\n",
      "aired\n",
      "episodes\n",
      "members\n",
      "popularity\n",
      "ranked\n",
      "score\n",
      "Number of observations (anime): 6957\n"
     ]
    }
   ],
   "source": [
    "#Description of anime_epdata \n",
    "print(\"Number of columns: \" + str(len(anime_epdata.columns)))\n",
    "print(\"Column names:\") \n",
    "for column in anime_epdata.columns: \n",
    "    print(column)\n",
    "print(\"Number of observations (anime): \" + str(len(anime_epdata)))"
   ]
  },
  {
   "cell_type": "markdown",
   "metadata": {},
   "source": [
    "### Cleaning: anime_data"
   ]
  },
  {
   "cell_type": "code",
   "execution_count": 10,
   "metadata": {},
   "outputs": [
    {
     "name": "stdout",
     "output_type": "stream",
     "text": [
      "Number of Columns After Cleaning Data: 9\n",
      "Number of Observations After Cleaning Data: 19311\n"
     ]
    },
    {
     "data": {
      "text/html": [
       "<div>\n",
       "<style scoped>\n",
       "    .dataframe tbody tr th:only-of-type {\n",
       "        vertical-align: middle;\n",
       "    }\n",
       "\n",
       "    .dataframe tbody tr th {\n",
       "        vertical-align: top;\n",
       "    }\n",
       "\n",
       "    .dataframe thead th {\n",
       "        text-align: right;\n",
       "    }\n",
       "</style>\n",
       "<table border=\"1\" class=\"dataframe\">\n",
       "  <thead>\n",
       "    <tr style=\"text-align: right;\">\n",
       "      <th></th>\n",
       "      <th>uid</th>\n",
       "      <th>title</th>\n",
       "      <th>genre</th>\n",
       "      <th>aired</th>\n",
       "      <th>episodes</th>\n",
       "      <th>members</th>\n",
       "      <th>popularity</th>\n",
       "      <th>ranked</th>\n",
       "      <th>rating</th>\n",
       "    </tr>\n",
       "  </thead>\n",
       "  <tbody>\n",
       "    <tr>\n",
       "      <td>0</td>\n",
       "      <td>28891</td>\n",
       "      <td>Haikyuu!! Second Season</td>\n",
       "      <td>['Comedy', 'Sports', 'Drama', 'School', 'Shoun...</td>\n",
       "      <td>Oct 4, 2015 to Mar 27, 2016</td>\n",
       "      <td>25.0</td>\n",
       "      <td>489888</td>\n",
       "      <td>141</td>\n",
       "      <td>25.0</td>\n",
       "      <td>8.82</td>\n",
       "    </tr>\n",
       "    <tr>\n",
       "      <td>1</td>\n",
       "      <td>23273</td>\n",
       "      <td>Shigatsu wa Kimi no Uso</td>\n",
       "      <td>['Drama', 'Music', 'Romance', 'School', 'Shoun...</td>\n",
       "      <td>Oct 10, 2014 to Mar 20, 2015</td>\n",
       "      <td>22.0</td>\n",
       "      <td>995473</td>\n",
       "      <td>28</td>\n",
       "      <td>24.0</td>\n",
       "      <td>8.83</td>\n",
       "    </tr>\n",
       "    <tr>\n",
       "      <td>2</td>\n",
       "      <td>34599</td>\n",
       "      <td>Made in Abyss</td>\n",
       "      <td>['Sci-Fi', 'Adventure', 'Mystery', 'Drama', 'F...</td>\n",
       "      <td>Jul 7, 2017 to Sep 29, 2017</td>\n",
       "      <td>13.0</td>\n",
       "      <td>581663</td>\n",
       "      <td>98</td>\n",
       "      <td>23.0</td>\n",
       "      <td>8.83</td>\n",
       "    </tr>\n",
       "    <tr>\n",
       "      <td>3</td>\n",
       "      <td>5114</td>\n",
       "      <td>Fullmetal Alchemist: Brotherhood</td>\n",
       "      <td>['Action', 'Military', 'Adventure', 'Comedy', ...</td>\n",
       "      <td>Apr 5, 2009 to Jul 4, 2010</td>\n",
       "      <td>64.0</td>\n",
       "      <td>1615084</td>\n",
       "      <td>4</td>\n",
       "      <td>1.0</td>\n",
       "      <td>9.23</td>\n",
       "    </tr>\n",
       "    <tr>\n",
       "      <td>4</td>\n",
       "      <td>31758</td>\n",
       "      <td>Kizumonogatari III: Reiketsu-hen</td>\n",
       "      <td>['Action', 'Mystery', 'Supernatural', 'Vampire']</td>\n",
       "      <td>Jan 6, 2017</td>\n",
       "      <td>1.0</td>\n",
       "      <td>214621</td>\n",
       "      <td>502</td>\n",
       "      <td>22.0</td>\n",
       "      <td>8.83</td>\n",
       "    </tr>\n",
       "  </tbody>\n",
       "</table>\n",
       "</div>"
      ],
      "text/plain": [
       "     uid                             title  \\\n",
       "0  28891           Haikyuu!! Second Season   \n",
       "1  23273           Shigatsu wa Kimi no Uso   \n",
       "2  34599                     Made in Abyss   \n",
       "3   5114  Fullmetal Alchemist: Brotherhood   \n",
       "4  31758  Kizumonogatari III: Reiketsu-hen   \n",
       "\n",
       "                                               genre  \\\n",
       "0  ['Comedy', 'Sports', 'Drama', 'School', 'Shoun...   \n",
       "1  ['Drama', 'Music', 'Romance', 'School', 'Shoun...   \n",
       "2  ['Sci-Fi', 'Adventure', 'Mystery', 'Drama', 'F...   \n",
       "3  ['Action', 'Military', 'Adventure', 'Comedy', ...   \n",
       "4   ['Action', 'Mystery', 'Supernatural', 'Vampire']   \n",
       "\n",
       "                          aired  episodes  members  popularity  ranked  rating  \n",
       "0   Oct 4, 2015 to Mar 27, 2016      25.0   489888         141    25.0    8.82  \n",
       "1  Oct 10, 2014 to Mar 20, 2015      22.0   995473          28    24.0    8.83  \n",
       "2   Jul 7, 2017 to Sep 29, 2017      13.0   581663          98    23.0    8.83  \n",
       "3    Apr 5, 2009 to Jul 4, 2010      64.0  1615084           4     1.0    9.23  \n",
       "4                   Jan 6, 2017       1.0   214621         502    22.0    8.83  "
      ]
     },
     "execution_count": 10,
     "metadata": {},
     "output_type": "execute_result"
    }
   ],
   "source": [
    "#Cleaning dataset columns\n",
    "anime_data = anime_data.drop(columns = ['img_url', 'link', 'synopsis'])\n",
    "anime_data = anime_data.rename(columns = {'score':'rating'}) \n",
    "print(\"Number of Columns After Cleaning Data: \" + str(len(anime_data.columns)))\n",
    "print(\"Number of Observations After Cleaning Data: \" + str(len(anime_data)))\n",
    "anime_data.head()"
   ]
  },
  {
   "cell_type": "markdown",
   "metadata": {},
   "source": [
    "#### Creating \"aired_year\" column\n",
    "\n",
    "In the dataframe, there is a column named \"aired\" that gives the air dates of the anime in one of the following formats: \n",
    "- month, year \n",
    "- year \n",
    "- year to year (ex: 20xx to 20xx) \n",
    "- NaN \n",
    "\n",
    "For the data analyses that we will be doing, we only need the year that the anime aired. Thus, we created a new column that extracts the air year from the \"aired\" column, dropping anime that were missing \"aired.\""
   ]
  },
  {
   "cell_type": "code",
   "execution_count": 11,
   "metadata": {},
   "outputs": [
    {
     "name": "stdout",
     "output_type": "stream",
     "text": [
      "Below are the first 5 rows of the dataset with the new column 'aired_year' \n"
     ]
    },
    {
     "data": {
      "text/html": [
       "<div>\n",
       "<style scoped>\n",
       "    .dataframe tbody tr th:only-of-type {\n",
       "        vertical-align: middle;\n",
       "    }\n",
       "\n",
       "    .dataframe tbody tr th {\n",
       "        vertical-align: top;\n",
       "    }\n",
       "\n",
       "    .dataframe thead th {\n",
       "        text-align: right;\n",
       "    }\n",
       "</style>\n",
       "<table border=\"1\" class=\"dataframe\">\n",
       "  <thead>\n",
       "    <tr style=\"text-align: right;\">\n",
       "      <th></th>\n",
       "      <th>uid</th>\n",
       "      <th>title</th>\n",
       "      <th>genre</th>\n",
       "      <th>aired</th>\n",
       "      <th>episodes</th>\n",
       "      <th>members</th>\n",
       "      <th>popularity</th>\n",
       "      <th>ranked</th>\n",
       "      <th>rating</th>\n",
       "      <th>aired_year</th>\n",
       "    </tr>\n",
       "  </thead>\n",
       "  <tbody>\n",
       "    <tr>\n",
       "      <td>0</td>\n",
       "      <td>28891</td>\n",
       "      <td>Haikyuu!! Second Season</td>\n",
       "      <td>['Comedy', 'Sports', 'Drama', 'School', 'Shoun...</td>\n",
       "      <td>Oct 4, 2015 to Mar 27, 2016</td>\n",
       "      <td>25.0</td>\n",
       "      <td>489888</td>\n",
       "      <td>141</td>\n",
       "      <td>25.0</td>\n",
       "      <td>8.82</td>\n",
       "      <td>2015</td>\n",
       "    </tr>\n",
       "    <tr>\n",
       "      <td>1</td>\n",
       "      <td>23273</td>\n",
       "      <td>Shigatsu wa Kimi no Uso</td>\n",
       "      <td>['Drama', 'Music', 'Romance', 'School', 'Shoun...</td>\n",
       "      <td>Oct 10, 2014 to Mar 20, 2015</td>\n",
       "      <td>22.0</td>\n",
       "      <td>995473</td>\n",
       "      <td>28</td>\n",
       "      <td>24.0</td>\n",
       "      <td>8.83</td>\n",
       "      <td>2014</td>\n",
       "    </tr>\n",
       "    <tr>\n",
       "      <td>2</td>\n",
       "      <td>34599</td>\n",
       "      <td>Made in Abyss</td>\n",
       "      <td>['Sci-Fi', 'Adventure', 'Mystery', 'Drama', 'F...</td>\n",
       "      <td>Jul 7, 2017 to Sep 29, 2017</td>\n",
       "      <td>13.0</td>\n",
       "      <td>581663</td>\n",
       "      <td>98</td>\n",
       "      <td>23.0</td>\n",
       "      <td>8.83</td>\n",
       "      <td>2017</td>\n",
       "    </tr>\n",
       "    <tr>\n",
       "      <td>3</td>\n",
       "      <td>5114</td>\n",
       "      <td>Fullmetal Alchemist: Brotherhood</td>\n",
       "      <td>['Action', 'Military', 'Adventure', 'Comedy', ...</td>\n",
       "      <td>Apr 5, 2009 to Jul 4, 2010</td>\n",
       "      <td>64.0</td>\n",
       "      <td>1615084</td>\n",
       "      <td>4</td>\n",
       "      <td>1.0</td>\n",
       "      <td>9.23</td>\n",
       "      <td>2009</td>\n",
       "    </tr>\n",
       "    <tr>\n",
       "      <td>4</td>\n",
       "      <td>31758</td>\n",
       "      <td>Kizumonogatari III: Reiketsu-hen</td>\n",
       "      <td>['Action', 'Mystery', 'Supernatural', 'Vampire']</td>\n",
       "      <td>Jan 6, 2017</td>\n",
       "      <td>1.0</td>\n",
       "      <td>214621</td>\n",
       "      <td>502</td>\n",
       "      <td>22.0</td>\n",
       "      <td>8.83</td>\n",
       "      <td>2017</td>\n",
       "    </tr>\n",
       "  </tbody>\n",
       "</table>\n",
       "</div>"
      ],
      "text/plain": [
       "     uid                             title  \\\n",
       "0  28891           Haikyuu!! Second Season   \n",
       "1  23273           Shigatsu wa Kimi no Uso   \n",
       "2  34599                     Made in Abyss   \n",
       "3   5114  Fullmetal Alchemist: Brotherhood   \n",
       "4  31758  Kizumonogatari III: Reiketsu-hen   \n",
       "\n",
       "                                               genre  \\\n",
       "0  ['Comedy', 'Sports', 'Drama', 'School', 'Shoun...   \n",
       "1  ['Drama', 'Music', 'Romance', 'School', 'Shoun...   \n",
       "2  ['Sci-Fi', 'Adventure', 'Mystery', 'Drama', 'F...   \n",
       "3  ['Action', 'Military', 'Adventure', 'Comedy', ...   \n",
       "4   ['Action', 'Mystery', 'Supernatural', 'Vampire']   \n",
       "\n",
       "                          aired  episodes  members  popularity  ranked  \\\n",
       "0   Oct 4, 2015 to Mar 27, 2016      25.0   489888         141    25.0   \n",
       "1  Oct 10, 2014 to Mar 20, 2015      22.0   995473          28    24.0   \n",
       "2   Jul 7, 2017 to Sep 29, 2017      13.0   581663          98    23.0   \n",
       "3    Apr 5, 2009 to Jul 4, 2010      64.0  1615084           4     1.0   \n",
       "4                   Jan 6, 2017       1.0   214621         502    22.0   \n",
       "\n",
       "   rating aired_year  \n",
       "0    8.82       2015  \n",
       "1    8.83       2014  \n",
       "2    8.83       2017  \n",
       "3    9.23       2009  \n",
       "4    8.83       2017  "
      ]
     },
     "execution_count": 11,
     "metadata": {},
     "output_type": "execute_result"
    }
   ],
   "source": [
    "# Adding a new column to represent the aired year \n",
    "# Cases: month, year ; Not available ; just 1 year ; 20xx to 20xx \n",
    "aired_years = [] \n",
    "for dates in anime_data['aired']: \n",
    "    if dates == \"Not available\":\n",
    "        aired_years.append(np.nan)\n",
    "    elif len(dates) > 4 and dates[0].isalpha():\n",
    "        start = dates.index(\",\") + 2 \n",
    "        year = dates[start:start+4] #gets the first year  \n",
    "        aired_years.append(int(year))\n",
    "    else:\n",
    "        aired_years.append(dates[0:3])\n",
    "anime_data['aired_year'] = aired_years\n",
    "#anime_data = anime_data.dropna()\n",
    "print(\"Below are the first 5 rows of the dataset with the new column 'aired_year' \")\n",
    "anime_data.head()"
   ]
  },
  {
   "cell_type": "code",
   "execution_count": 12,
   "metadata": {},
   "outputs": [
    {
     "name": "stdout",
     "output_type": "stream",
     "text": [
      "Number of columns: 10\n",
      "Column names:\n",
      "uid\n",
      "title\n",
      "genre\n",
      "aired\n",
      "episodes\n",
      "members\n",
      "popularity\n",
      "ranked\n",
      "rating\n",
      "aired_year\n",
      "Number of observations (anime): 19311\n"
     ]
    }
   ],
   "source": [
    "print(\"Number of columns: \" + str(len(anime_data.columns)))\n",
    "print(\"Column names:\") \n",
    "for column in anime_data.columns: \n",
    "    print(column)\n",
    "print(\"Number of observations (anime): \" + str(len(anime_data)))"
   ]
  },
  {
   "cell_type": "markdown",
   "metadata": {},
   "source": [
    "## anime_data and anime_ep data description\n",
    "\n",
    "Observations: an anime series\n",
    "\n",
    "Attributes: \n",
    "- uid: identifier for each anime set by MAL.\n",
    "- title: title of the anime series in Japanese/English as set by MAL.\n",
    "- synopsis: summary of the anime plot.\n",
    "- genre: genre categories the anime falls in (multiple).\n",
    "- aired: the start and end date of airing of the anime. \"?\" end dates means it is ongoing.\n",
    "- episodes: number of episodes of the anime.\n",
    "- members: number of members who've added the anime to their list: All Anime, Currently Watching, Completed, On Hold, Dropped, or Plan to Watch. The higher the number of members, the higher the popularity (lower numerical value). \n",
    "- popularity: 1-max number of animes ranking system based on the number of members that have it on its list in comparison to the other animes on MAL.\n",
    "- rating: aggregate rating from 0.00 to 10.00 by the MAL community.\n",
    "- ranked: 1-max number of animes ranking system based on its rating to the other animes on MAL.\n",
    "- aired_year: the year of its start aired date.\n",
    "\n",
    "**anime_epdata** has the same column attributes as anime_data, without aired_year. It has less observations because animes with missing episodes were removed."
   ]
  },
  {
   "cell_type": "markdown",
   "metadata": {},
   "source": [
    "### Cleaning: users"
   ]
  },
  {
   "cell_type": "code",
   "execution_count": 13,
   "metadata": {},
   "outputs": [
    {
     "name": "stdout",
     "output_type": "stream",
     "text": [
      "Number of columns: 5\n",
      "Column names:\n",
      "profile\n",
      "gender\n",
      "birthday\n",
      "favorites_anime\n",
      "link\n",
      "Number of observations (users): 81727\n"
     ]
    }
   ],
   "source": [
    "print(\"Number of columns: \" + str(len(users.columns)))\n",
    "print(\"Column names:\")\n",
    "for column in users.columns:\n",
    "    print(column)\n",
    "print(\"Number of observations (users): \" + str(len(users)))"
   ]
  },
  {
   "cell_type": "code",
   "execution_count": 14,
   "metadata": {},
   "outputs": [
    {
     "name": "stdout",
     "output_type": "stream",
     "text": [
      "Number of Columns After Cleaning Data: 5\n",
      "Number of Observations After Cleaning Data: 43636\n"
     ]
    }
   ],
   "source": [
    "users = users.dropna()\n",
    "users = users.rename(columns = {'favorites_anime':'favorites'}) \n",
    "print(\"Number of Columns After Cleaning Data: \" + str(len(users.columns)))\n",
    "print(\"Number of Observations After Cleaning Data: \" + str(len(users)))"
   ]
  },
  {
   "cell_type": "code",
   "execution_count": 15,
   "metadata": {},
   "outputs": [
    {
     "name": "stdout",
     "output_type": "stream",
     "text": [
      "Number of users after dropping users without birth year: 34550\n"
     ]
    },
    {
     "data": {
      "text/html": [
       "<div>\n",
       "<style scoped>\n",
       "    .dataframe tbody tr th:only-of-type {\n",
       "        vertical-align: middle;\n",
       "    }\n",
       "\n",
       "    .dataframe tbody tr th {\n",
       "        vertical-align: top;\n",
       "    }\n",
       "\n",
       "    .dataframe thead th {\n",
       "        text-align: right;\n",
       "    }\n",
       "</style>\n",
       "<table border=\"1\" class=\"dataframe\">\n",
       "  <thead>\n",
       "    <tr style=\"text-align: right;\">\n",
       "      <th></th>\n",
       "      <th>profile</th>\n",
       "      <th>gender</th>\n",
       "      <th>favorites</th>\n",
       "      <th>link</th>\n",
       "      <th>birth_year</th>\n",
       "    </tr>\n",
       "  </thead>\n",
       "  <tbody>\n",
       "    <tr>\n",
       "      <td>0</td>\n",
       "      <td>DesolatePsyche</td>\n",
       "      <td>Male</td>\n",
       "      <td>['33352', '25013', '5530', '33674', '1482', '2...</td>\n",
       "      <td>https://myanimelist.net/profile/DesolatePsyche</td>\n",
       "      <td>1994</td>\n",
       "    </tr>\n",
       "    <tr>\n",
       "      <td>1</td>\n",
       "      <td>baekbeans</td>\n",
       "      <td>Female</td>\n",
       "      <td>['11061', '31964', '853', '20583', '918', '925...</td>\n",
       "      <td>https://myanimelist.net/profile/baekbeans</td>\n",
       "      <td>2000</td>\n",
       "    </tr>\n",
       "    <tr>\n",
       "      <td>2</td>\n",
       "      <td>aManOfCulture99</td>\n",
       "      <td>Male</td>\n",
       "      <td>['4181', '7791', '9617', '5680', '2167', '4382...</td>\n",
       "      <td>https://myanimelist.net/profile/aManOfCulture99</td>\n",
       "      <td>1999</td>\n",
       "    </tr>\n",
       "    <tr>\n",
       "      <td>3</td>\n",
       "      <td>NIGGER_BONER</td>\n",
       "      <td>Male</td>\n",
       "      <td>['11061', '30', '6594', '28701', '10087', '674...</td>\n",
       "      <td>https://myanimelist.net/profile/NIGGER_BONER</td>\n",
       "      <td>1985</td>\n",
       "    </tr>\n",
       "    <tr>\n",
       "      <td>4</td>\n",
       "      <td>jchang</td>\n",
       "      <td>Male</td>\n",
       "      <td>['846', '2904', '5114', '2924', '72']</td>\n",
       "      <td>https://myanimelist.net/profile/jchang</td>\n",
       "      <td>1992</td>\n",
       "    </tr>\n",
       "  </tbody>\n",
       "</table>\n",
       "</div>"
      ],
      "text/plain": [
       "           profile  gender                                          favorites  \\\n",
       "0   DesolatePsyche    Male  ['33352', '25013', '5530', '33674', '1482', '2...   \n",
       "1        baekbeans  Female  ['11061', '31964', '853', '20583', '918', '925...   \n",
       "2  aManOfCulture99    Male  ['4181', '7791', '9617', '5680', '2167', '4382...   \n",
       "3     NIGGER_BONER    Male  ['11061', '30', '6594', '28701', '10087', '674...   \n",
       "4           jchang    Male              ['846', '2904', '5114', '2924', '72']   \n",
       "\n",
       "                                              link birth_year  \n",
       "0   https://myanimelist.net/profile/DesolatePsyche       1994  \n",
       "1        https://myanimelist.net/profile/baekbeans       2000  \n",
       "2  https://myanimelist.net/profile/aManOfCulture99       1999  \n",
       "3     https://myanimelist.net/profile/NIGGER_BONER       1985  \n",
       "4           https://myanimelist.net/profile/jchang       1992  "
      ]
     },
     "execution_count": 15,
     "metadata": {},
     "output_type": "execute_result"
    }
   ],
   "source": [
    "birth_years = []\n",
    "for birthday in users['birthday']: #str \n",
    "    if \",\" in birthday:\n",
    "        comma_index = birthday.index(',') \n",
    "        year = birthday[comma_index + 2:]\n",
    "        birth_years.append(year)\n",
    "    else: \n",
    "        birth_years.append(np.nan)\n",
    "users['birth_year']  = birth_years\n",
    "\n",
    "#dropping users without a birth year\n",
    "users = users.dropna()\n",
    "print(\"Number of users after dropping users without birth year: \" + str(len(users)))\n",
    "users = users.drop(columns = ['birthday'])\n",
    "\n",
    "#resetting the index \n",
    "users = users.reset_index(drop = True)\n",
    "users.head()"
   ]
  },
  {
   "cell_type": "markdown",
   "metadata": {},
   "source": [
    "Observations: singular MAL user (public profile)\n",
    "\n",
    "Attributes: \n",
    "- profile: username of MAL user (set by the user)\n",
    "- gender: gender (male, female, non-binary) of the MAL user (set by the user) \n",
    "- favorites: List of animes the user put into their Anime List - favorites\n",
    "- birth_year: birth year of the user (set by the user)"
   ]
  },
  {
   "cell_type": "markdown",
   "metadata": {},
   "source": [
    "### Exporting cleaned datasets as csv:"
   ]
  },
  {
   "cell_type": "code",
   "execution_count": 19,
   "metadata": {},
   "outputs": [],
   "source": [
    "users.to_csv(\"/Users/tianh/Documents/users.csv\")\n",
    "anime_data.to_csv(\"/Users/tianh/Documents/anime_data.csv\")\n",
    "anime_epdata.to_csv(\"/Users/tianh/Documents/anime_epdata.csv\")"
   ]
  }
 ],
 "metadata": {
  "kernelspec": {
   "display_name": "Python 3",
   "language": "python",
   "name": "python3"
  },
  "language_info": {
   "codemirror_mode": {
    "name": "ipython",
    "version": 3
   },
   "file_extension": ".py",
   "mimetype": "text/x-python",
   "name": "python",
   "nbconvert_exporter": "python",
   "pygments_lexer": "ipython3",
   "version": "3.7.4"
  }
 },
 "nbformat": 4,
 "nbformat_minor": 4
}
