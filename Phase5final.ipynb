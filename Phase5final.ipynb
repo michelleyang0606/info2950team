{
 "cells": [
  {
   "cell_type": "markdown",
   "metadata": {},
   "source": [
    "# Introduction\n",
    "Anime is a type of animation originating from Japan, and is a part of the country's signature \"otaku\" culture that consists of manga and anime fanatics. Some well-known classics include \"One Piece\", \"Pokemon\", \"Detective Conan\", and works by Studio Ghibli such as \"Spirited Away\". Since its emergence at the start of the 20th century, anime has significantly impacted Japan's popular culture and economy. Increasingly, the influence of anime is not limited to just Japan as anime conventions are held around the world. Anime Expo, held in Los Angeles, California, is the largest anime convention overseas and boasts a yearly attendance of 107,658 people (https://largest.org/entertainment/anime-conventions-usa/). \n",
    "\n",
    "In light of anime's broad audience and its economic and cultural impact, the goal of this analysis is to dissect the anime consumer base. Specifically, we will look into the consumer demographics and various characteristics of anime that can influence its success, such as genres and duration of the anime. \n",
    "\n",
    "We found that overall, there is a distinction between the genres preference between males and females and that the genres studios are targetting are not in line with what many viewers prefer. We also found that duration of anime seasons seemed to have no relationship with people's desire and satisfaction for an anime. Through these analyses, anime studios can develop more effective approaches to maximizing rating and viewership, such as focusing more on certain genres and plots. The anime that these studios subsequently produce may then bring about the next wave of pop cultural notes.\n",
    "____"
   ]
  },
  {
   "cell_type": "markdown",
   "metadata": {},
   "source": [
    "# Data Description\n",
    "\n",
    "### What are the observations (rows) and the attributes (columns)?\n",
    "**1. anime_data:** \n",
    "\n",
    "Observations: anime series\n",
    "\n",
    "Attributes: \n",
    "- **uid**: identifier for each anime set by MAL.\n",
    "- **title**: title of the anime series in Japanese/English as set by MAL.\n",
    "- **genre**: genre categories the anime falls in (multiple).\n",
    "- **aired**: the start and end date of airing of the anime. \"?\" end dates means it is ongoing.\n",
    "- **episodes**: number of episodes of the anime.\n",
    "- **members**: number of members who've added the anime to their list: All Anime, Currently Watching, Completed, On Hold, Dropped, or Plan to Watch. The higher the number of members, the higher the popularity (lower numerical value).\n",
    "- **popularity**: A 1 to maximum number of animes ranking system based on the number of members that have it on its list in comparison to the other animes on MAL.\n",
    "- **rating**: aggregate rating from 0.00 to 10.00 by the MAL community.\n",
    "- **ranked**: A 1 to maximum number of animes ranking system based on its rating to the other animes on MAL.\n",
    "- **aired_year**: the year of its start aired date.\n",
    "\n",
    "**2. anime_epdata:** \n",
    "\n",
    "anime_epdata has the same column attributes as anime_data, without aired_year. It has less observations because animes with missing episodes were removed.\n",
    "\n",
    "\n",
    "\n",
    "**3. users:**\n",
    "\n",
    "Observations: singular MAL user (public profile)\n",
    "\n",
    "Attributes: \n",
    "- **profile**: username of MAL user (set by the user)\n",
    "- **gender**: gender (male, female, non-binary) of the MAL user (set by the user) \n",
    "- **favorites**: List of animes the user put into their Anime List - favorites\n",
    "- **birth_year**: birth year of the user (set by the user)\n",
    "\n",
    "### Who created the datasets?\n",
    "All datasets were obtained from Kaggle. These datasets are collected by Kaggle users from by web-crawling MyAnimeList (MAL) https://myanimelist.net/ and the unofficial Jikan API. \n",
    "\n",
    "### Why were the datasets created? \n",
    "Users on Kaggle created these datasets for personal/public interests and are not funded. \n",
    "\n",
    "### What processes might have influenced what data was observed and recorded and what was not? \n",
    "The Kaggle user had created the dataset to provide a general overview of the information available on MyAnimeList, so a lot of the most important information (ex: anime title, id, synopsis, genre, number of episodes, air date) were recorded. In a possible attempt to make the dataset as concise as possible, other less important information (ex: recommendations for similar anime titles, videos, news, forum, featured, pictures) were excluded. \n",
    "\n",
    "### What preprocessing was done, and how did the data come to be in the form that you are using? \n",
    "After obtaining them from Kaggle, we imported and cleaned the dataset to create the modified versions (\"anime_data.csv\", \"anime_epdata.csv\", \"users.csv\"). In preprocessing, we renamed columns, deleted missing information, and removed columns that we would not be using. Specific details on the cleaning process can be found in the Appendix.\n",
    "\n",
    "### Where can your raw source data be found, if applicable?\n",
    "https://www.kaggle.com/marlesson/myanimelist-dataset-animes-profiles-reviews?select=reviews.csv\n",
    "\n",
    "- animes_marlesson_may20.csv\n",
    "- profiles_marlesson_may20.csv\n",
    "___"
   ]
  },
  {
   "cell_type": "markdown",
   "metadata": {},
   "source": [
    "# Pre-registration Statement\n",
    "\n",
    "#### Analysis 1: The relationship between gender and genre preferences\n",
    "\n",
    "Is it true that males tend to gravitate towards different genres than females do? If so, understanding the difference in male v. female preferences will be critical in helping anime studios cater to their intended audience, or attempt to create an anime that can appeal to both genders. Our first analysis will explore whether this gendered difference does in fact exist in anime genre preferences.\n",
    "\n",
    "From the user.csv, we can get information from around 34,550 users out of 81,000 users about their gender (binary M/F) and favorite animes. In the anime_marlesson_jan20.csv, we have information about the multiple genres each anime is tagged by. We would use get_dummies on the gender, and create separate dataframes for males and females. Then, within the dataframes, we would go through each user and look at the genre tags associated with each of the anime in their favorites list. This would allow us to see a distribution of the frequency in which a particular genre appears for male v. female favorites. We would expect that males are more likely to watch genres such as action and adventure than females, and that females are more likely to watch genres such as romance.\n",
    "\n",
    "\n",
    "#### Analysis 2: The relationship between rank and number of episodes\n",
    "\n",
    "Most animes are around 12, 24, or 25 episodes long. Does number of episodes impact the satisfaction people have (the score they rate) for an anime?  \n",
    "\n",
    "From anime_marlesson_jan20.csv, we can get the information on an anime's rank and the number of episodes that it has. We will perform a linear regression analysis to find the correlation between the number of episodes and the anime's resulting rank. While we expect that animes that are ranked higher may get more episodes, it is also possible that the anime gets more episodes because people ranked it highly, or because it was \"mainstream.\" To better understand the assumed positive correlation between rank and number of episodes, we could then perform a multivariable regression analysis, with rank as the measured variable, with factors such as popularity (which is a measure of how \"mainstream\" it is), number of members, and it's score rated by MAL members.\n",
    "\n",
    "*Note*: Rank and population are ordinal data where they represent a categorical scale where there is no linear relationship in the difference between each value. They are also inversed in that the lower the rank and popularity, for example a ranking or popularity of 1, the better the anime. \n",
    "___"
   ]
  },
  {
   "cell_type": "markdown",
   "metadata": {},
   "source": [
    "# Data Analysis\n",
    "\n",
    "___"
   ]
  },
  {
   "cell_type": "code",
   "execution_count": 1,
   "metadata": {},
   "outputs": [],
   "source": [
    "import numpy as np\n",
    "import pandas as pd\n",
    "import matplotlib.pyplot as plt\n",
    "import seaborn as sns\n",
    "import ast\n",
    "from scipy import stats\n",
    "\n",
    "from sklearn.linear_model import LinearRegression\n",
    "from sklearn.linear_model import LogisticRegression\n",
    "from sklearn.model_selection import train_test_split\n",
    "\n",
    "\n",
    "#Style\n",
    "plt.style.use(\"seaborn\")"
   ]
  },
  {
   "cell_type": "code",
   "execution_count": 2,
   "metadata": {},
   "outputs": [],
   "source": [
    "#importing datasets\n",
    "anime_data = pd.read_csv(\"anime_data.csv\")\n",
    "anime_epdata = pd.read_csv(\"anime_epdata.csv\")\n",
    "users = pd.read_csv(\"users.csv\")"
   ]
  },
  {
   "cell_type": "markdown",
   "metadata": {},
   "source": [
    "## Part 1: User Demographics "
   ]
  },
  {
   "cell_type": "markdown",
   "metadata": {},
   "source": [
    "To start off our analysis, we will first look at the demographics of MyAnimeList's users. \n",
    "#### Gender Distribution"
   ]
  },
  {
   "cell_type": "code",
   "execution_count": 3,
   "metadata": {
    "scrolled": true
   },
   "outputs": [
    {
     "data": {
      "image/png": "[encoded data removed]",
      "text/plain": [
       "<Figure size 432x288 with 1 Axes>"
      ]
     },
     "metadata": {
      "needs_background": "light"
     },
     "output_type": "display_data"
    }
   ],
   "source": [
    "plt.hist(users['gender'])\n",
    "plt.title(\"Gender Distribution of Users on MyAnimeList\")\n",
    "plt.xlabel(\"Gender\") and plt.ylabel(\"Number of Users\")\n",
    "plt.show()"
   ]
  },
  {
   "cell_type": "code",
   "execution_count": 4,
   "metadata": {},
   "outputs": [
    {
     "name": "stdout",
     "output_type": "stream",
     "text": [
      "Number of Male Users: 24311\n",
      "Number of Female Users: 9773\n",
      "Number of Non-Binary Users: 466\n"
     ]
    }
   ],
   "source": [
    "male_count = len(users[users['gender'] == 'Male'])\n",
    "female_count = len(users[users['gender'] == \"Female\"])\n",
    "non_bi_count = len(users[users['gender'] == \"Non-Binary\"])\n",
    "print(\"Number of Male Users: {}\".format(male_count))\n",
    "print(\"Number of Female Users: {}\".format(female_count))\n",
    "print(\"Number of Non-Binary Users: {}\".format(non_bi_count))"
   ]
  },
  {
   "cell_type": "markdown",
   "metadata": {},
   "source": [
    "From the above histogram and printed values, we can see that there are approximately 2.5 times more male users (24311 males) than female users (9773 females), and non-binary users make up the smallest portion of the user population (466 non-binary). "
   ]
  },
  {
   "cell_type": "markdown",
   "metadata": {},
   "source": [
    "#### Age Distribution of Users"
   ]
  },
  {
   "cell_type": "code",
   "execution_count": 5,
   "metadata": {
    "scrolled": true
   },
   "outputs": [
    {
     "name": "stderr",
     "output_type": "stream",
     "text": [
      "C:\\ProgramData\\Anaconda3\\lib\\site-packages\\ipykernel_launcher.py:3: SettingWithCopyWarning: \n",
      "A value is trying to be set on a copy of a slice from a DataFrame\n",
      "\n",
      "See the caveats in the documentation: http://pandas.pydata.org/pandas-docs/stable/user_guide/indexing.html#returning-a-view-versus-a-copy\n",
      "  This is separate from the ipykernel package so we can avoid doing imports until\n"
     ]
    }
   ],
   "source": [
    "#converting the year (str) to year (int)\n",
    "for i in range(len(users['birth_year'])):\n",
    "    users['birth_year'][i] = int(users['birth_year'][i])"
   ]
  },
  {
   "cell_type": "code",
   "execution_count": 6,
   "metadata": {
    "scrolled": true
   },
   "outputs": [
    {
     "data": {
      "image/png": "[encoded data removed]",
      "text/plain": [
       "<Figure size 432x288 with 1 Axes>"
      ]
     },
     "metadata": {
      "needs_background": "light"
     },
     "output_type": "display_data"
    }
   ],
   "source": [
    "plt.hist(users['birth_year'].values)\n",
    "plt.title(\"Age Distribution of Users on MyAnimeList\")\n",
    "plt.xlabel(\"Birth Year\") and plt.ylabel(\"Number of Users\")\n",
    "plt.show()"
   ]
  },
  {
   "cell_type": "code",
   "execution_count": 7,
   "metadata": {
    "scrolled": false
   },
   "outputs": [
    {
     "name": "stdout",
     "output_type": "stream",
     "text": [
      "Highest birth year: 2021\n",
      "Lowest birth year: 1930\n"
     ]
    },
    {
     "data": {
      "text/plain": [
       "count    34550.000000\n",
       "mean      1993.880434\n",
       "std          7.782989\n",
       "min       1930.000000\n",
       "25%       1991.000000\n",
       "50%       1995.000000\n",
       "75%       1998.000000\n",
       "max       2021.000000\n",
       "Name: birth_year, dtype: float64"
      ]
     },
     "execution_count": 7,
     "metadata": {},
     "output_type": "execute_result"
    }
   ],
   "source": [
    "print(\"Highest birth year: \" + str(max(users['birth_year'])))\n",
    "print(\"Lowest birth year: \" + str(min(users['birth_year'])))\n",
    "users['birth_year'].describe()"
   ]
  },
  {
   "cell_type": "markdown",
   "metadata": {},
   "source": [
    "The above histogram shows that the majority of users are clustered around birth years in the 1990s and 2000s, although there are noticeable outliers with some users noting birth years of below 1950 and above 2007. Since MyAnimeList's user policy states that users must be at least 13 years of age, we excluded users born after 2007  in our analysis below. We also ommitted users born before 1960 since those users are stark outliers. "
   ]
  },
  {
   "cell_type": "markdown",
   "metadata": {},
   "source": [
    "Below, we can more clearly see that the majority of users were born sometime between 1995 and early 2000s. "
   ]
  },
  {
   "cell_type": "code",
   "execution_count": 8,
   "metadata": {
    "scrolled": false
   },
   "outputs": [
    {
     "data": {
      "image/png": "[encoded data removed]",
      "text/plain": [
       "<Figure size 432x288 with 1 Axes>"
      ]
     },
     "metadata": {
      "needs_background": "light"
     },
     "output_type": "display_data"
    }
   ],
   "source": [
    "plt.hist(users['birth_year'].values)\n",
    "plt.title(\"Age Distribution of Users on MyAnimeList\")\n",
    "plt.xlabel(\"Birth Year\") and plt.ylabel(\"Number of Users\")\n",
    "plt.xlim([1960, 2007])\n",
    "plt.show()"
   ]
  },
  {
   "cell_type": "markdown",
   "metadata": {},
   "source": [
    "It is interesting to note that there are significantly fewer users on MyAnimeList born after the early 2000s (starting from around 2003) than there were users born before the early 2000s. This could be because users born after the early 2000s have not yet reached the age where they would use this site. Another explanation could be that MyAnimeList (launched in 2004) has decreased in popularity among the younger generation, perhaps due to the rise of competing platforms such as Crunchyroll (launched in 2006) which allows users to both review and watch anime on the platform, whereas MyAnimeList serves solely as a discussion forum. "
   ]
  },
  {
   "cell_type": "code",
   "execution_count": 9,
   "metadata": {
    "scrolled": false
   },
   "outputs": [
    {
     "name": "stdout",
     "output_type": "stream",
     "text": [
      "1997    3023\n",
      "dtype: int64\n"
     ]
    }
   ],
   "source": [
    "years = pd.Series(users['birth_year'].values)\n",
    "year_counts = years.value_counts(ascending = False)\n",
    "print(year_counts.head(1))"
   ]
  },
  {
   "cell_type": "markdown",
   "metadata": {},
   "source": [
    "The above analysis reveals that users born in 1997 make up a majority of the users on MyAnimeList, which indicates that a majority of users are 23 years old as of 2020. "
   ]
  },
  {
   "cell_type": "markdown",
   "metadata": {},
   "source": [
    "## Part 2: Genre Distribution"
   ]
  },
  {
   "cell_type": "code",
   "execution_count": 10,
   "metadata": {},
   "outputs": [
    {
     "name": "stdout",
     "output_type": "stream",
     "text": [
      "Number of Unique Anime Genres: 43\n"
     ]
    }
   ],
   "source": [
    "genre_dict = {}\n",
    "for anime_tags in anime_data['genre']:\n",
    "    anime_tags = ast.literal_eval(anime_tags)\n",
    "    for genre in anime_tags:\n",
    "        if genre not in genre_dict: \n",
    "            genre_dict[genre] = 1 \n",
    "        else:\n",
    "            genre_dict[genre] += 1 \n",
    "print(\"Number of Unique Anime Genres: \" + str(len(genre_dict)))"
   ]
  },
  {
   "cell_type": "code",
   "execution_count": 11,
   "metadata": {},
   "outputs": [],
   "source": [
    "genres =[key for key in genre_dict]\n",
    "genre_counts=[genre_dict[key] for key in genre_dict]"
   ]
  },
  {
   "cell_type": "code",
   "execution_count": 12,
   "metadata": {
    "scrolled": false
   },
   "outputs": [
    {
     "name": "stdout",
     "output_type": "stream",
     "text": [
      "Below is a dataframe showcasing genres and their counts. Genres with highest counts are on the top.\n",
      "\n",
      "Genre with highest count: Comedy at 6461 counts\n",
      "Genre with lowest count: Yaoi at 78 counts\n"
     ]
    },
    {
     "data": {
      "text/html": [
       "<div>\n",
       "<style scoped>\n",
       "    .dataframe tbody tr th:only-of-type {\n",
       "        vertical-align: middle;\n",
       "    }\n",
       "\n",
       "    .dataframe tbody tr th {\n",
       "        vertical-align: top;\n",
       "    }\n",
       "\n",
       "    .dataframe thead th {\n",
       "        text-align: right;\n",
       "    }\n",
       "</style>\n",
       "<table border=\"1\" class=\"dataframe\">\n",
       "  <thead>\n",
       "    <tr style=\"text-align: right;\">\n",
       "      <th></th>\n",
       "      <th>genre</th>\n",
       "      <th>counts</th>\n",
       "    </tr>\n",
       "  </thead>\n",
       "  <tbody>\n",
       "    <tr>\n",
       "      <td>0</td>\n",
       "      <td>Comedy</td>\n",
       "      <td>6461</td>\n",
       "    </tr>\n",
       "    <tr>\n",
       "      <td>1</td>\n",
       "      <td>Action</td>\n",
       "      <td>4215</td>\n",
       "    </tr>\n",
       "    <tr>\n",
       "      <td>2</td>\n",
       "      <td>Fantasy</td>\n",
       "      <td>3466</td>\n",
       "    </tr>\n",
       "    <tr>\n",
       "      <td>3</td>\n",
       "      <td>Adventure</td>\n",
       "      <td>3143</td>\n",
       "    </tr>\n",
       "    <tr>\n",
       "      <td>4</td>\n",
       "      <td>Drama</td>\n",
       "      <td>3004</td>\n",
       "    </tr>\n",
       "    <tr>\n",
       "      <td>5</td>\n",
       "      <td>Sci-Fi</td>\n",
       "      <td>2832</td>\n",
       "    </tr>\n",
       "    <tr>\n",
       "      <td>6</td>\n",
       "      <td>Hentai</td>\n",
       "      <td>2574</td>\n",
       "    </tr>\n",
       "    <tr>\n",
       "      <td>7</td>\n",
       "      <td>Kids</td>\n",
       "      <td>2549</td>\n",
       "    </tr>\n",
       "    <tr>\n",
       "      <td>8</td>\n",
       "      <td>Shounen</td>\n",
       "      <td>2322</td>\n",
       "    </tr>\n",
       "    <tr>\n",
       "      <td>9</td>\n",
       "      <td>Romance</td>\n",
       "      <td>2152</td>\n",
       "    </tr>\n",
       "  </tbody>\n",
       "</table>\n",
       "</div>"
      ],
      "text/plain": [
       "       genre  counts\n",
       "0     Comedy    6461\n",
       "1     Action    4215\n",
       "2    Fantasy    3466\n",
       "3  Adventure    3143\n",
       "4      Drama    3004\n",
       "5     Sci-Fi    2832\n",
       "6     Hentai    2574\n",
       "7       Kids    2549\n",
       "8    Shounen    2322\n",
       "9    Romance    2152"
      ]
     },
     "execution_count": 12,
     "metadata": {},
     "output_type": "execute_result"
    }
   ],
   "source": [
    "genre_distribution = pd.DataFrame(columns = ['genre', 'counts'])\n",
    "genre_distribution['genre'] = genres\n",
    "genre_distribution['counts'] = genre_counts\n",
    "genre_distribution = genre_distribution.sort_values(by = 'counts', ascending = False)\n",
    "genre_distribution = genre_distribution.reset_index(drop = True)\n",
    "print(\"Below is a dataframe showcasing genres and their counts. Genres with highest counts are on the top.\")\n",
    "print(\"\\nGenre with highest count: \" + genre_distribution['genre'][0] + \" at \" + str(genre_distribution['counts'][0]) + \" counts\")\n",
    "print(\"Genre with lowest count: \" + genre_distribution['genre'][len(genre_distribution) - 1] + \" at \" + str(genre_distribution['counts'][len(genre_distribution) - 1]) + \" counts\")\n",
    "genre_distribution.head(10)"
   ]
  },
  {
   "cell_type": "markdown",
   "metadata": {},
   "source": [
    "The above analysis shows the number of anime that have a specific genre tag. Below is a visual representation of that information. "
   ]
  },
  {
   "cell_type": "code",
   "execution_count": 13,
   "metadata": {},
   "outputs": [
    {
     "data": {
      "image/png": "[encoded data removed]",
      "text/plain": [
       "<Figure size 1440x1080 with 1 Axes>"
      ]
     },
     "metadata": {
      "needs_background": "light"
     },
     "output_type": "display_data"
    }
   ],
   "source": [
    "f, ax = plt.subplots(1, 1, figsize = (20, 15))\n",
    "plt.barh(genre_distribution['genre'], genre_distribution['counts'])\n",
    "plt.title(\"Genre Distribution of Anime\")\n",
    "plt.xlabel(\"Number of Anime\") and plt.ylabel(\"Genre\")\n",
    "plt.show()"
   ]
  },
  {
   "cell_type": "markdown",
   "metadata": {},
   "source": [
    "From the table and the graph, we can see that the top 5 most common genre tags are:\n",
    "1. Comedy \n",
    "2. Action \n",
    "3. Fantasy \n",
    "4. Drama\n",
    "5. Sci-fi \n",
    "\n",
    "This indicates that most anime series incorporate at least one (and likely more than one) of the above 5 themes. "
   ]
  },
  {
   "cell_type": "markdown",
   "metadata": {},
   "source": [
    "## Part 3: Analysis #1 - Gender Differences in Anime Genre Preference"
   ]
  },
  {
   "cell_type": "markdown",
   "metadata": {},
   "source": [
    "In our analysis of the data, we hope to understand any potential differences in anime genre preferences according to a user's gender. To do so, we will look at the gender of the user and the genres of the anime that they have indicated are their favorites."
   ]
  },
  {
   "cell_type": "markdown",
   "metadata": {},
   "source": [
    "#### Extracting anime ID from the Users' String of Anime Favorites"
   ]
  },
  {
   "cell_type": "markdown",
   "metadata": {},
   "source": [
    "The users dataframe presents the anime ID of user favorites in strings. Below, we extract the integer value of those IDs."
   ]
  },
  {
   "cell_type": "code",
   "execution_count": 14,
   "metadata": {},
   "outputs": [],
   "source": [
    "### function to extract uid from string\n",
    "def extract_uid(string): \n",
    "    final_list = []\n",
    "    if '[]' not in string: #ignoring empty lists\n",
    "        fav_list = string.strip('[]')\n",
    "        fav_list = fav_list.split(\"'\")\n",
    "        for anime_id in fav_list:\n",
    "            if anime_id.isdigit():\n",
    "                final_list.append(int(anime_id))\n",
    "    return(final_list)"
   ]
  },
  {
   "cell_type": "code",
   "execution_count": 15,
   "metadata": {},
   "outputs": [],
   "source": [
    "#Running function on all users' favorites \n",
    "fav_lists = []\n",
    "for each in users['favorites']:\n",
    "    fav_lists.append(extract_uid(each))\n",
    "users['favorites'] = fav_lists"
   ]
  },
  {
   "cell_type": "markdown",
   "metadata": {},
   "source": [
    "#### Creating Separate Dataframes for Males v. Females"
   ]
  },
  {
   "cell_type": "code",
   "execution_count": 16,
   "metadata": {},
   "outputs": [],
   "source": [
    "#dummy for gender and genre \n",
    "genre_indicator = pd.get_dummies(genres)\n",
    "gender_indicator = pd.get_dummies(users['gender']) #1 = female, 0 = male \n",
    "users['gender'] = gender_indicator"
   ]
  },
  {
   "cell_type": "code",
   "execution_count": 17,
   "metadata": {},
   "outputs": [],
   "source": [
    "#separate dataframe for male v. female users\n",
    "female_users = users[users.gender == 1 ]\n",
    "male_users = users[users.gender == 0]"
   ]
  },
  {
   "cell_type": "code",
   "execution_count": 18,
   "metadata": {},
   "outputs": [],
   "source": [
    "#pd Series containing all female favorites \n",
    "female_favs = []\n",
    "for each in female_users['favorites']: \n",
    "    for anime in each:\n",
    "        female_favs.append(anime)\n",
    "female_favs = pd.Series(female_favs)\n",
    "\n",
    "#pd Series containing the all male favorites \n",
    "male_favs = []\n",
    "for each in male_users['favorites']: \n",
    "    for anime in each:\n",
    "        male_favs.append(anime)\n",
    "male_favs = pd.Series(male_favs)"
   ]
  },
  {
   "cell_type": "markdown",
   "metadata": {},
   "source": [
    "#### Top 10 Male v. Female Favorites"
   ]
  },
  {
   "cell_type": "code",
   "execution_count": 19,
   "metadata": {
    "scrolled": true
   },
   "outputs": [
    {
     "name": "stdout",
     "output_type": "stream",
     "text": [
      "Anime ID of Top 10 female favorites: \n",
      "[5114, 1535, 853, 11061, 16498, 9756, 9253, 21, 1575]\n",
      "\n",
      "UID and Titles of Top 10 Female Favorites (Ordered from Most Counts to Least Counts):\n"
     ]
    },
    {
     "data": {
      "text/html": [
       "<div>\n",
       "<style scoped>\n",
       "    .dataframe tbody tr th:only-of-type {\n",
       "        vertical-align: middle;\n",
       "    }\n",
       "\n",
       "    .dataframe tbody tr th {\n",
       "        vertical-align: top;\n",
       "    }\n",
       "\n",
       "    .dataframe thead th {\n",
       "        text-align: right;\n",
       "    }\n",
       "</style>\n",
       "<table border=\"1\" class=\"dataframe\">\n",
       "  <thead>\n",
       "    <tr style=\"text-align: right;\">\n",
       "      <th></th>\n",
       "      <th>uid</th>\n",
       "      <th>title</th>\n",
       "    </tr>\n",
       "  </thead>\n",
       "  <tbody>\n",
       "    <tr>\n",
       "      <td>0</td>\n",
       "      <td>5114</td>\n",
       "      <td>Fullmetal Alchemist: Brotherhood</td>\n",
       "    </tr>\n",
       "    <tr>\n",
       "      <td>1</td>\n",
       "      <td>1535</td>\n",
       "      <td>Death Note</td>\n",
       "    </tr>\n",
       "    <tr>\n",
       "      <td>2</td>\n",
       "      <td>853</td>\n",
       "      <td>Ouran Koukou Host Club</td>\n",
       "    </tr>\n",
       "    <tr>\n",
       "      <td>3</td>\n",
       "      <td>11061</td>\n",
       "      <td>Hunter x Hunter (2011)</td>\n",
       "    </tr>\n",
       "    <tr>\n",
       "      <td>4</td>\n",
       "      <td>16498</td>\n",
       "      <td>Shingeki no Kyojin</td>\n",
       "    </tr>\n",
       "    <tr>\n",
       "      <td>5</td>\n",
       "      <td>9756</td>\n",
       "      <td>Mahou Shoujo Madoka★Magica</td>\n",
       "    </tr>\n",
       "    <tr>\n",
       "      <td>6</td>\n",
       "      <td>9253</td>\n",
       "      <td>Steins;Gate</td>\n",
       "    </tr>\n",
       "    <tr>\n",
       "      <td>7</td>\n",
       "      <td>21</td>\n",
       "      <td>One Piece</td>\n",
       "    </tr>\n",
       "    <tr>\n",
       "      <td>8</td>\n",
       "      <td>1575</td>\n",
       "      <td>Code Geass: Hangyaku no Lelouch</td>\n",
       "    </tr>\n",
       "    <tr>\n",
       "      <td>9</td>\n",
       "      <td>20583</td>\n",
       "      <td>Haikyuu!!</td>\n",
       "    </tr>\n",
       "  </tbody>\n",
       "</table>\n",
       "</div>"
      ],
      "text/plain": [
       "     uid                             title\n",
       "0   5114  Fullmetal Alchemist: Brotherhood\n",
       "1   1535                        Death Note\n",
       "2    853            Ouran Koukou Host Club\n",
       "3  11061            Hunter x Hunter (2011)\n",
       "4  16498                Shingeki no Kyojin\n",
       "5   9756        Mahou Shoujo Madoka★Magica\n",
       "6   9253                       Steins;Gate\n",
       "7     21                         One Piece\n",
       "8   1575   Code Geass: Hangyaku no Lelouch\n",
       "9  20583                         Haikyuu!!"
      ]
     },
     "execution_count": 19,
     "metadata": {},
     "output_type": "execute_result"
    }
   ],
   "source": [
    "ff_count = female_favs.value_counts().index.tolist()\n",
    "print(\"Anime ID of Top 10 female favorites: \")\n",
    "ff_count = ff_count[0:10]\n",
    "print(ff_count[0:9])\n",
    "\n",
    "top10_titles = []\n",
    "f_top10_df = pd.DataFrame(columns = ['uid', 'title'])\n",
    "f_top10_df['uid'] = ff_count\n",
    "for anime_id in ff_count: \n",
    "    anime = anime_data[anime_data.uid == anime_id].drop_duplicates() \n",
    "    index = anime.index[0]\n",
    "    title = anime_data['title'][index]\n",
    "    top10_titles.append(title)\n",
    "f_top10_df['title'] = top10_titles\n",
    "print(\"\\nUID and Titles of Top 10 Female Favorites (Ordered from Most Counts to Least Counts):\")\n",
    "f_top10_df.head(10)\n",
    "\n",
    "\n",
    "\n"
   ]
  },
  {
   "cell_type": "code",
   "execution_count": 20,
   "metadata": {
    "scrolled": true
   },
   "outputs": [
    {
     "name": "stdout",
     "output_type": "stream",
     "text": [
      "\n",
      "Top 10 Most observed genres of the top 10 female favorites: \n",
      "Drama          6\n",
      "Shounen        6\n",
      "Action         5\n",
      "Fantasy        4\n",
      "Comedy         4\n",
      "Super Power    4\n",
      "Military       3\n",
      "Thriller       3\n",
      "School         3\n",
      "Adventure      3\n",
      "dtype: int64\n"
     ]
    }
   ],
   "source": [
    "#top10 genres\n",
    "ftop10_genres = []\n",
    "for uid in f_top10_df['uid']:\n",
    "    anime = anime_data[anime_data.uid == uid].drop_duplicates()\n",
    "    index = anime.index[0]\n",
    "    anime_genres = anime_data['genre'][index]\n",
    "    anime_genres = anime_genres.strip(\"[]\")\n",
    "    anime_genres = anime_genres.split(\", \")\n",
    "    for i in range(len(anime_genres)):\n",
    "        anime_genres[i] = anime_genres[i].strip(\"''\")\n",
    "        ftop10_genres.append(anime_genres[i])\n",
    "ftop10_genres = pd.Series(ftop10_genres) #all genre tags of male top10 \n",
    "print(\"\\nTop 10 Most observed genres of the top 10 female favorites: \")\n",
    "fgenres = ftop10_genres.value_counts()[:10]\n",
    "print(fgenres)"
   ]
  },
  {
   "cell_type": "code",
   "execution_count": 21,
   "metadata": {
    "scrolled": false
   },
   "outputs": [
    {
     "name": "stdout",
     "output_type": "stream",
     "text": [
      "Anime ID of Top 10 male favorites: \n",
      "[9253, 5114, 4181, 1535, 2001, 11061, 1575, 1, 30]\n",
      "\n",
      "UID and Titles of Top 10 Male Favorites (Ordered from Most Counts to Least Counts):\n"
     ]
    },
    {
     "data": {
      "text/html": [
       "<div>\n",
       "<style scoped>\n",
       "    .dataframe tbody tr th:only-of-type {\n",
       "        vertical-align: middle;\n",
       "    }\n",
       "\n",
       "    .dataframe tbody tr th {\n",
       "        vertical-align: top;\n",
       "    }\n",
       "\n",
       "    .dataframe thead th {\n",
       "        text-align: right;\n",
       "    }\n",
       "</style>\n",
       "<table border=\"1\" class=\"dataframe\">\n",
       "  <thead>\n",
       "    <tr style=\"text-align: right;\">\n",
       "      <th></th>\n",
       "      <th>uid</th>\n",
       "      <th>title</th>\n",
       "    </tr>\n",
       "  </thead>\n",
       "  <tbody>\n",
       "    <tr>\n",
       "      <td>0</td>\n",
       "      <td>9253</td>\n",
       "      <td>Steins;Gate</td>\n",
       "    </tr>\n",
       "    <tr>\n",
       "      <td>1</td>\n",
       "      <td>5114</td>\n",
       "      <td>Fullmetal Alchemist: Brotherhood</td>\n",
       "    </tr>\n",
       "    <tr>\n",
       "      <td>2</td>\n",
       "      <td>4181</td>\n",
       "      <td>Clannad: After Story</td>\n",
       "    </tr>\n",
       "    <tr>\n",
       "      <td>3</td>\n",
       "      <td>1535</td>\n",
       "      <td>Death Note</td>\n",
       "    </tr>\n",
       "    <tr>\n",
       "      <td>4</td>\n",
       "      <td>2001</td>\n",
       "      <td>Tengen Toppa Gurren Lagann</td>\n",
       "    </tr>\n",
       "    <tr>\n",
       "      <td>5</td>\n",
       "      <td>11061</td>\n",
       "      <td>Hunter x Hunter (2011)</td>\n",
       "    </tr>\n",
       "    <tr>\n",
       "      <td>6</td>\n",
       "      <td>1575</td>\n",
       "      <td>Code Geass: Hangyaku no Lelouch</td>\n",
       "    </tr>\n",
       "    <tr>\n",
       "      <td>7</td>\n",
       "      <td>1</td>\n",
       "      <td>Cowboy Bebop</td>\n",
       "    </tr>\n",
       "    <tr>\n",
       "      <td>8</td>\n",
       "      <td>30</td>\n",
       "      <td>Neon Genesis Evangelion</td>\n",
       "    </tr>\n",
       "    <tr>\n",
       "      <td>9</td>\n",
       "      <td>21</td>\n",
       "      <td>One Piece</td>\n",
       "    </tr>\n",
       "  </tbody>\n",
       "</table>\n",
       "</div>"
      ],
      "text/plain": [
       "     uid                             title\n",
       "0   9253                       Steins;Gate\n",
       "1   5114  Fullmetal Alchemist: Brotherhood\n",
       "2   4181              Clannad: After Story\n",
       "3   1535                        Death Note\n",
       "4   2001        Tengen Toppa Gurren Lagann\n",
       "5  11061            Hunter x Hunter (2011)\n",
       "6   1575   Code Geass: Hangyaku no Lelouch\n",
       "7      1                      Cowboy Bebop\n",
       "8     30           Neon Genesis Evangelion\n",
       "9     21                         One Piece"
      ]
     },
     "execution_count": 21,
     "metadata": {},
     "output_type": "execute_result"
    }
   ],
   "source": [
    "mf_count = male_favs.value_counts().index.tolist()\n",
    "print(\"Anime ID of Top 10 male favorites: \")\n",
    "mf_count = mf_count[0:10]\n",
    "print(mf_count[0:9])\n",
    "\n",
    "#titles of top10\n",
    "top10_titles = []\n",
    "m_top10_df = pd.DataFrame(columns = ['uid', 'title'])\n",
    "m_top10_df['uid'] = mf_count\n",
    "for anime_id in mf_count: \n",
    "    anime = anime_data[anime_data.uid == anime_id].drop_duplicates() \n",
    "    index = anime.index[0]\n",
    "    title = anime_data['title'][index]\n",
    "    top10_titles.append(title)\n",
    "m_top10_df['title'] = top10_titles\n",
    "print(\"\\nUID and Titles of Top 10 Male Favorites (Ordered from Most Counts to Least Counts):\")\n",
    "m_top10_df.head(10)\n",
    "\n"
   ]
  },
  {
   "cell_type": "code",
   "execution_count": 22,
   "metadata": {},
   "outputs": [
    {
     "name": "stdout",
     "output_type": "stream",
     "text": [
      "\n",
      "Top 10 Most observed genres of the top 10 male favorites: \n",
      "Action         7\n",
      "Drama          6\n",
      "Adventure      5\n",
      "Sci-Fi         5\n",
      "Comedy         5\n",
      "Shounen        4\n",
      "Super Power    3\n",
      "Fantasy        3\n",
      "Mecha          3\n",
      "Thriller       2\n",
      "dtype: int64\n"
     ]
    }
   ],
   "source": [
    "#genre tags of top10\n",
    "mtop10_genres = []\n",
    "for uid in m_top10_df['uid']:\n",
    "    anime = anime_data[anime_data.uid == uid].drop_duplicates()\n",
    "    index = anime.index[0]\n",
    "    anime_genres = anime_data['genre'][index]\n",
    "    anime_genres = anime_genres.strip(\"[]\")\n",
    "    anime_genres = anime_genres.split(\", \")\n",
    "    for i in range(len(anime_genres)):\n",
    "        anime_genres[i] = anime_genres[i].strip(\"''\")\n",
    "        mtop10_genres.append(anime_genres[i])\n",
    "mtop10_genres = pd.Series(mtop10_genres) #all genre tags of male top10 \n",
    "print(\"\\nTop 10 Most observed genres of the top 10 male favorites: \")\n",
    "mgenres = mtop10_genres.value_counts()[:10]\n",
    "print(mgenres)"
   ]
  },
  {
   "cell_type": "markdown",
   "metadata": {},
   "source": [
    "From the above analyses, we see that females and males share some common anime favorites. Namely, many male and female users liked \"Fullmetal Alchemist: Brotherhood\", \"One Piece\", \"Steins;Gate\", and \"Code Geass: Hangyaku no Lelouch.\" "
   ]
  },
  {
   "cell_type": "markdown",
   "metadata": {},
   "source": [
    "#### Genre Analysis of All User Favorites by Gender "
   ]
  },
  {
   "cell_type": "markdown",
   "metadata": {},
   "source": [
    "Next, we count the number of all animes favorites that have a specific genre tag for female users v. male users. "
   ]
  },
  {
   "cell_type": "markdown",
   "metadata": {},
   "source": [
    "#### Genre Tags of Top 10 Male v. Female Favorites"
   ]
  },
  {
   "cell_type": "code",
   "execution_count": 23,
   "metadata": {},
   "outputs": [],
   "source": [
    "f_genre_dict = {}\n",
    "dropped = 0 \n",
    "for uid in female_favs:\n",
    "    anime = anime_data[anime_data.uid == uid].drop_duplicates()\n",
    "    if len(anime) == 0: \n",
    "        dropped += 1 \n",
    "    else: \n",
    "        genres = ast.literal_eval(anime['genre'][anime.index[0]])\n",
    "        for genre in genres: \n",
    "            if genre in f_genre_dict: \n",
    "                f_genre_dict[genre] += 1 \n",
    "            else:\n",
    "                f_genre_dict[genre] = 1 \n",
    "#f_genre_dict"
   ]
  },
  {
   "cell_type": "markdown",
   "metadata": {},
   "source": [
    "In the analysis above, there were cases where a specific anime UID was not found in the dataset, and thus we dropped those animes from our observation of genres. "
   ]
  },
  {
   "cell_type": "code",
   "execution_count": 24,
   "metadata": {},
   "outputs": [
    {
     "name": "stdout",
     "output_type": "stream",
     "text": [
      "Number of anime not found (and thus dropped): 76\n"
     ]
    }
   ],
   "source": [
    "print(\"Number of anime not found (and thus dropped): \" + str(dropped))"
   ]
  },
  {
   "cell_type": "code",
   "execution_count": 25,
   "metadata": {},
   "outputs": [],
   "source": [
    "f_genres_df = pd.DataFrame(columns = ['genre', 'count_f'])"
   ]
  },
  {
   "cell_type": "code",
   "execution_count": 26,
   "metadata": {},
   "outputs": [],
   "source": [
    "f_genres = [key for key in f_genre_dict] \n",
    "f_counts = [f_genre_dict[key] for key in f_genre_dict]"
   ]
  },
  {
   "cell_type": "code",
   "execution_count": 27,
   "metadata": {},
   "outputs": [
    {
     "name": "stdout",
     "output_type": "stream",
     "text": [
      "Number of Times that Females Listed An Anime that Contained A Specific Genre: \n"
     ]
    },
    {
     "data": {
      "text/html": [
       "<div>\n",
       "<style scoped>\n",
       "    .dataframe tbody tr th:only-of-type {\n",
       "        vertical-align: middle;\n",
       "    }\n",
       "\n",
       "    .dataframe tbody tr th {\n",
       "        vertical-align: top;\n",
       "    }\n",
       "\n",
       "    .dataframe thead th {\n",
       "        text-align: right;\n",
       "    }\n",
       "</style>\n",
       "<table border=\"1\" class=\"dataframe\">\n",
       "  <thead>\n",
       "    <tr style=\"text-align: right;\">\n",
       "      <th></th>\n",
       "      <th>genre</th>\n",
       "      <th>count_f</th>\n",
       "    </tr>\n",
       "  </thead>\n",
       "  <tbody>\n",
       "    <tr>\n",
       "      <td>5</td>\n",
       "      <td>Comedy</td>\n",
       "      <td>25970</td>\n",
       "    </tr>\n",
       "    <tr>\n",
       "      <td>0</td>\n",
       "      <td>Action</td>\n",
       "      <td>22750</td>\n",
       "    </tr>\n",
       "    <tr>\n",
       "      <td>11</td>\n",
       "      <td>Drama</td>\n",
       "      <td>21714</td>\n",
       "    </tr>\n",
       "    <tr>\n",
       "      <td>3</td>\n",
       "      <td>Shounen</td>\n",
       "      <td>16619</td>\n",
       "    </tr>\n",
       "    <tr>\n",
       "      <td>18</td>\n",
       "      <td>Supernatural</td>\n",
       "      <td>15587</td>\n",
       "    </tr>\n",
       "    <tr>\n",
       "      <td>8</td>\n",
       "      <td>Romance</td>\n",
       "      <td>14090</td>\n",
       "    </tr>\n",
       "    <tr>\n",
       "      <td>2</td>\n",
       "      <td>Fantasy</td>\n",
       "      <td>13252</td>\n",
       "    </tr>\n",
       "    <tr>\n",
       "      <td>1</td>\n",
       "      <td>Adventure</td>\n",
       "      <td>13195</td>\n",
       "    </tr>\n",
       "    <tr>\n",
       "      <td>6</td>\n",
       "      <td>School</td>\n",
       "      <td>11071</td>\n",
       "    </tr>\n",
       "    <tr>\n",
       "      <td>17</td>\n",
       "      <td>Mystery</td>\n",
       "      <td>10586</td>\n",
       "    </tr>\n",
       "  </tbody>\n",
       "</table>\n",
       "</div>"
      ],
      "text/plain": [
       "           genre  count_f\n",
       "5         Comedy    25970\n",
       "0         Action    22750\n",
       "11         Drama    21714\n",
       "3        Shounen    16619\n",
       "18  Supernatural    15587\n",
       "8        Romance    14090\n",
       "2        Fantasy    13252\n",
       "1      Adventure    13195\n",
       "6         School    11071\n",
       "17       Mystery    10586"
      ]
     },
     "execution_count": 27,
     "metadata": {},
     "output_type": "execute_result"
    }
   ],
   "source": [
    "f_genres_df['genre'] = f_genres\n",
    "f_genres_df['count_f'] = f_counts\n",
    "f_genres_df = f_genres_df.sort_values(by = 'count_f', ascending = False)\n",
    "print(\"Number of Times that Females Listed An Anime that Contained A Specific Genre: \")\n",
    "f_genres_df.head(10)"
   ]
  },
  {
   "cell_type": "markdown",
   "metadata": {},
   "source": [
    "Now, we do the same for males:"
   ]
  },
  {
   "cell_type": "code",
   "execution_count": 28,
   "metadata": {},
   "outputs": [
    {
     "name": "stdout",
     "output_type": "stream",
     "text": [
      "Number of anime not found (and thus dropped): 279\n"
     ]
    }
   ],
   "source": [
    "m_genre_dict = {}\n",
    "dropped = 0 \n",
    "for uid in male_favs:\n",
    "    anime = anime_data[anime_data.uid == uid].drop_duplicates()\n",
    "    if len(anime) == 0:\n",
    "        dropped += 1 \n",
    "    else: \n",
    "        genres = ast.literal_eval(anime['genre'][anime.index[0]])\n",
    "        for genre in genres: \n",
    "            if genre in m_genre_dict: \n",
    "                m_genre_dict[genre] += 1 \n",
    "            else:\n",
    "                m_genre_dict[genre] = 1 \n",
    "#m_genre_dict\n",
    "print(\"Number of anime not found (and thus dropped): \" + str(dropped))"
   ]
  },
  {
   "cell_type": "code",
   "execution_count": 29,
   "metadata": {
    "scrolled": true
   },
   "outputs": [
    {
     "name": "stdout",
     "output_type": "stream",
     "text": [
      "Number of Times that Males Listed An Anime that Contained A Specific Genre: \n"
     ]
    },
    {
     "data": {
      "text/html": [
       "<div>\n",
       "<style scoped>\n",
       "    .dataframe tbody tr th:only-of-type {\n",
       "        vertical-align: middle;\n",
       "    }\n",
       "\n",
       "    .dataframe tbody tr th {\n",
       "        vertical-align: top;\n",
       "    }\n",
       "\n",
       "    .dataframe thead th {\n",
       "        text-align: right;\n",
       "    }\n",
       "</style>\n",
       "<table border=\"1\" class=\"dataframe\">\n",
       "  <thead>\n",
       "    <tr style=\"text-align: right;\">\n",
       "      <th></th>\n",
       "      <th>genre</th>\n",
       "      <th>count_m</th>\n",
       "    </tr>\n",
       "  </thead>\n",
       "  <tbody>\n",
       "    <tr>\n",
       "      <td>3</td>\n",
       "      <td>Action</td>\n",
       "      <td>65172</td>\n",
       "    </tr>\n",
       "    <tr>\n",
       "      <td>5</td>\n",
       "      <td>Comedy</td>\n",
       "      <td>64048</td>\n",
       "    </tr>\n",
       "    <tr>\n",
       "      <td>1</td>\n",
       "      <td>Drama</td>\n",
       "      <td>59784</td>\n",
       "    </tr>\n",
       "    <tr>\n",
       "      <td>9</td>\n",
       "      <td>Shounen</td>\n",
       "      <td>41307</td>\n",
       "    </tr>\n",
       "    <tr>\n",
       "      <td>10</td>\n",
       "      <td>Supernatural</td>\n",
       "      <td>38318</td>\n",
       "    </tr>\n",
       "    <tr>\n",
       "      <td>4</td>\n",
       "      <td>Adventure</td>\n",
       "      <td>37125</td>\n",
       "    </tr>\n",
       "    <tr>\n",
       "      <td>16</td>\n",
       "      <td>Sci-Fi</td>\n",
       "      <td>36764</td>\n",
       "    </tr>\n",
       "    <tr>\n",
       "      <td>6</td>\n",
       "      <td>Romance</td>\n",
       "      <td>35872</td>\n",
       "    </tr>\n",
       "    <tr>\n",
       "      <td>2</td>\n",
       "      <td>Fantasy</td>\n",
       "      <td>33466</td>\n",
       "    </tr>\n",
       "    <tr>\n",
       "      <td>22</td>\n",
       "      <td>School</td>\n",
       "      <td>31475</td>\n",
       "    </tr>\n",
       "  </tbody>\n",
       "</table>\n",
       "</div>"
      ],
      "text/plain": [
       "           genre  count_m\n",
       "3         Action    65172\n",
       "5         Comedy    64048\n",
       "1          Drama    59784\n",
       "9        Shounen    41307\n",
       "10  Supernatural    38318\n",
       "4      Adventure    37125\n",
       "16        Sci-Fi    36764\n",
       "6        Romance    35872\n",
       "2        Fantasy    33466\n",
       "22        School    31475"
      ]
     },
     "execution_count": 29,
     "metadata": {},
     "output_type": "execute_result"
    }
   ],
   "source": [
    "m_genres_df = pd.DataFrame(columns = ['genre', 'count_m'])\n",
    "m_genres = [key for key in m_genre_dict] \n",
    "m_counts = [m_genre_dict[key] for key in m_genre_dict]\n",
    "m_genres_df['genre'] = m_genres\n",
    "m_genres_df['count_m'] = m_counts\n",
    "m_genres_df = m_genres_df.sort_values(by = 'count_m', ascending = False)\n",
    "print(\"Number of Times that Males Listed An Anime that Contained A Specific Genre: \")\n",
    "m_genres_df.head(10)"
   ]
  },
  {
   "cell_type": "markdown",
   "metadata": {},
   "source": [
    "To do a comparative analysis, we then attempted to merge the two dataframes to compare the numbers. Some analyses we looked at include the % of all genres that counts of a specific genre takes up for males v. females, as well as the ratio of male:female percentages for each genre.  "
   ]
  },
  {
   "cell_type": "code",
   "execution_count": 30,
   "metadata": {},
   "outputs": [],
   "source": [
    "m_genres_df = m_genres_df.reset_index(drop = True)\n",
    "f_genres_df = f_genres_df.reset_index(drop = True)"
   ]
  },
  {
   "cell_type": "code",
   "execution_count": 31,
   "metadata": {},
   "outputs": [],
   "source": [
    "#merging the two dataframes\n",
    "merged = pd.merge(m_genres_df, f_genres_df, on = \"genre\")"
   ]
  },
  {
   "cell_type": "code",
   "execution_count": 32,
   "metadata": {},
   "outputs": [],
   "source": [
    "merged['% of all counts (m)'] = len(merged) * [0]\n",
    "merged['% of all counts (f)'] = len(merged) * [0]\n",
    "merged['ratio of m:f'] = len(merged) * [0]"
   ]
  },
  {
   "cell_type": "code",
   "execution_count": 33,
   "metadata": {},
   "outputs": [
    {
     "data": {
      "text/html": [
       "<div>\n",
       "<style scoped>\n",
       "    .dataframe tbody tr th:only-of-type {\n",
       "        vertical-align: middle;\n",
       "    }\n",
       "\n",
       "    .dataframe tbody tr th {\n",
       "        vertical-align: top;\n",
       "    }\n",
       "\n",
       "    .dataframe thead th {\n",
       "        text-align: right;\n",
       "    }\n",
       "</style>\n",
       "<table border=\"1\" class=\"dataframe\">\n",
       "  <thead>\n",
       "    <tr style=\"text-align: right;\">\n",
       "      <th></th>\n",
       "      <th>genre</th>\n",
       "      <th>count_m</th>\n",
       "      <th>count_f</th>\n",
       "      <th>% of all counts (m)</th>\n",
       "      <th>% of all counts (f)</th>\n",
       "      <th>ratio of m:f</th>\n",
       "    </tr>\n",
       "  </thead>\n",
       "  <tbody>\n",
       "    <tr>\n",
       "      <td>0</td>\n",
       "      <td>Action</td>\n",
       "      <td>65172</td>\n",
       "      <td>22750</td>\n",
       "      <td>9.4176</td>\n",
       "      <td>8.8186</td>\n",
       "      <td>1.067913</td>\n",
       "    </tr>\n",
       "    <tr>\n",
       "      <td>1</td>\n",
       "      <td>Comedy</td>\n",
       "      <td>64048</td>\n",
       "      <td>25970</td>\n",
       "      <td>9.2551</td>\n",
       "      <td>10.0668</td>\n",
       "      <td>0.919369</td>\n",
       "    </tr>\n",
       "    <tr>\n",
       "      <td>2</td>\n",
       "      <td>Drama</td>\n",
       "      <td>59784</td>\n",
       "      <td>21714</td>\n",
       "      <td>8.6390</td>\n",
       "      <td>8.4171</td>\n",
       "      <td>1.026364</td>\n",
       "    </tr>\n",
       "    <tr>\n",
       "      <td>3</td>\n",
       "      <td>Shounen</td>\n",
       "      <td>41307</td>\n",
       "      <td>16619</td>\n",
       "      <td>5.9690</td>\n",
       "      <td>6.4421</td>\n",
       "      <td>0.926563</td>\n",
       "    </tr>\n",
       "    <tr>\n",
       "      <td>4</td>\n",
       "      <td>Supernatural</td>\n",
       "      <td>38318</td>\n",
       "      <td>15587</td>\n",
       "      <td>5.5371</td>\n",
       "      <td>6.0420</td>\n",
       "      <td>0.916424</td>\n",
       "    </tr>\n",
       "    <tr>\n",
       "      <td>5</td>\n",
       "      <td>Adventure</td>\n",
       "      <td>37125</td>\n",
       "      <td>13195</td>\n",
       "      <td>5.3647</td>\n",
       "      <td>5.1148</td>\n",
       "      <td>1.048850</td>\n",
       "    </tr>\n",
       "    <tr>\n",
       "      <td>6</td>\n",
       "      <td>Sci-Fi</td>\n",
       "      <td>36764</td>\n",
       "      <td>8618</td>\n",
       "      <td>5.3125</td>\n",
       "      <td>3.3406</td>\n",
       "      <td>1.590276</td>\n",
       "    </tr>\n",
       "    <tr>\n",
       "      <td>7</td>\n",
       "      <td>Romance</td>\n",
       "      <td>35872</td>\n",
       "      <td>14090</td>\n",
       "      <td>5.1836</td>\n",
       "      <td>5.4617</td>\n",
       "      <td>0.949076</td>\n",
       "    </tr>\n",
       "    <tr>\n",
       "      <td>8</td>\n",
       "      <td>Fantasy</td>\n",
       "      <td>33466</td>\n",
       "      <td>13252</td>\n",
       "      <td>4.8359</td>\n",
       "      <td>5.1369</td>\n",
       "      <td>0.941410</td>\n",
       "    </tr>\n",
       "    <tr>\n",
       "      <td>9</td>\n",
       "      <td>School</td>\n",
       "      <td>31475</td>\n",
       "      <td>11071</td>\n",
       "      <td>4.5482</td>\n",
       "      <td>4.2915</td>\n",
       "      <td>1.059827</td>\n",
       "    </tr>\n",
       "    <tr>\n",
       "      <td>10</td>\n",
       "      <td>Slice of Life</td>\n",
       "      <td>24761</td>\n",
       "      <td>8752</td>\n",
       "      <td>3.5780</td>\n",
       "      <td>3.3926</td>\n",
       "      <td>1.054671</td>\n",
       "    </tr>\n",
       "    <tr>\n",
       "      <td>11</td>\n",
       "      <td>Mystery</td>\n",
       "      <td>23328</td>\n",
       "      <td>10586</td>\n",
       "      <td>3.3710</td>\n",
       "      <td>4.1035</td>\n",
       "      <td>0.821489</td>\n",
       "    </tr>\n",
       "    <tr>\n",
       "      <td>12</td>\n",
       "      <td>Psychological</td>\n",
       "      <td>21787</td>\n",
       "      <td>7263</td>\n",
       "      <td>3.1483</td>\n",
       "      <td>2.8154</td>\n",
       "      <td>1.118247</td>\n",
       "    </tr>\n",
       "    <tr>\n",
       "      <td>13</td>\n",
       "      <td>Super Power</td>\n",
       "      <td>18955</td>\n",
       "      <td>6834</td>\n",
       "      <td>2.7391</td>\n",
       "      <td>2.6491</td>\n",
       "      <td>1.033963</td>\n",
       "    </tr>\n",
       "    <tr>\n",
       "      <td>14</td>\n",
       "      <td>Military</td>\n",
       "      <td>15214</td>\n",
       "      <td>4681</td>\n",
       "      <td>2.1985</td>\n",
       "      <td>1.8145</td>\n",
       "      <td>1.211605</td>\n",
       "    </tr>\n",
       "    <tr>\n",
       "      <td>15</td>\n",
       "      <td>Seinen</td>\n",
       "      <td>14629</td>\n",
       "      <td>3950</td>\n",
       "      <td>2.1139</td>\n",
       "      <td>1.5312</td>\n",
       "      <td>1.380619</td>\n",
       "    </tr>\n",
       "    <tr>\n",
       "      <td>16</td>\n",
       "      <td>Mecha</td>\n",
       "      <td>14453</td>\n",
       "      <td>2776</td>\n",
       "      <td>2.0885</td>\n",
       "      <td>1.0761</td>\n",
       "      <td>1.940863</td>\n",
       "    </tr>\n",
       "    <tr>\n",
       "      <td>17</td>\n",
       "      <td>Magic</td>\n",
       "      <td>14129</td>\n",
       "      <td>6531</td>\n",
       "      <td>2.0417</td>\n",
       "      <td>2.5316</td>\n",
       "      <td>0.806470</td>\n",
       "    </tr>\n",
       "    <tr>\n",
       "      <td>18</td>\n",
       "      <td>Thriller</td>\n",
       "      <td>13745</td>\n",
       "      <td>4262</td>\n",
       "      <td>1.9862</td>\n",
       "      <td>1.6521</td>\n",
       "      <td>1.202230</td>\n",
       "    </tr>\n",
       "    <tr>\n",
       "      <td>19</td>\n",
       "      <td>Historical</td>\n",
       "      <td>8868</td>\n",
       "      <td>4520</td>\n",
       "      <td>1.2815</td>\n",
       "      <td>1.7521</td>\n",
       "      <td>0.731381</td>\n",
       "    </tr>\n",
       "    <tr>\n",
       "      <td>20</td>\n",
       "      <td>Horror</td>\n",
       "      <td>7995</td>\n",
       "      <td>3270</td>\n",
       "      <td>1.1553</td>\n",
       "      <td>1.2676</td>\n",
       "      <td>0.911438</td>\n",
       "    </tr>\n",
       "    <tr>\n",
       "      <td>21</td>\n",
       "      <td>Ecchi</td>\n",
       "      <td>6913</td>\n",
       "      <td>1274</td>\n",
       "      <td>0.9989</td>\n",
       "      <td>0.4938</td>\n",
       "      <td>2.022802</td>\n",
       "    </tr>\n",
       "    <tr>\n",
       "      <td>22</td>\n",
       "      <td>Parody</td>\n",
       "      <td>5825</td>\n",
       "      <td>1723</td>\n",
       "      <td>0.8417</td>\n",
       "      <td>0.6679</td>\n",
       "      <td>1.260280</td>\n",
       "    </tr>\n",
       "    <tr>\n",
       "      <td>23</td>\n",
       "      <td>Police</td>\n",
       "      <td>5566</td>\n",
       "      <td>1868</td>\n",
       "      <td>0.8043</td>\n",
       "      <td>0.7241</td>\n",
       "      <td>1.110766</td>\n",
       "    </tr>\n",
       "    <tr>\n",
       "      <td>24</td>\n",
       "      <td>Space</td>\n",
       "      <td>5512</td>\n",
       "      <td>954</td>\n",
       "      <td>0.7965</td>\n",
       "      <td>0.3698</td>\n",
       "      <td>2.153858</td>\n",
       "    </tr>\n",
       "    <tr>\n",
       "      <td>25</td>\n",
       "      <td>Dementia</td>\n",
       "      <td>5245</td>\n",
       "      <td>1395</td>\n",
       "      <td>0.7579</td>\n",
       "      <td>0.5407</td>\n",
       "      <td>1.401611</td>\n",
       "    </tr>\n",
       "    <tr>\n",
       "      <td>26</td>\n",
       "      <td>Game</td>\n",
       "      <td>5072</td>\n",
       "      <td>1256</td>\n",
       "      <td>0.7329</td>\n",
       "      <td>0.4869</td>\n",
       "      <td>1.505379</td>\n",
       "    </tr>\n",
       "    <tr>\n",
       "      <td>27</td>\n",
       "      <td>Sports</td>\n",
       "      <td>4710</td>\n",
       "      <td>2405</td>\n",
       "      <td>0.6806</td>\n",
       "      <td>0.9323</td>\n",
       "      <td>0.730066</td>\n",
       "    </tr>\n",
       "    <tr>\n",
       "      <td>28</td>\n",
       "      <td>Demons</td>\n",
       "      <td>4681</td>\n",
       "      <td>3808</td>\n",
       "      <td>0.6764</td>\n",
       "      <td>1.4761</td>\n",
       "      <td>0.458245</td>\n",
       "    </tr>\n",
       "    <tr>\n",
       "      <td>29</td>\n",
       "      <td>Music</td>\n",
       "      <td>4569</td>\n",
       "      <td>2000</td>\n",
       "      <td>0.6602</td>\n",
       "      <td>0.7753</td>\n",
       "      <td>0.851623</td>\n",
       "    </tr>\n",
       "    <tr>\n",
       "      <td>30</td>\n",
       "      <td>Martial Arts</td>\n",
       "      <td>4399</td>\n",
       "      <td>1397</td>\n",
       "      <td>0.6357</td>\n",
       "      <td>0.5415</td>\n",
       "      <td>1.173853</td>\n",
       "    </tr>\n",
       "    <tr>\n",
       "      <td>31</td>\n",
       "      <td>Harem</td>\n",
       "      <td>4315</td>\n",
       "      <td>1407</td>\n",
       "      <td>0.6235</td>\n",
       "      <td>0.5454</td>\n",
       "      <td>1.143255</td>\n",
       "    </tr>\n",
       "    <tr>\n",
       "      <td>32</td>\n",
       "      <td>Vampire</td>\n",
       "      <td>3916</td>\n",
       "      <td>1426</td>\n",
       "      <td>0.5659</td>\n",
       "      <td>0.5528</td>\n",
       "      <td>1.023716</td>\n",
       "    </tr>\n",
       "    <tr>\n",
       "      <td>33</td>\n",
       "      <td>Shoujo</td>\n",
       "      <td>3350</td>\n",
       "      <td>7194</td>\n",
       "      <td>0.4841</td>\n",
       "      <td>2.7886</td>\n",
       "      <td>0.173592</td>\n",
       "    </tr>\n",
       "    <tr>\n",
       "      <td>34</td>\n",
       "      <td>Samurai</td>\n",
       "      <td>3222</td>\n",
       "      <td>1158</td>\n",
       "      <td>0.4656</td>\n",
       "      <td>0.4489</td>\n",
       "      <td>1.037226</td>\n",
       "    </tr>\n",
       "    <tr>\n",
       "      <td>35</td>\n",
       "      <td>Josei</td>\n",
       "      <td>1422</td>\n",
       "      <td>1111</td>\n",
       "      <td>0.2055</td>\n",
       "      <td>0.4307</td>\n",
       "      <td>0.477136</td>\n",
       "    </tr>\n",
       "    <tr>\n",
       "      <td>36</td>\n",
       "      <td>Shoujo Ai</td>\n",
       "      <td>530</td>\n",
       "      <td>315</td>\n",
       "      <td>0.0766</td>\n",
       "      <td>0.1221</td>\n",
       "      <td>0.627222</td>\n",
       "    </tr>\n",
       "    <tr>\n",
       "      <td>37</td>\n",
       "      <td>Hentai</td>\n",
       "      <td>501</td>\n",
       "      <td>77</td>\n",
       "      <td>0.0724</td>\n",
       "      <td>0.0298</td>\n",
       "      <td>2.425511</td>\n",
       "    </tr>\n",
       "    <tr>\n",
       "      <td>38</td>\n",
       "      <td>Kids</td>\n",
       "      <td>477</td>\n",
       "      <td>254</td>\n",
       "      <td>0.0689</td>\n",
       "      <td>0.0985</td>\n",
       "      <td>0.700069</td>\n",
       "    </tr>\n",
       "    <tr>\n",
       "      <td>39</td>\n",
       "      <td>Cars</td>\n",
       "      <td>375</td>\n",
       "      <td>23</td>\n",
       "      <td>0.0542</td>\n",
       "      <td>0.0089</td>\n",
       "      <td>6.077986</td>\n",
       "    </tr>\n",
       "    <tr>\n",
       "      <td>40</td>\n",
       "      <td>Shounen Ai</td>\n",
       "      <td>122</td>\n",
       "      <td>580</td>\n",
       "      <td>0.0176</td>\n",
       "      <td>0.2248</td>\n",
       "      <td>0.078413</td>\n",
       "    </tr>\n",
       "    <tr>\n",
       "      <td>41</td>\n",
       "      <td>Yaoi</td>\n",
       "      <td>85</td>\n",
       "      <td>57</td>\n",
       "      <td>0.0123</td>\n",
       "      <td>0.0221</td>\n",
       "      <td>0.555905</td>\n",
       "    </tr>\n",
       "    <tr>\n",
       "      <td>42</td>\n",
       "      <td>Yuri</td>\n",
       "      <td>25</td>\n",
       "      <td>3</td>\n",
       "      <td>0.0036</td>\n",
       "      <td>0.0012</td>\n",
       "      <td>3.106526</td>\n",
       "    </tr>\n",
       "  </tbody>\n",
       "</table>\n",
       "</div>"
      ],
      "text/plain": [
       "            genre  count_m  count_f  % of all counts (m)  % of all counts (f)  \\\n",
       "0          Action    65172    22750               9.4176               8.8186   \n",
       "1          Comedy    64048    25970               9.2551              10.0668   \n",
       "2           Drama    59784    21714               8.6390               8.4171   \n",
       "3         Shounen    41307    16619               5.9690               6.4421   \n",
       "4    Supernatural    38318    15587               5.5371               6.0420   \n",
       "5       Adventure    37125    13195               5.3647               5.1148   \n",
       "6          Sci-Fi    36764     8618               5.3125               3.3406   \n",
       "7         Romance    35872    14090               5.1836               5.4617   \n",
       "8         Fantasy    33466    13252               4.8359               5.1369   \n",
       "9          School    31475    11071               4.5482               4.2915   \n",
       "10  Slice of Life    24761     8752               3.5780               3.3926   \n",
       "11        Mystery    23328    10586               3.3710               4.1035   \n",
       "12  Psychological    21787     7263               3.1483               2.8154   \n",
       "13    Super Power    18955     6834               2.7391               2.6491   \n",
       "14       Military    15214     4681               2.1985               1.8145   \n",
       "15         Seinen    14629     3950               2.1139               1.5312   \n",
       "16          Mecha    14453     2776               2.0885               1.0761   \n",
       "17          Magic    14129     6531               2.0417               2.5316   \n",
       "18       Thriller    13745     4262               1.9862               1.6521   \n",
       "19     Historical     8868     4520               1.2815               1.7521   \n",
       "20         Horror     7995     3270               1.1553               1.2676   \n",
       "21          Ecchi     6913     1274               0.9989               0.4938   \n",
       "22         Parody     5825     1723               0.8417               0.6679   \n",
       "23         Police     5566     1868               0.8043               0.7241   \n",
       "24          Space     5512      954               0.7965               0.3698   \n",
       "25       Dementia     5245     1395               0.7579               0.5407   \n",
       "26           Game     5072     1256               0.7329               0.4869   \n",
       "27         Sports     4710     2405               0.6806               0.9323   \n",
       "28         Demons     4681     3808               0.6764               1.4761   \n",
       "29          Music     4569     2000               0.6602               0.7753   \n",
       "30   Martial Arts     4399     1397               0.6357               0.5415   \n",
       "31          Harem     4315     1407               0.6235               0.5454   \n",
       "32        Vampire     3916     1426               0.5659               0.5528   \n",
       "33         Shoujo     3350     7194               0.4841               2.7886   \n",
       "34        Samurai     3222     1158               0.4656               0.4489   \n",
       "35          Josei     1422     1111               0.2055               0.4307   \n",
       "36      Shoujo Ai      530      315               0.0766               0.1221   \n",
       "37         Hentai      501       77               0.0724               0.0298   \n",
       "38           Kids      477      254               0.0689               0.0985   \n",
       "39           Cars      375       23               0.0542               0.0089   \n",
       "40     Shounen Ai      122      580               0.0176               0.2248   \n",
       "41           Yaoi       85       57               0.0123               0.0221   \n",
       "42           Yuri       25        3               0.0036               0.0012   \n",
       "\n",
       "    ratio of m:f  \n",
       "0       1.067913  \n",
       "1       0.919369  \n",
       "2       1.026364  \n",
       "3       0.926563  \n",
       "4       0.916424  \n",
       "5       1.048850  \n",
       "6       1.590276  \n",
       "7       0.949076  \n",
       "8       0.941410  \n",
       "9       1.059827  \n",
       "10      1.054671  \n",
       "11      0.821489  \n",
       "12      1.118247  \n",
       "13      1.033963  \n",
       "14      1.211605  \n",
       "15      1.380619  \n",
       "16      1.940863  \n",
       "17      0.806470  \n",
       "18      1.202230  \n",
       "19      0.731381  \n",
       "20      0.911438  \n",
       "21      2.022802  \n",
       "22      1.260280  \n",
       "23      1.110766  \n",
       "24      2.153858  \n",
       "25      1.401611  \n",
       "26      1.505379  \n",
       "27      0.730066  \n",
       "28      0.458245  \n",
       "29      0.851623  \n",
       "30      1.173853  \n",
       "31      1.143255  \n",
       "32      1.023716  \n",
       "33      0.173592  \n",
       "34      1.037226  \n",
       "35      0.477136  \n",
       "36      0.627222  \n",
       "37      2.425511  \n",
       "38      0.700069  \n",
       "39      6.077986  \n",
       "40      0.078413  \n",
       "41      0.555905  \n",
       "42      3.106526  "
      ]
     },
     "execution_count": 33,
     "metadata": {},
     "output_type": "execute_result"
    }
   ],
   "source": [
    "m_ratios = []\n",
    "m_total = sum(merged['count_m'])\n",
    "f_ratios = []\n",
    "f_total = sum(merged['count_f'])\n",
    "mf_ratios = []\n",
    "\n",
    "for i in range(len(merged)):\n",
    "    m_ratio = merged['count_m'][i] / m_total * 100\n",
    "    f_ratio = merged['count_f'][i] / f_total * 100\n",
    "    mf_ratio = m_ratio / f_ratio\n",
    "    m_ratios.append(round(m_ratio,4))\n",
    "    f_ratios.append(round(f_ratio, 4))\n",
    "    mf_ratios.append(mf_ratio)\n",
    "    i += 1 \n",
    "merged['% of all counts (m)'] = m_ratios\n",
    "merged['% of all counts (f)'] = f_ratios\n",
    "merged['ratio of m:f'] = mf_ratios\n",
    "merged"
   ]
  },
  {
   "cell_type": "markdown",
   "metadata": {},
   "source": [
    "The dataframe above shows that there are indeed certain genres that are named as male favorites more often than female favorites, although the % differences tend to be within 1. Below is a graphic representation of genre counts of male vs. female favorites:"
   ]
  },
  {
   "cell_type": "code",
   "execution_count": 34,
   "metadata": {},
   "outputs": [
    {
     "data": {
      "image/png": "[encoded data removed]",
      "text/plain": [
       "<Figure size 1440x936 with 1 Axes>"
      ]
     },
     "metadata": {
      "needs_background": "light"
     },
     "output_type": "display_data"
    }
   ],
   "source": [
    "#graphic representation\n",
    "f, ax = plt.subplots(1, 1, figsize = (20, 13))\n",
    "plt.barh(merged['genre'], merged['count_m'], label = 'male', color = 'green')\n",
    "plt.barh(merged['genre'], f_genres_df['count_f'], color = 'orange', label = 'female', alpha = 0.9)\n",
    "plt.legend()\n",
    "plt.title(\"Count of Genres for Male v. Female Favorites\")\n",
    "plt.xlabel(\"Count\")\n",
    "plt.ylabel(\"Genre\")\n",
    "plt.show()"
   ]
  },
  {
   "cell_type": "code",
   "execution_count": 35,
   "metadata": {
    "scrolled": false
   },
   "outputs": [
    {
     "name": "stdout",
     "output_type": "stream",
     "text": [
      "Genres where Females have Higher % of Counts than Males: \n"
     ]
    },
    {
     "data": {
      "text/html": [
       "<div>\n",
       "<style scoped>\n",
       "    .dataframe tbody tr th:only-of-type {\n",
       "        vertical-align: middle;\n",
       "    }\n",
       "\n",
       "    .dataframe tbody tr th {\n",
       "        vertical-align: top;\n",
       "    }\n",
       "\n",
       "    .dataframe thead th {\n",
       "        text-align: right;\n",
       "    }\n",
       "</style>\n",
       "<table border=\"1\" class=\"dataframe\">\n",
       "  <thead>\n",
       "    <tr style=\"text-align: right;\">\n",
       "      <th></th>\n",
       "      <th>genre</th>\n",
       "      <th>count_m</th>\n",
       "      <th>count_f</th>\n",
       "      <th>% of all counts (m)</th>\n",
       "      <th>% of all counts (f)</th>\n",
       "      <th>ratio of m:f</th>\n",
       "    </tr>\n",
       "  </thead>\n",
       "  <tbody>\n",
       "    <tr>\n",
       "      <td>0</td>\n",
       "      <td>Comedy</td>\n",
       "      <td>64048</td>\n",
       "      <td>25970</td>\n",
       "      <td>9.2551</td>\n",
       "      <td>10.0668</td>\n",
       "      <td>0.919369</td>\n",
       "    </tr>\n",
       "    <tr>\n",
       "      <td>1</td>\n",
       "      <td>Shounen</td>\n",
       "      <td>41307</td>\n",
       "      <td>16619</td>\n",
       "      <td>5.9690</td>\n",
       "      <td>6.4421</td>\n",
       "      <td>0.926563</td>\n",
       "    </tr>\n",
       "    <tr>\n",
       "      <td>2</td>\n",
       "      <td>Supernatural</td>\n",
       "      <td>38318</td>\n",
       "      <td>15587</td>\n",
       "      <td>5.5371</td>\n",
       "      <td>6.0420</td>\n",
       "      <td>0.916424</td>\n",
       "    </tr>\n",
       "    <tr>\n",
       "      <td>3</td>\n",
       "      <td>Romance</td>\n",
       "      <td>35872</td>\n",
       "      <td>14090</td>\n",
       "      <td>5.1836</td>\n",
       "      <td>5.4617</td>\n",
       "      <td>0.949076</td>\n",
       "    </tr>\n",
       "    <tr>\n",
       "      <td>4</td>\n",
       "      <td>Fantasy</td>\n",
       "      <td>33466</td>\n",
       "      <td>13252</td>\n",
       "      <td>4.8359</td>\n",
       "      <td>5.1369</td>\n",
       "      <td>0.941410</td>\n",
       "    </tr>\n",
       "    <tr>\n",
       "      <td>5</td>\n",
       "      <td>Mystery</td>\n",
       "      <td>23328</td>\n",
       "      <td>10586</td>\n",
       "      <td>3.3710</td>\n",
       "      <td>4.1035</td>\n",
       "      <td>0.821489</td>\n",
       "    </tr>\n",
       "    <tr>\n",
       "      <td>6</td>\n",
       "      <td>Magic</td>\n",
       "      <td>14129</td>\n",
       "      <td>6531</td>\n",
       "      <td>2.0417</td>\n",
       "      <td>2.5316</td>\n",
       "      <td>0.806470</td>\n",
       "    </tr>\n",
       "    <tr>\n",
       "      <td>7</td>\n",
       "      <td>Historical</td>\n",
       "      <td>8868</td>\n",
       "      <td>4520</td>\n",
       "      <td>1.2815</td>\n",
       "      <td>1.7521</td>\n",
       "      <td>0.731381</td>\n",
       "    </tr>\n",
       "    <tr>\n",
       "      <td>8</td>\n",
       "      <td>Horror</td>\n",
       "      <td>7995</td>\n",
       "      <td>3270</td>\n",
       "      <td>1.1553</td>\n",
       "      <td>1.2676</td>\n",
       "      <td>0.911438</td>\n",
       "    </tr>\n",
       "    <tr>\n",
       "      <td>9</td>\n",
       "      <td>Sports</td>\n",
       "      <td>4710</td>\n",
       "      <td>2405</td>\n",
       "      <td>0.6806</td>\n",
       "      <td>0.9323</td>\n",
       "      <td>0.730066</td>\n",
       "    </tr>\n",
       "  </tbody>\n",
       "</table>\n",
       "</div>"
      ],
      "text/plain": [
       "          genre  count_m  count_f  % of all counts (m)  % of all counts (f)  \\\n",
       "0        Comedy    64048    25970               9.2551              10.0668   \n",
       "1       Shounen    41307    16619               5.9690               6.4421   \n",
       "2  Supernatural    38318    15587               5.5371               6.0420   \n",
       "3       Romance    35872    14090               5.1836               5.4617   \n",
       "4       Fantasy    33466    13252               4.8359               5.1369   \n",
       "5       Mystery    23328    10586               3.3710               4.1035   \n",
       "6         Magic    14129     6531               2.0417               2.5316   \n",
       "7    Historical     8868     4520               1.2815               1.7521   \n",
       "8        Horror     7995     3270               1.1553               1.2676   \n",
       "9        Sports     4710     2405               0.6806               0.9323   \n",
       "\n",
       "   ratio of m:f  \n",
       "0      0.919369  \n",
       "1      0.926563  \n",
       "2      0.916424  \n",
       "3      0.949076  \n",
       "4      0.941410  \n",
       "5      0.821489  \n",
       "6      0.806470  \n",
       "7      0.731381  \n",
       "8      0.911438  \n",
       "9      0.730066  "
      ]
     },
     "execution_count": 35,
     "metadata": {},
     "output_type": "execute_result"
    }
   ],
   "source": [
    "#genre preferences compared\n",
    "print(\"Genres where Females have Higher % of Counts than Males: \")\n",
    "female_pref = merged[merged['% of all counts (f)'] > merged['% of all counts (m)']]\n",
    "female_pref = female_pref.reset_index(drop = True)\n",
    "female_pref.head(10)"
   ]
  },
  {
   "cell_type": "markdown",
   "metadata": {},
   "source": [
    "The dataframe above shows all the genres that females tend to like more than males, and the top 10 most common are shown in the dataframe below: (comedy, shounen, supernatural, romance, fantasy, mystery, magic, historical, horror, and sports)"
   ]
  },
  {
   "cell_type": "code",
   "execution_count": 36,
   "metadata": {
    "scrolled": true
   },
   "outputs": [
    {
     "data": {
      "text/html": [
       "<div>\n",
       "<style scoped>\n",
       "    .dataframe tbody tr th:only-of-type {\n",
       "        vertical-align: middle;\n",
       "    }\n",
       "\n",
       "    .dataframe tbody tr th {\n",
       "        vertical-align: top;\n",
       "    }\n",
       "\n",
       "    .dataframe thead th {\n",
       "        text-align: right;\n",
       "    }\n",
       "</style>\n",
       "<table border=\"1\" class=\"dataframe\">\n",
       "  <thead>\n",
       "    <tr style=\"text-align: right;\">\n",
       "      <th></th>\n",
       "      <th>genre</th>\n",
       "      <th>count_m</th>\n",
       "      <th>count_f</th>\n",
       "      <th>% of all counts (m)</th>\n",
       "      <th>% of all counts (f)</th>\n",
       "      <th>ratio of m:f</th>\n",
       "    </tr>\n",
       "  </thead>\n",
       "  <tbody>\n",
       "    <tr>\n",
       "      <td>0</td>\n",
       "      <td>Comedy</td>\n",
       "      <td>64048</td>\n",
       "      <td>25970</td>\n",
       "      <td>9.2551</td>\n",
       "      <td>10.0668</td>\n",
       "      <td>0.919369</td>\n",
       "    </tr>\n",
       "    <tr>\n",
       "      <td>1</td>\n",
       "      <td>Shounen</td>\n",
       "      <td>41307</td>\n",
       "      <td>16619</td>\n",
       "      <td>5.9690</td>\n",
       "      <td>6.4421</td>\n",
       "      <td>0.926563</td>\n",
       "    </tr>\n",
       "    <tr>\n",
       "      <td>2</td>\n",
       "      <td>Supernatural</td>\n",
       "      <td>38318</td>\n",
       "      <td>15587</td>\n",
       "      <td>5.5371</td>\n",
       "      <td>6.0420</td>\n",
       "      <td>0.916424</td>\n",
       "    </tr>\n",
       "    <tr>\n",
       "      <td>3</td>\n",
       "      <td>Romance</td>\n",
       "      <td>35872</td>\n",
       "      <td>14090</td>\n",
       "      <td>5.1836</td>\n",
       "      <td>5.4617</td>\n",
       "      <td>0.949076</td>\n",
       "    </tr>\n",
       "    <tr>\n",
       "      <td>4</td>\n",
       "      <td>Fantasy</td>\n",
       "      <td>33466</td>\n",
       "      <td>13252</td>\n",
       "      <td>4.8359</td>\n",
       "      <td>5.1369</td>\n",
       "      <td>0.941410</td>\n",
       "    </tr>\n",
       "    <tr>\n",
       "      <td>5</td>\n",
       "      <td>Mystery</td>\n",
       "      <td>23328</td>\n",
       "      <td>10586</td>\n",
       "      <td>3.3710</td>\n",
       "      <td>4.1035</td>\n",
       "      <td>0.821489</td>\n",
       "    </tr>\n",
       "    <tr>\n",
       "      <td>6</td>\n",
       "      <td>Magic</td>\n",
       "      <td>14129</td>\n",
       "      <td>6531</td>\n",
       "      <td>2.0417</td>\n",
       "      <td>2.5316</td>\n",
       "      <td>0.806470</td>\n",
       "    </tr>\n",
       "    <tr>\n",
       "      <td>7</td>\n",
       "      <td>Historical</td>\n",
       "      <td>8868</td>\n",
       "      <td>4520</td>\n",
       "      <td>1.2815</td>\n",
       "      <td>1.7521</td>\n",
       "      <td>0.731381</td>\n",
       "    </tr>\n",
       "    <tr>\n",
       "      <td>8</td>\n",
       "      <td>Horror</td>\n",
       "      <td>7995</td>\n",
       "      <td>3270</td>\n",
       "      <td>1.1553</td>\n",
       "      <td>1.2676</td>\n",
       "      <td>0.911438</td>\n",
       "    </tr>\n",
       "    <tr>\n",
       "      <td>9</td>\n",
       "      <td>Sports</td>\n",
       "      <td>4710</td>\n",
       "      <td>2405</td>\n",
       "      <td>0.6806</td>\n",
       "      <td>0.9323</td>\n",
       "      <td>0.730066</td>\n",
       "    </tr>\n",
       "  </tbody>\n",
       "</table>\n",
       "</div>"
      ],
      "text/plain": [
       "          genre  count_m  count_f  % of all counts (m)  % of all counts (f)  \\\n",
       "0        Comedy    64048    25970               9.2551              10.0668   \n",
       "1       Shounen    41307    16619               5.9690               6.4421   \n",
       "2  Supernatural    38318    15587               5.5371               6.0420   \n",
       "3       Romance    35872    14090               5.1836               5.4617   \n",
       "4       Fantasy    33466    13252               4.8359               5.1369   \n",
       "5       Mystery    23328    10586               3.3710               4.1035   \n",
       "6         Magic    14129     6531               2.0417               2.5316   \n",
       "7    Historical     8868     4520               1.2815               1.7521   \n",
       "8        Horror     7995     3270               1.1553               1.2676   \n",
       "9        Sports     4710     2405               0.6806               0.9323   \n",
       "\n",
       "   ratio of m:f  \n",
       "0      0.919369  \n",
       "1      0.926563  \n",
       "2      0.916424  \n",
       "3      0.949076  \n",
       "4      0.941410  \n",
       "5      0.821489  \n",
       "6      0.806470  \n",
       "7      0.731381  \n",
       "8      0.911438  \n",
       "9      0.730066  "
      ]
     },
     "execution_count": 36,
     "metadata": {},
     "output_type": "execute_result"
    }
   ],
   "source": [
    "female_pref.head(10)"
   ]
  },
  {
   "cell_type": "markdown",
   "metadata": {},
   "source": [
    "## Part 4: Statistical summary and visualization of episodes and other variables\n",
    "\n",
    "We want to observe the distribution of number of episodes of anime, as well as the relationship between number of episodes and score and number of members that have the anime on their list."
   ]
  },
  {
   "cell_type": "code",
   "execution_count": 37,
   "metadata": {},
   "outputs": [],
   "source": [
    "#creating variables for easy access\n",
    "rank=anime_epdata[\"ranked\"]\n",
    "popularity=anime_epdata[\"popularity\"]\n",
    "score=anime_epdata[\"score\"]\n",
    "members=anime_epdata[\"members\"]\n",
    "episodes=anime_epdata[\"episodes\"]"
   ]
  },
  {
   "cell_type": "code",
   "execution_count": 38,
   "metadata": {},
   "outputs": [
    {
     "data": {
      "image/png": "[encoded data removed]",
      "text/plain": [
       "<Figure size 432x288 with 1 Axes>"
      ]
     },
     "metadata": {
      "needs_background": "light"
     },
     "output_type": "display_data"
    },
    {
     "name": "stdout",
     "output_type": "stream",
     "text": [
      "Statistical summary of anime episodes\n",
      "count    6957.00\n",
      "mean       18.79\n",
      "std        18.27\n",
      "min         2.00\n",
      "25%         6.00\n",
      "50%        12.00\n",
      "75%        26.00\n",
      "max       110.00\n",
      "Name: episodes, dtype: float64\n",
      "\n",
      "Mode episodes: 0    12.0\n",
      "dtype: float64\n"
     ]
    }
   ],
   "source": [
    "#Plot histogram of distribution of episodes\n",
    "plt.hist(episodes, bins=100, rwidth=0.9)\n",
    "plt.title(\"Histogram of number of episodes of animes\")\n",
    "plt.xlabel('episodes')\n",
    "plt.ylabel('count')\n",
    "plt.show()\n",
    "\n",
    "#statistical summaries\n",
    "print(\"Statistical summary of anime episodes\")\n",
    "print(round(episodes.describe(),2))\n",
    "print(\"\\nMode episodes: {}\".format(episodes.mode()))"
   ]
  },
  {
   "cell_type": "markdown",
   "metadata": {},
   "source": [
    "From the histogram, we can tell that there are a lot of animes in the range of 0-20 episodes, especially around 10-15 episodes, with 12 episodes being the most common. This is probably due to the fact that animes are released by seasons, which lasts about 12-13 weeks given that each month has about 4-5 weeks. If one episode is released a week then it would make sense that the mode and median is 12.0."
   ]
  },
  {
   "cell_type": "code",
   "execution_count": 39,
   "metadata": {},
   "outputs": [
    {
     "data": {
      "image/png": "[encoded data removed]",
      "text/plain": [
       "<Figure size 432x288 with 1 Axes>"
      ]
     },
     "metadata": {
      "needs_background": "light"
     },
     "output_type": "display_data"
    }
   ],
   "source": [
    "plt.scatter(episodes, score, alpha=0.3)\n",
    "plt.title(\"Scatterplot of number of episodes to score\")\n",
    "plt.xlabel('episodes')\n",
    "plt.ylabel('score')\n",
    "plt.show()"
   ]
  },
  {
   "cell_type": "markdown",
   "metadata": {},
   "source": [
    "From this we can see what we observed from the histogram, that there is a spike in number of animes with around 12, 24, and 48-50 episodes, with number of animes dwindling in higher episodes. The majority of the scores seem to be between 4-8."
   ]
  },
  {
   "cell_type": "code",
   "execution_count": 40,
   "metadata": {},
   "outputs": [
    {
     "data": {
      "image/png": "[encoded data removed]",
      "text/plain": [
       "<Figure size 432x288 with 1 Axes>"
      ]
     },
     "metadata": {
      "needs_background": "light"
     },
     "output_type": "display_data"
    }
   ],
   "source": [
    "plt.scatter(episodes, members, alpha=0.3)\n",
    "plt.title(\"Scatterplot of number of episodes to members\")\n",
    "plt.xlabel('episodes')\n",
    "plt.ylabel('members')\n",
    "plt.show()"
   ]
  },
  {
   "cell_type": "markdown",
   "metadata": {},
   "source": [
    "We see a greater variety in the number of members around 12 and 24 episode animes, most likely because the majority of animes are within those durations. "
   ]
  },
  {
   "cell_type": "markdown",
   "metadata": {},
   "source": [
    "## Part 5: Analysis #2 -  Relationship between number of episodes and the variables, popularity and rank\n",
    "\n",
    "First, we'll analyze  using a linear regression model to predict score, number of members, popularity, and rank based on the number of episodes. The metrics will be the outcomes and number of episodes is the predictor variable. "
   ]
  },
  {
   "cell_type": "markdown",
   "metadata": {},
   "source": [
    "#### Linear regression\n",
    "\n",
    "We are most interested in the r-squared value and the spearman correlation which was chosen because rank and popularity are ordinal data and describe a monotonic relationship."
   ]
  },
  {
   "cell_type": "code",
   "execution_count": 41,
   "metadata": {},
   "outputs": [
    {
     "data": {
      "image/png": "[encoded data removed]",
      "text/plain": [
       "<Figure size 432x288 with 1 Axes>"
      ]
     },
     "metadata": {
      "needs_background": "light"
     },
     "output_type": "display_data"
    },
    {
     "name": "stdout",
     "output_type": "stream",
     "text": [
      "Predictor variable: score\n",
      "r-squared value with score: 0.007682396268826164\n",
      "regression slope with score: 0.004296752376994456\n",
      "\n",
      "Spearman correlation: 0.163647551445702\n"
     ]
    },
    {
     "data": {
      "image/png": "[encoded data removed]",
      "text/plain": [
       "<Figure size 432x288 with 1 Axes>"
      ]
     },
     "metadata": {
      "needs_background": "light"
     },
     "output_type": "display_data"
    },
    {
     "name": "stdout",
     "output_type": "stream",
     "text": [
      "Predictor variable: members\n",
      "r-squared value with members: 0.00020141986930344302\n",
      "regression slope with members: -100.64662886260453\n",
      "\n",
      "Spearman correlation: -0.0015401418117634287\n"
     ]
    },
    {
     "data": {
      "image/png": "[encoded data removed]",
      "text/plain": [
       "<Figure size 432x288 with 1 Axes>"
      ]
     },
     "metadata": {
      "needs_background": "light"
     },
     "output_type": "display_data"
    },
    {
     "name": "stdout",
     "output_type": "stream",
     "text": [
      "Predictor variable: popularity\n",
      "r-squared value with popularity: 0.012861929510470382\n",
      "regression slope with popularity: 29.1863802748941\n",
      "\n",
      "Spearman correlation: 0.0013275743169721553\n"
     ]
    },
    {
     "data": {
      "image/png": "[encoded data removed]",
      "text/plain": [
       "<Figure size 432x288 with 1 Axes>"
      ]
     },
     "metadata": {
      "needs_background": "light"
     },
     "output_type": "display_data"
    },
    {
     "name": "stdout",
     "output_type": "stream",
     "text": [
      "Predictor variable: ranked\n",
      "r-squared value with ranked: 0.001130239123015242\n",
      "regression slope with ranked: -7.614598322456281\n",
      "\n",
      "Spearman correlation: -0.11597774559924326\n"
     ]
    }
   ],
   "source": [
    "anime_metrics=[\"score\", \"members\", \"popularity\", \"ranked\"]\n",
    "\n",
    "#Loop graphs and stats for anime metrics\n",
    "for metric in anime_metrics:\n",
    "    anime_linmodel = LinearRegression().fit(anime_epdata[[\"episodes\"]], anime_epdata[metric])\n",
    "    predictions = anime_linmodel.predict(anime_epdata[[\"episodes\"]])\n",
    "    plt.plot(anime_epdata[\"episodes\"], predictions)\n",
    "    plt.title(\"Prediction for episodes vs {}\".format(metric))\n",
    "    plt.xlabel('Number of episodes')\n",
    "    plt.ylabel('{}'.format(metric))\n",
    "    plt.show()\n",
    "    print(\"Predictor variable: {}\".format(metric))\n",
    "    print(\"r-squared value with {}: {}\".format(metric, anime_linmodel.score(anime_epdata[[\"episodes\"]], anime_epdata[metric])))\n",
    "    print(\"regression slope with {}: {}\".format(metric, anime_linmodel.coef_[0]))\n",
    "    spearman = episodes.corr(anime_epdata[metric], method = 'spearman')\n",
    "    print(\"\\nSpearman correlation: {}\".format(spearman))"
   ]
  },
  {
   "cell_type": "markdown",
   "metadata": {},
   "source": [
    "Looking at the regression slopes, the slopes for popularity and members is a little unintuitive since it suggests that as the number of anime episodes goes up by 1, the number of members who have the anime listed go down by 100, suggesting that the numerical value of popularity would go up (meaning lower popularity). However, the regression slope is positive. The regression slopes for score and rank make some sense in that when the score increases, the numerical value of rank decreases (better ranked).\n",
    "\n",
    "There is very low spearman correlation (very close to 0.0) between episodes and all of the metrics which suggests there is very little to no linear relationship. \n",
    "\n",
    "The r-squared value for all these metrics are very low and close to 0.0. In this regression model, it means that the data points for each metric do not fit very well with the line of best fit. This suggests that any variation in the score, rank, popularity, and members of the anime cannot be reliably attributed to the number of episodes. "
   ]
  },
  {
   "cell_type": "markdown",
   "metadata": {},
   "source": [
    "#### Multilinear regression\n",
    "\n",
    "Because the linear regression did not adequately describe the relationship between the metrics and number of episodes, we tried using a multilinear regression to control for see if using the metrics, we can predict the ideal number of episodes for an anime. "
   ]
  },
  {
   "cell_type": "code",
   "execution_count": 42,
   "metadata": {},
   "outputs": [
    {
     "name": "stdout",
     "output_type": "stream",
     "text": [
      "coefficient for popularity: 0.0015775959896253417\n",
      "coefficient for ranked: -0.0008671705668739163\n",
      "coefficient for score: 3.794451895106062\n",
      "coefficient for members: 2.0544560900726137e-06\n",
      "r-squared value: 0.06874451813721594\n"
     ]
    }
   ],
   "source": [
    "#Multilinear regression\n",
    "multi_episodes_model = LinearRegression().fit(anime_epdata[[\"popularity\", \"ranked\", \"score\",\"members\"]], anime_epdata[\"episodes\"])\n",
    "multi_predictions = multi_episodes_model.predict(anime_epdata[[\"popularity\", \"ranked\", \"score\",\"members\"]])\n",
    "print(\"coefficient for popularity: {}\".format(multi_episodes_model.coef_[0]))\n",
    "print(\"coefficient for ranked: {}\".format(multi_episodes_model.coef_[1]))\n",
    "print(\"coefficient for score: {}\".format(multi_episodes_model.coef_[2]))\n",
    "print(\"coefficient for members: {}\".format(multi_episodes_model.coef_[3]))\n",
    "print(\"r-squared value: {}\".format(multi_episodes_model.score(anime_epdata[[\"popularity\", \"ranked\", \"score\",\"members\"]], anime_epdata[\"episodes\"])))"
   ]
  },
  {
   "cell_type": "markdown",
   "metadata": {},
   "source": [
    "Looking at the coefficients, it seems that score and members played a much bigger role in determining number of episodes while ranked and popularity didn't (which might be because they are discrete ordinal values). \n",
    "\n",
    "From this regression we see that the r-squared value is still very small so the datapoints are not a close fit with the line of best fit. "
   ]
  },
  {
   "cell_type": "markdown",
   "metadata": {},
   "source": [
    "#### Logistic regression\n",
    "\n",
    "We also tried doing a logistic regression because score is also categorical data and we could split scores of anime between above average and below average."
   ]
  },
  {
   "cell_type": "code",
   "execution_count": 43,
   "metadata": {},
   "outputs": [
    {
     "data": {
      "image/png": "[encoded data removed]",
      "text/plain": [
       "<Figure size 720x216 with 1 Axes>"
      ]
     },
     "metadata": {
      "needs_background": "light"
     },
     "output_type": "display_data"
    }
   ],
   "source": [
    "def logit(x):\n",
    "    return np.exp(x) / (np.exp(x) + 1)\n",
    "\n",
    "def above_mean(x):\n",
    "    if x > 6.62:\n",
    "        return 1\n",
    "    else:\n",
    "        return 0\n",
    "    \n",
    "def below_mean(x):\n",
    "    if x < 6.62:\n",
    "        return 1\n",
    "    else:\n",
    "        return 0\n",
    "    \n",
    "anime_epdata[\"high_score\"] = score.map(above_mean)\n",
    "anime_epdata[\"low_score\"] = score.map(below_mean)\n",
    "\n",
    "model = LogisticRegression(solver=\"lbfgs\").fit(anime_epdata[[\"episodes\"]], anime_epdata[\"high_score\"])\n",
    "\n",
    "model.coef_, model.intercept_\n",
    "\n",
    "x_values = np.linspace(0, 110, 100)\n",
    "    \n",
    "plt.figure(figsize=(10,3))\n",
    "plt.scatter(episodes, anime_epdata[\"high_score\"], alpha=0.1)\n",
    "plt.title(\"Logistic regression of high/low scores and number of episodes\".format(metric))\n",
    "plt.xlabel('Number of episodes')\n",
    "plt.ylabel('{}'.format(metric))\n",
    "plt.plot(x_values, logit(x_values * model.coef_[0,0] + model.intercept_[0]))\n",
    "plt.show()"
   ]
  },
  {
   "cell_type": "code",
   "execution_count": 44,
   "metadata": {},
   "outputs": [
    {
     "name": "stdout",
     "output_type": "stream",
     "text": [
      "Regression coefficient of episodes: 0.0084900\n"
     ]
    }
   ],
   "source": [
    "anime_train, anime_test = train_test_split(anime_epdata, test_size = 0.2, random_state = 15)\n",
    "model = LogisticRegression(solver=\"lbfgs\").fit(anime_train[[\"episodes\"]],anime_train[\"high_score\"])\n",
    "print(\"Regression coefficient of episodes: {:.7f}\".format(model.coef_[0][0]))"
   ]
  },
  {
   "cell_type": "markdown",
   "metadata": {},
   "source": [
    "Given that we have a regression coefficient of 0.00849, if we take the $e^(0.00849)$, we get that the odds of the the anime having a high score as an outcome are 1.01 times the odds of getting a low score as an outcome. This shows that the any episode of anime is just as likely to get a high or low score."
   ]
  },
  {
   "cell_type": "code",
   "execution_count": 45,
   "metadata": {},
   "outputs": [
    {
     "name": "stdout",
     "output_type": "stream",
     "text": [
      "prediction accuracy: 50.6\n",
      "\n",
      "prediction accuracy: 53.8\n"
     ]
    }
   ],
   "source": [
    "n_correct = sum(anime_test[\"high_score\"] == model.predict(anime_test[[\"episodes\"]]))\n",
    "n_total = len(anime_test)\n",
    "print(\"prediction accuracy: {:.1f}\".format(100 * (n_correct / n_total)))\n",
    "n_correct = sum(anime_train[\"high_score\"] == model.predict(anime_train[[\"episodes\"]]))\n",
    "n_total = len(anime_train)\n",
    "print(\"\\nprediction accuracy: {:.1f}\".format(100 * (n_correct / n_total)))"
   ]
  },
  {
   "cell_type": "markdown",
   "metadata": {},
   "source": [
    "This prediction accuracy matches fairly accurately with the logistic regression model above in that the odds are almost 1:1 of getting a high or low score based on the number of episodes. As with the result above, number of episodes is not a reliable predictor for score. "
   ]
  },
  {
   "cell_type": "markdown",
   "metadata": {},
   "source": [
    "# Evaluation of Significance\n",
    "\n",
    "___ "
   ]
  },
  {
   "cell_type": "markdown",
   "metadata": {},
   "source": [
    "## Differences in Genre Preference by Gender\n",
    "\n",
    "**Hypotheses**: \n",
    "\n",
    "*Null hypothesis*: There are no gender differences in genre preference. The genre counts for male favorites _will be equal_ to the genre counts for female favorites. \n",
    "\n",
    "*Alternative hypothesis*: There is a gender difference in genre preference. The genre counts for male favorites _will not be equal_ to genre counts for female favorites. \n",
    "\n",
    "#### Welch's t test \n",
    "To determine whether the observed difference between males v. females is significant, we would need to perform a statistical test. In the dataset, there is an imbalance in sample size as there are approximately 2 times more males than females. Since the variance is unequal, we opted to use Welch's t-test to calculate the p-value. We have defined our alpha to be 0.05. "
   ]
  },
  {
   "cell_type": "code",
   "execution_count": 46,
   "metadata": {
    "scrolled": true
   },
   "outputs": [
    {
     "name": "stdout",
     "output_type": "stream",
     "text": [
      "p-value: 0.0011185527903480163\n",
      "p-value statistically significant? True\n"
     ]
    }
   ],
   "source": [
    "pval = stats.ttest_ind(merged['count_m'], merged['count_f'], equal_var = False)[1]\n",
    "print('p-value: {}'.format(pval))\n",
    "print(\"p-value statistically significant? {}\".format(float(pval) < 0.05))"
   ]
  },
  {
   "cell_type": "markdown",
   "metadata": {},
   "source": [
    "The t test produced a p-value of approximately 0.001. This is less than the alpha = 0.05, which suggests that the observed gender differences are significant since there is a very low chance that the observed result is due to random chance. Therefore, we reject the null hypothesis, and conclude that there is in fact a gender difference in genre preference. "
   ]
  },
  {
   "cell_type": "markdown",
   "metadata": {},
   "source": [
    "## Significance of relationship in sample of anime data between score and episodes\n",
    "\n",
    "#### Hypotheses\n",
    "*Null hypothesis*: The regression coefficient of the logistic regression model is not significant.\n",
    "\n",
    "*Alternative hypothesis*: The regression coefficient of the logistic regression model is significant."
   ]
  },
  {
   "cell_type": "markdown",
   "metadata": {},
   "source": [
    "We did a statistical test to check the significance of the regression coefficient of a logistic regression. "
   ]
  },
  {
   "cell_type": "code",
   "execution_count": 47,
   "metadata": {},
   "outputs": [
    {
     "name": "stdout",
     "output_type": "stream",
     "text": [
      "p-value: 0.0\n",
      "p-value statistically significant? True\n"
     ]
    }
   ],
   "source": [
    "number_stat = 0\n",
    "for x in range(len(anime_epdata[\"high_score\"])):\n",
    "    anime_epdata[\"high_score\"] = np.random.permutation(anime_epdata[\"high_score\"].values)\n",
    "    anime_train, anime_test = train_test_split(anime_epdata, test_size = 0.2, random_state = 15)\n",
    "    model = LogisticRegression(solver=\"lbfgs\").fit(anime_train[[\"episodes\"]],anime_train[\"high_score\"])\n",
    "    if abs(model.coef_[0][0]) >  0.0084900:\n",
    "        number_stat += 1\n",
    "        \n",
    "proportion = number_stat/len(anime_epdata[\"high_score\"])\n",
    "print(\"p-value: {}\".format(proportion))\n",
    "print(\"p-value statistically significant? {}\".format(float(proportion) < 0.05))"
   ]
  },
  {
   "cell_type": "markdown",
   "metadata": {},
   "source": [
    "Because the statistical test showed that the p-value is 0.0, which is less than our chosen alpha=0.05, this tells us to reject the ull hypothesis and that our regression coefficient from the model we got with the real data is significant and not likely due to random chance."
   ]
  },
  {
   "cell_type": "markdown",
   "metadata": {},
   "source": [
    "# Interpretations \n",
    "____ "
   ]
  },
  {
   "cell_type": "markdown",
   "metadata": {},
   "source": [
    "### _1. Are there gender differences in genre preference? Do they play into stereotypes?_\n",
    "Our analyses revealed that there is a significant gender difference in genre preference (p = 0.001). \n",
    "\n",
    "We found that gender differences in genre preference does generally play into stereotypes. Specifically, males are more likely to prefer anime that contain themes such as action, adventure, sci-fi, military, and super power. Meanwhile, females were more likely to prefer anime that contain themes such as romance, fantasy, magic, and comedy. Surprisingly, females were more likely than males to list animes with themes such as horror, sports, and shounen (a genre of anime that caters to young teen males). Therefore, while we have found that there are times when genre preferences do play into gender stereotypes (ex: males prefer action, females prefer romance), we cannot make a conclusive statement since what genre is stereotypically male or female is up for debate. \n",
    "\n",
    "\n",
    "### _2. Which anime genres are most favorited? Are anime studios effectively catering to their viewers?_\n",
    "From the graphic distribution of anime genres, we can see that a majority of animes have the comedy, action, fantasy, and adventure tags. When looking at the graphic distribution of most frequent genre tags in reported male v. female favorites, we see a similar distribution for both genders where comedy and action are the most frequent genre tags in reported favorites. However, shounen and drama genre tags frequencies in favorites are greater than the fantasy and adventure tags. \n",
    "\n",
    "In other words, anime studios are creating more animes with fantasy and adventure themes than shounen and drama themes, but anime viewers actually prefer shounen and drama themes more. This discrepancy could indicate that anime studios would better cater to their female and male audiences by creating more anime that incorporate shounen and drama themes. \n",
    "\n",
    "### 3. Does number of episodes influence which animes are the top rated animes? \n",
    "From our analyses, we found that animes with fewer episodes tend to score about the same as anime with more episodes. There is a lack of significance in the relationship between number of episodes and the viewership and popularity/satisfaction of the anime. When looking at the linear, multilinear, and logistic regression of these relationships, the r^2 value and regression coeeficient are too close to zero to fit the predicted line of best fit.\n",
    "\n",
    "This means that viewers aren't influenced by the number of episodes. In other words, long animes (whether due to the studio's budget or success of the anime) neither deter nor attract viewers to watch and give good ratings. It also shows that despite many anime being limited to around 12 or 24 episodes, this does not discourage viewers from picking up a shorter anime from a longer one. The current system of animes being released per season is inconsequential."
   ]
  },
  {
   "cell_type": "markdown",
   "metadata": {},
   "source": [
    "# Conclusion\n",
    "___"
   ]
  },
  {
   "cell_type": "markdown",
   "metadata": {},
   "source": [
    "In Japan, the anime industry accounts for a significant portion of their economy and culture, and the viewerbase is rapidly expanding overseas. In order for the industry to continue to thrive, it's essential that anime studios understand their customer preferences so that they can better market their anime to their intended viewers. From our analyses, we found there is a lack of significant correlation between number of episodes and viewership and popularity/ranking. When looking at gender differences, we found that there was a significant difference in female v. male preferences for genres such that males were more likely to prefer genres such as action and adventure, whereas females were more likely to prefer romance and comedy. Across both genders, however, more anime with shounen and drama themes are reported to be viewer favorites. \n",
    "\n",
    "Given our analyses, it would be wise for anime studios to consider their customer base when deciding what kind of anime to make. However, quantitative characteristics of the anime should not be a major concern so it is recommended for studios to release within their production time and budget. If a studio wishes to boost their score and viewership, they should look more towards other characteristics."
   ]
  },
  {
   "cell_type": "markdown",
   "metadata": {},
   "source": [
    "# Limitations\n",
    "\n",
    "____ \n",
    "Although we had a vast array of data available to us, below are some limitations we faced in our analyses.\n",
    "\n",
    "Dataset limitations: \n",
    "- The anime_data dataset was missing some anime titles, which was observed when no anime data could be found for anime of a certain anime uid. These anime were dropped from our analyses. \n",
    "- The user profiles dataset contained birth years, but the outliers in birth years demonstrate that some user data might have been fabricated. This puts the validity of the data into question since the birth years in the dataset might not have been the users' actual birth years.\n",
    "- Over 500 anime that are ongoing or have end dates were missing episodes in the dataset despite having a set number of episodes on MAL. This may have been an error in the initial collection of data. These were removed which took out the data for these set of animes.\n",
    "- Because movies and specials were removed, the data for those ranked and popularity were also removed, so that may created gaps in the analysis since rank and popularity are ordinal data.\n",
    "- Not all OVAs, specials, and movies were removed after manually checking on MAL using a sample. For example, one observation was denoted to have 13 episodes on MAL despite being a movie. Furthermore, some specials and OVAs have more than 1 episode, like 2 episodes. These observations were still included as \"TV anime\", which may have skewed some results.\n",
    "- MAL lists new seasons as a entirely new anime, thus if a certain animation was successful and got a second season, it would be considered a new anime. This means that for some animes, we won't be able to tell whether or not it got a continuation because of its popularity or ranking since it will be treated as a new anime. \n",
    "\n",
    "Analyses limitations: \n",
    "- Users identified themselves as female, male, or non-binary. While doing analysis on gender-based differences in genre preference, we ommitted looking at non-binary users because they were an extremely small fraction of the user population, and we were primarily interested in male vs. female differences. Thus, our analysis does not cover gender preferences for non-binary users. \n",
    "- Each anime has multiple genre tags (ex: an anime can simultaneously be action, adventure, romance, comedy, mystery), thus making it difficult for us to categorize an anime as one specific genre. The existence of these mulitple tags makes it impossible for us to determine whether an anime is predominantly one genre over another.\n",
    "- Popularity and rankare both ordinal/categorical data so the linear regression model and multilinear regression model may not have been the best option. The data is not a quantative measure such that one could say an anime ranked at 2 is two times better than an anime ranked at 4. While these could be considered categorial data, because there is nearly no limit to the ranking and popularity (dependent on the max anime of animes existing) unlike score, so it would be difficult to get tangible plots from it. But because the anime's rank is dependent on its score, we were able to indirectly analyze the rank of the anime."
   ]
  },
  {
   "cell_type": "markdown",
   "metadata": {},
   "source": [
    "# Acknowledgements \n",
    "\n",
    "___ "
   ]
  },
  {
   "cell_type": "markdown",
   "metadata": {},
   "source": [
    "We would like to thank Kaggle for being a platform where data scientists can freely explore datasets. The availability of Stack Overflow questions and answers online have helped tremendously in debugging and looking at figuring out new ways to clean and preserve our datasets. We would also like to thank Professor Mimno and the TAs of INFO2950 for teaching us data science essentials and reviewing our work. "
   ]
  },
  {
   "cell_type": "markdown",
   "metadata": {},
   "source": [
    "# Appendix \n",
    "___ \n",
    "Notebook link: https://github.com/michelleyang0606/info2950team/blob/master/Appendix.ipynb"
   ]
  }
 ],
 "metadata": {
  "kernelspec": {
   "display_name": "Python 3",
   "language": "python",
   "name": "python3"
  },
  "language_info": {
   "codemirror_mode": {
    "name": "ipython",
    "version": 3
   },
   "file_extension": ".py",
   "mimetype": "text/x-python",
   "name": "python",
   "nbconvert_exporter": "python",
   "pygments_lexer": "ipython3",
   "version": "3.7.4"
  }
 },
 "nbformat": 4,
 "nbformat_minor": 2
}
