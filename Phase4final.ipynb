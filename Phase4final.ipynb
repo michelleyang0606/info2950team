{
 "cells": [
  {
   "cell_type": "markdown",
   "metadata": {},
   "source": [
    "# Project Phase 4\n",
    "##### Michelle Yang (zy233) & Rachel Zhang (rz329)"
   ]
  },
  {
   "cell_type": "markdown",
   "metadata": {},
   "source": [
    "## Introduction\n",
    "-------------------------------------------------------------\n",
    "Anime is a type of hand-drawn and computer animation from Japan that is very popular across the world. It has influenced segments of pop culture in many ways since it first originated and continues to do so.\n",
    "\n",
    "The goal of this analysis is to dissect the anime consumer base so that anime studios may better understand what genres, age groups, and length they should target to get maximum rating and viewership. The types of animes that are released may bring about the next wave of pop cultural notes.\n",
    "\n",
    "### Research Questions\n",
    "##### Which animes are the top rated animes? Why are they top rated?\n",
    "- How might number of episodes of an anime play into popularity and ranking?\n",
    "\n",
    "##### What are the genre preferences for each gender? Do they play into stereotypes?\n",
    "- What can analyzing favorites tell us about this?\n",
    "\n",
    "##### Which animes are most favorited and why?\n",
    "- How does genre play into this?\n",
    "\n",
    "### Results\n",
    "\n",
    "\n",
    "##### Key findings\n",
    "- With higher number of episodes, there are less anime watchers who add it to their list, suggesting that fewer people are exposed to it in general. \n",
    "- The higher number of episodes put the anime at lower (inversed) general popularity.\n",
    "- Females tend to report more frequently than males that anime with the following genre tags (not necessarily all the tags simultaneously in one anime) are their favorites: comedy, shounen, supernatural, romance, fantasy, mystery, magic, historical, horror, and sports"
   ]
  },
  {
   "cell_type": "markdown",
   "metadata": {},
   "source": [
    "## Data collection & cleaning\n",
    "----------------------------------------------------------------------\n",
    "All datasets were obtained from Kaggle. These datasets are collected by Kaggle users from by web-crawling MyAnimeList (MAL) https://myanimelist.net/ and the unofficial Jikan API. Users created these datasets for personal/public interests and are not funded. \n",
    "\n",
    "Missing anime data and manual comparison with the website suggests that there may have been some interruptions during web-scraping causing some data to be unrecorded (NaN). There are also many duplicate observations in the dataset from Kaggle. \n",
    "\n",
    "Cleaning of the datasets was done 2 different times to account for the multiple datasets and merging, and the removal of certain animes that were missing particular data (such as episodes) for one analysis, but had sufficient data for other analysis. (Cleaning process below)\n",
    "\n",
    "#### animes_marlesson_may20.csv\n",
    "- List of anime scrapped from MAL.\n",
    "- Attributes (12): uid, title, synopsis, genre, aired (date), rank, popularity, score, episodes, members, img_url, and link. \n",
    "- Observations: individual animes\n",
    "\n",
    "#### profiles.csv \n",
    "- Information about users who watch anime, namely username, birth date, gender, and favorite animes list.\n",
    "- Attributes (5): profile, gender, birthday, favorites_animes, link\n",
    "- Observations: individual users\n",
    "- Data on user profiles were collected without informing users. Their informaiton is publicly provided by the user. \n",
    "\n",
    "### Raw source data\n",
    "----------------------------------------------------------------------\n",
    "https://www.kaggle.com/marlesson/myanimelist-dataset-animes-profiles-reviews?select=reviews.csv\n",
    "\n",
    "- animes_marlesson_may20.csv\n",
    "- profiles_marlesson_may20.csv\n",
    "\n",
    "### Github Repo Link\n",
    "____\n",
    "https://github.com/michelleyang0606/info2950team"
   ]
  },
  {
   "cell_type": "markdown",
   "metadata": {},
   "source": [
    "## Cleaning - Preparing genre/gender analysis"
   ]
  },
  {
   "cell_type": "code",
   "execution_count": 2,
   "metadata": {},
   "outputs": [],
   "source": [
    "import numpy as np\n",
    "import pandas as pd\n",
    "import matplotlib.pyplot as plt\n",
    "from sklearn.linear_model import LinearRegression\n",
    "import seaborn as sns\n",
    "import ast\n",
    "\n",
    "#Style\n",
    "plt.style.use(\"seaborn\")"
   ]
  },
  {
   "cell_type": "code",
   "execution_count": 4,
   "metadata": {
    "scrolled": false
   },
   "outputs": [
    {
     "name": "stdout",
     "output_type": "stream",
     "text": [
      "Number of Columns in anime_data: 12\n",
      "Number of Observations in anime_data: 19311\n",
      "\n",
      "Number of Columns in users: 5\n",
      "Number of Observations in users: 81727\n"
     ]
    }
   ],
   "source": [
    "#importing \"anime_marlesson_jan20.csv\"\n",
    "anime_data = pd.read_csv(\"animes_marlesson_jan20.csv\")\n",
    "print(\"Number of Columns in anime_data: \" + str(len(anime_data.columns)))\n",
    "print(\"Number of Observations in anime_data: \" + str(len(anime_data)))\n",
    "#importing \"profiles_marlesson_jan20.csv\"\n",
    "users = pd.read_csv(\"profiles_marlesson_jan20.csv\")\n",
    "print(\"\\nNumber of Columns in users: \" + str(len(users.columns)))\n",
    "print(\"Number of Observations in users: \" + str(len(users)))"
   ]
  },
  {
   "cell_type": "markdown",
   "metadata": {},
   "source": [
    "### Cleaning anime_data"
   ]
  },
  {
   "cell_type": "code",
   "execution_count": 5,
   "metadata": {
    "scrolled": true
   },
   "outputs": [
    {
     "name": "stdout",
     "output_type": "stream",
     "text": [
      "Number of Columns After Cleaning Data: 10\n",
      "Number of Observations After Cleaning Data: 19311\n"
     ]
    },
    {
     "data": {
      "text/html": [
       "<div>\n",
       "<style scoped>\n",
       "    .dataframe tbody tr th:only-of-type {\n",
       "        vertical-align: middle;\n",
       "    }\n",
       "\n",
       "    .dataframe tbody tr th {\n",
       "        vertical-align: top;\n",
       "    }\n",
       "\n",
       "    .dataframe thead th {\n",
       "        text-align: right;\n",
       "    }\n",
       "</style>\n",
       "<table border=\"1\" class=\"dataframe\">\n",
       "  <thead>\n",
       "    <tr style=\"text-align: right;\">\n",
       "      <th></th>\n",
       "      <th>uid</th>\n",
       "      <th>title</th>\n",
       "      <th>synopsis</th>\n",
       "      <th>genre</th>\n",
       "      <th>aired</th>\n",
       "      <th>episodes</th>\n",
       "      <th>members</th>\n",
       "      <th>popularity</th>\n",
       "      <th>ranked</th>\n",
       "      <th>rating</th>\n",
       "    </tr>\n",
       "  </thead>\n",
       "  <tbody>\n",
       "    <tr>\n",
       "      <td>0</td>\n",
       "      <td>28891</td>\n",
       "      <td>Haikyuu!! Second Season</td>\n",
       "      <td>Following their participation at the Inter-Hig...</td>\n",
       "      <td>['Comedy', 'Sports', 'Drama', 'School', 'Shoun...</td>\n",
       "      <td>Oct 4, 2015 to Mar 27, 2016</td>\n",
       "      <td>25.0</td>\n",
       "      <td>489888</td>\n",
       "      <td>141</td>\n",
       "      <td>25.0</td>\n",
       "      <td>8.82</td>\n",
       "    </tr>\n",
       "    <tr>\n",
       "      <td>1</td>\n",
       "      <td>23273</td>\n",
       "      <td>Shigatsu wa Kimi no Uso</td>\n",
       "      <td>Music accompanies the path of the human metron...</td>\n",
       "      <td>['Drama', 'Music', 'Romance', 'School', 'Shoun...</td>\n",
       "      <td>Oct 10, 2014 to Mar 20, 2015</td>\n",
       "      <td>22.0</td>\n",
       "      <td>995473</td>\n",
       "      <td>28</td>\n",
       "      <td>24.0</td>\n",
       "      <td>8.83</td>\n",
       "    </tr>\n",
       "    <tr>\n",
       "      <td>2</td>\n",
       "      <td>34599</td>\n",
       "      <td>Made in Abyss</td>\n",
       "      <td>The Abyss—a gaping chasm stretching down into ...</td>\n",
       "      <td>['Sci-Fi', 'Adventure', 'Mystery', 'Drama', 'F...</td>\n",
       "      <td>Jul 7, 2017 to Sep 29, 2017</td>\n",
       "      <td>13.0</td>\n",
       "      <td>581663</td>\n",
       "      <td>98</td>\n",
       "      <td>23.0</td>\n",
       "      <td>8.83</td>\n",
       "    </tr>\n",
       "    <tr>\n",
       "      <td>3</td>\n",
       "      <td>5114</td>\n",
       "      <td>Fullmetal Alchemist: Brotherhood</td>\n",
       "      <td>\"In order for something to be obtained, someth...</td>\n",
       "      <td>['Action', 'Military', 'Adventure', 'Comedy', ...</td>\n",
       "      <td>Apr 5, 2009 to Jul 4, 2010</td>\n",
       "      <td>64.0</td>\n",
       "      <td>1615084</td>\n",
       "      <td>4</td>\n",
       "      <td>1.0</td>\n",
       "      <td>9.23</td>\n",
       "    </tr>\n",
       "    <tr>\n",
       "      <td>4</td>\n",
       "      <td>31758</td>\n",
       "      <td>Kizumonogatari III: Reiketsu-hen</td>\n",
       "      <td>After helping revive the legendary vampire Kis...</td>\n",
       "      <td>['Action', 'Mystery', 'Supernatural', 'Vampire']</td>\n",
       "      <td>Jan 6, 2017</td>\n",
       "      <td>1.0</td>\n",
       "      <td>214621</td>\n",
       "      <td>502</td>\n",
       "      <td>22.0</td>\n",
       "      <td>8.83</td>\n",
       "    </tr>\n",
       "  </tbody>\n",
       "</table>\n",
       "</div>"
      ],
      "text/plain": [
       "     uid                             title  \\\n",
       "0  28891           Haikyuu!! Second Season   \n",
       "1  23273           Shigatsu wa Kimi no Uso   \n",
       "2  34599                     Made in Abyss   \n",
       "3   5114  Fullmetal Alchemist: Brotherhood   \n",
       "4  31758  Kizumonogatari III: Reiketsu-hen   \n",
       "\n",
       "                                            synopsis  \\\n",
       "0  Following their participation at the Inter-Hig...   \n",
       "1  Music accompanies the path of the human metron...   \n",
       "2  The Abyss—a gaping chasm stretching down into ...   \n",
       "3  \"In order for something to be obtained, someth...   \n",
       "4  After helping revive the legendary vampire Kis...   \n",
       "\n",
       "                                               genre  \\\n",
       "0  ['Comedy', 'Sports', 'Drama', 'School', 'Shoun...   \n",
       "1  ['Drama', 'Music', 'Romance', 'School', 'Shoun...   \n",
       "2  ['Sci-Fi', 'Adventure', 'Mystery', 'Drama', 'F...   \n",
       "3  ['Action', 'Military', 'Adventure', 'Comedy', ...   \n",
       "4   ['Action', 'Mystery', 'Supernatural', 'Vampire']   \n",
       "\n",
       "                          aired  episodes  members  popularity  ranked  rating  \n",
       "0   Oct 4, 2015 to Mar 27, 2016      25.0   489888         141    25.0    8.82  \n",
       "1  Oct 10, 2014 to Mar 20, 2015      22.0   995473          28    24.0    8.83  \n",
       "2   Jul 7, 2017 to Sep 29, 2017      13.0   581663          98    23.0    8.83  \n",
       "3    Apr 5, 2009 to Jul 4, 2010      64.0  1615084           4     1.0    9.23  \n",
       "4                   Jan 6, 2017       1.0   214621         502    22.0    8.83  "
      ]
     },
     "execution_count": 5,
     "metadata": {},
     "output_type": "execute_result"
    }
   ],
   "source": [
    "#anime_data = anime_data.dropna()\n",
    "anime_data = anime_data.drop(columns = ['img_url', 'link'])\n",
    "anime_data = anime_data.rename(columns = {'score':'rating'}) \n",
    "print(\"Number of Columns After Cleaning Data: \" + str(len(anime_data.columns)))\n",
    "print(\"Number of Observations After Cleaning Data: \" + str(len(anime_data)))\n",
    "anime_data.head()"
   ]
  },
  {
   "cell_type": "markdown",
   "metadata": {},
   "source": [
    "#### Creating \"aired_year\" column"
   ]
  },
  {
   "cell_type": "markdown",
   "metadata": {},
   "source": [
    "In the dataframe, there is a column named \"aired\" that gives the air dates of the anime in one of the following formats: \n",
    "- month, year \n",
    "- year \n",
    "- year to year (ex: 20xx to 20xx) \n",
    "- NaN \n",
    "\n",
    "For the data analyses that we will be doing, we only need the year that the anime aired. Thus, we created a new column that extracts the air year from the \"aired\" column, dropping anime that were missing \"aired.\"\n",
    "\n",
    "\n"
   ]
  },
  {
   "cell_type": "code",
   "execution_count": 8,
   "metadata": {
    "scrolled": true
   },
   "outputs": [
    {
     "name": "stdout",
     "output_type": "stream",
     "text": [
      "Number of observations after dropping anime without aired_year: 19311\n",
      "Below are the first 5 rows of the dataset with the new column 'aired_year' \n"
     ]
    },
    {
     "data": {
      "text/html": [
       "<div>\n",
       "<style scoped>\n",
       "    .dataframe tbody tr th:only-of-type {\n",
       "        vertical-align: middle;\n",
       "    }\n",
       "\n",
       "    .dataframe tbody tr th {\n",
       "        vertical-align: top;\n",
       "    }\n",
       "\n",
       "    .dataframe thead th {\n",
       "        text-align: right;\n",
       "    }\n",
       "</style>\n",
       "<table border=\"1\" class=\"dataframe\">\n",
       "  <thead>\n",
       "    <tr style=\"text-align: right;\">\n",
       "      <th></th>\n",
       "      <th>uid</th>\n",
       "      <th>title</th>\n",
       "      <th>synopsis</th>\n",
       "      <th>genre</th>\n",
       "      <th>aired</th>\n",
       "      <th>episodes</th>\n",
       "      <th>members</th>\n",
       "      <th>popularity</th>\n",
       "      <th>ranked</th>\n",
       "      <th>rating</th>\n",
       "      <th>aired_year</th>\n",
       "    </tr>\n",
       "  </thead>\n",
       "  <tbody>\n",
       "    <tr>\n",
       "      <td>0</td>\n",
       "      <td>28891</td>\n",
       "      <td>Haikyuu!! Second Season</td>\n",
       "      <td>Following their participation at the Inter-Hig...</td>\n",
       "      <td>['Comedy', 'Sports', 'Drama', 'School', 'Shoun...</td>\n",
       "      <td>Oct 4, 2015 to Mar 27, 2016</td>\n",
       "      <td>25.0</td>\n",
       "      <td>489888</td>\n",
       "      <td>141</td>\n",
       "      <td>25.0</td>\n",
       "      <td>8.82</td>\n",
       "      <td>2015</td>\n",
       "    </tr>\n",
       "    <tr>\n",
       "      <td>1</td>\n",
       "      <td>23273</td>\n",
       "      <td>Shigatsu wa Kimi no Uso</td>\n",
       "      <td>Music accompanies the path of the human metron...</td>\n",
       "      <td>['Drama', 'Music', 'Romance', 'School', 'Shoun...</td>\n",
       "      <td>Oct 10, 2014 to Mar 20, 2015</td>\n",
       "      <td>22.0</td>\n",
       "      <td>995473</td>\n",
       "      <td>28</td>\n",
       "      <td>24.0</td>\n",
       "      <td>8.83</td>\n",
       "      <td>2014</td>\n",
       "    </tr>\n",
       "    <tr>\n",
       "      <td>2</td>\n",
       "      <td>34599</td>\n",
       "      <td>Made in Abyss</td>\n",
       "      <td>The Abyss—a gaping chasm stretching down into ...</td>\n",
       "      <td>['Sci-Fi', 'Adventure', 'Mystery', 'Drama', 'F...</td>\n",
       "      <td>Jul 7, 2017 to Sep 29, 2017</td>\n",
       "      <td>13.0</td>\n",
       "      <td>581663</td>\n",
       "      <td>98</td>\n",
       "      <td>23.0</td>\n",
       "      <td>8.83</td>\n",
       "      <td>2017</td>\n",
       "    </tr>\n",
       "    <tr>\n",
       "      <td>3</td>\n",
       "      <td>5114</td>\n",
       "      <td>Fullmetal Alchemist: Brotherhood</td>\n",
       "      <td>\"In order for something to be obtained, someth...</td>\n",
       "      <td>['Action', 'Military', 'Adventure', 'Comedy', ...</td>\n",
       "      <td>Apr 5, 2009 to Jul 4, 2010</td>\n",
       "      <td>64.0</td>\n",
       "      <td>1615084</td>\n",
       "      <td>4</td>\n",
       "      <td>1.0</td>\n",
       "      <td>9.23</td>\n",
       "      <td>2009</td>\n",
       "    </tr>\n",
       "    <tr>\n",
       "      <td>4</td>\n",
       "      <td>31758</td>\n",
       "      <td>Kizumonogatari III: Reiketsu-hen</td>\n",
       "      <td>After helping revive the legendary vampire Kis...</td>\n",
       "      <td>['Action', 'Mystery', 'Supernatural', 'Vampire']</td>\n",
       "      <td>Jan 6, 2017</td>\n",
       "      <td>1.0</td>\n",
       "      <td>214621</td>\n",
       "      <td>502</td>\n",
       "      <td>22.0</td>\n",
       "      <td>8.83</td>\n",
       "      <td>2017</td>\n",
       "    </tr>\n",
       "  </tbody>\n",
       "</table>\n",
       "</div>"
      ],
      "text/plain": [
       "     uid                             title  \\\n",
       "0  28891           Haikyuu!! Second Season   \n",
       "1  23273           Shigatsu wa Kimi no Uso   \n",
       "2  34599                     Made in Abyss   \n",
       "3   5114  Fullmetal Alchemist: Brotherhood   \n",
       "4  31758  Kizumonogatari III: Reiketsu-hen   \n",
       "\n",
       "                                            synopsis  \\\n",
       "0  Following their participation at the Inter-Hig...   \n",
       "1  Music accompanies the path of the human metron...   \n",
       "2  The Abyss—a gaping chasm stretching down into ...   \n",
       "3  \"In order for something to be obtained, someth...   \n",
       "4  After helping revive the legendary vampire Kis...   \n",
       "\n",
       "                                               genre  \\\n",
       "0  ['Comedy', 'Sports', 'Drama', 'School', 'Shoun...   \n",
       "1  ['Drama', 'Music', 'Romance', 'School', 'Shoun...   \n",
       "2  ['Sci-Fi', 'Adventure', 'Mystery', 'Drama', 'F...   \n",
       "3  ['Action', 'Military', 'Adventure', 'Comedy', ...   \n",
       "4   ['Action', 'Mystery', 'Supernatural', 'Vampire']   \n",
       "\n",
       "                          aired  episodes  members  popularity  ranked  \\\n",
       "0   Oct 4, 2015 to Mar 27, 2016      25.0   489888         141    25.0   \n",
       "1  Oct 10, 2014 to Mar 20, 2015      22.0   995473          28    24.0   \n",
       "2   Jul 7, 2017 to Sep 29, 2017      13.0   581663          98    23.0   \n",
       "3    Apr 5, 2009 to Jul 4, 2010      64.0  1615084           4     1.0   \n",
       "4                   Jan 6, 2017       1.0   214621         502    22.0   \n",
       "\n",
       "   rating aired_year  \n",
       "0    8.82       2015  \n",
       "1    8.83       2014  \n",
       "2    8.83       2017  \n",
       "3    9.23       2009  \n",
       "4    8.83       2017  "
      ]
     },
     "execution_count": 8,
     "metadata": {},
     "output_type": "execute_result"
    }
   ],
   "source": [
    "# Adding a new column to represent the aired year \n",
    "# Cases: month, year ; Not available ; just 1 year ; 20xx to 20xx \n",
    "aired_years = [] \n",
    "for dates in anime_data['aired']: \n",
    "    if dates == \"Not available\":\n",
    "        aired_years.append(np.nan)\n",
    "    elif len(dates) > 4 and dates[0].isalpha():\n",
    "        start = dates.index(\",\") + 2 \n",
    "        year = dates[start:start+4] #gets the first year  \n",
    "        aired_years.append(int(year))\n",
    "    else:\n",
    "        aired_years.append(dates[0:3])\n",
    "anime_data['aired_year'] = aired_years\n",
    "#anime_data = anime_data.dropna()\n",
    "print(\"Number of observations after dropping anime without aired_year: \" + str(len(anime_data)))\n",
    "print(\"Below are the first 5 rows of the dataset with the new column 'aired_year' \")\n",
    "anime_data.head()"
   ]
  },
  {
   "cell_type": "markdown",
   "metadata": {},
   "source": [
    "### Cleaning users"
   ]
  },
  {
   "cell_type": "markdown",
   "metadata": {},
   "source": [
    "In our analyses, we will look at the characteristics of the users, including their gender, favorite animes, and birth year. In cleaning the data, we got rid of users that were missing birth years."
   ]
  },
  {
   "cell_type": "code",
   "execution_count": 9,
   "metadata": {
    "scrolled": true
   },
   "outputs": [
    {
     "name": "stdout",
     "output_type": "stream",
     "text": [
      "Number of Columns After Cleaning Data: 5\n",
      "Number of Observations After Cleaning Data: 43636\n"
     ]
    }
   ],
   "source": [
    "users = users.dropna()\n",
    "users = users.rename(columns = {'favorites_anime':'favorites'}) \n",
    "print(\"Number of Columns After Cleaning Data: \" + str(len(users.columns)))\n",
    "print(\"Number of Observations After Cleaning Data: \" + str(len(users)))"
   ]
  },
  {
   "cell_type": "code",
   "execution_count": 10,
   "metadata": {},
   "outputs": [
    {
     "name": "stdout",
     "output_type": "stream",
     "text": [
      "Number of users after dropping users without birth year: 34550\n"
     ]
    },
    {
     "data": {
      "text/html": [
       "<div>\n",
       "<style scoped>\n",
       "    .dataframe tbody tr th:only-of-type {\n",
       "        vertical-align: middle;\n",
       "    }\n",
       "\n",
       "    .dataframe tbody tr th {\n",
       "        vertical-align: top;\n",
       "    }\n",
       "\n",
       "    .dataframe thead th {\n",
       "        text-align: right;\n",
       "    }\n",
       "</style>\n",
       "<table border=\"1\" class=\"dataframe\">\n",
       "  <thead>\n",
       "    <tr style=\"text-align: right;\">\n",
       "      <th></th>\n",
       "      <th>profile</th>\n",
       "      <th>gender</th>\n",
       "      <th>favorites</th>\n",
       "      <th>link</th>\n",
       "      <th>birth_year</th>\n",
       "    </tr>\n",
       "  </thead>\n",
       "  <tbody>\n",
       "    <tr>\n",
       "      <td>0</td>\n",
       "      <td>DesolatePsyche</td>\n",
       "      <td>Male</td>\n",
       "      <td>['33352', '25013', '5530', '33674', '1482', '2...</td>\n",
       "      <td>https://myanimelist.net/profile/DesolatePsyche</td>\n",
       "      <td>1994</td>\n",
       "    </tr>\n",
       "    <tr>\n",
       "      <td>1</td>\n",
       "      <td>baekbeans</td>\n",
       "      <td>Female</td>\n",
       "      <td>['11061', '31964', '853', '20583', '918', '925...</td>\n",
       "      <td>https://myanimelist.net/profile/baekbeans</td>\n",
       "      <td>2000</td>\n",
       "    </tr>\n",
       "    <tr>\n",
       "      <td>2</td>\n",
       "      <td>aManOfCulture99</td>\n",
       "      <td>Male</td>\n",
       "      <td>['4181', '7791', '9617', '5680', '2167', '4382...</td>\n",
       "      <td>https://myanimelist.net/profile/aManOfCulture99</td>\n",
       "      <td>1999</td>\n",
       "    </tr>\n",
       "    <tr>\n",
       "      <td>3</td>\n",
       "      <td>NIGGER_BONER</td>\n",
       "      <td>Male</td>\n",
       "      <td>['11061', '30', '6594', '28701', '10087', '674...</td>\n",
       "      <td>https://myanimelist.net/profile/NIGGER_BONER</td>\n",
       "      <td>1985</td>\n",
       "    </tr>\n",
       "    <tr>\n",
       "      <td>4</td>\n",
       "      <td>jchang</td>\n",
       "      <td>Male</td>\n",
       "      <td>['846', '2904', '5114', '2924', '72']</td>\n",
       "      <td>https://myanimelist.net/profile/jchang</td>\n",
       "      <td>1992</td>\n",
       "    </tr>\n",
       "  </tbody>\n",
       "</table>\n",
       "</div>"
      ],
      "text/plain": [
       "           profile  gender                                          favorites  \\\n",
       "0   DesolatePsyche    Male  ['33352', '25013', '5530', '33674', '1482', '2...   \n",
       "1        baekbeans  Female  ['11061', '31964', '853', '20583', '918', '925...   \n",
       "2  aManOfCulture99    Male  ['4181', '7791', '9617', '5680', '2167', '4382...   \n",
       "3     NIGGER_BONER    Male  ['11061', '30', '6594', '28701', '10087', '674...   \n",
       "4           jchang    Male              ['846', '2904', '5114', '2924', '72']   \n",
       "\n",
       "                                              link birth_year  \n",
       "0   https://myanimelist.net/profile/DesolatePsyche       1994  \n",
       "1        https://myanimelist.net/profile/baekbeans       2000  \n",
       "2  https://myanimelist.net/profile/aManOfCulture99       1999  \n",
       "3     https://myanimelist.net/profile/NIGGER_BONER       1985  \n",
       "4           https://myanimelist.net/profile/jchang       1992  "
      ]
     },
     "execution_count": 10,
     "metadata": {},
     "output_type": "execute_result"
    }
   ],
   "source": [
    "birth_years = []\n",
    "for birthday in users['birthday']: #str \n",
    "    if \",\" in birthday:\n",
    "        comma_index = birthday.index(',') \n",
    "        year = birthday[comma_index + 2:]\n",
    "        birth_years.append(year)\n",
    "    else: \n",
    "        birth_years.append(np.nan)\n",
    "users['birth_year']  = birth_years\n",
    "#dropping users without a birth year\n",
    "users = users.dropna()\n",
    "print(\"Number of users after dropping users without birth year: \" + str(len(users)))\n",
    "users = users.drop(columns = ['birthday'])\n",
    "#resetting the index \n",
    "users = users.reset_index(drop = True)\n",
    "users.head()"
   ]
  },
  {
   "cell_type": "markdown",
   "metadata": {},
   "source": [
    "### Cleaning - Preparing episode/rank/popularity analysis"
   ]
  },
  {
   "cell_type": "code",
   "execution_count": 11,
   "metadata": {},
   "outputs": [
    {
     "name": "stdout",
     "output_type": "stream",
     "text": [
      "Number of Columns in anime_epdata: 12\n",
      "Number of Observations in anime_epdata: 19311\n",
      "\n",
      "Number of Columns in anime_epdata: 9\n",
      "Number of Observations in anime_epdata: 16368\n"
     ]
    },
    {
     "data": {
      "text/html": [
       "<div>\n",
       "<style scoped>\n",
       "    .dataframe tbody tr th:only-of-type {\n",
       "        vertical-align: middle;\n",
       "    }\n",
       "\n",
       "    .dataframe tbody tr th {\n",
       "        vertical-align: top;\n",
       "    }\n",
       "\n",
       "    .dataframe thead th {\n",
       "        text-align: right;\n",
       "    }\n",
       "</style>\n",
       "<table border=\"1\" class=\"dataframe\">\n",
       "  <thead>\n",
       "    <tr style=\"text-align: right;\">\n",
       "      <th></th>\n",
       "      <th>uid</th>\n",
       "      <th>title</th>\n",
       "      <th>genre</th>\n",
       "      <th>aired</th>\n",
       "      <th>episodes</th>\n",
       "      <th>members</th>\n",
       "      <th>popularity</th>\n",
       "      <th>ranked</th>\n",
       "      <th>score</th>\n",
       "    </tr>\n",
       "  </thead>\n",
       "  <tbody>\n",
       "    <tr>\n",
       "      <td>0</td>\n",
       "      <td>28891</td>\n",
       "      <td>Haikyuu!! Second Season</td>\n",
       "      <td>['Comedy', 'Sports', 'Drama', 'School', 'Shoun...</td>\n",
       "      <td>Oct 4, 2015 to Mar 27, 2016</td>\n",
       "      <td>25.0</td>\n",
       "      <td>489888</td>\n",
       "      <td>141</td>\n",
       "      <td>25.0</td>\n",
       "      <td>8.82</td>\n",
       "    </tr>\n",
       "    <tr>\n",
       "      <td>1</td>\n",
       "      <td>23273</td>\n",
       "      <td>Shigatsu wa Kimi no Uso</td>\n",
       "      <td>['Drama', 'Music', 'Romance', 'School', 'Shoun...</td>\n",
       "      <td>Oct 10, 2014 to Mar 20, 2015</td>\n",
       "      <td>22.0</td>\n",
       "      <td>995473</td>\n",
       "      <td>28</td>\n",
       "      <td>24.0</td>\n",
       "      <td>8.83</td>\n",
       "    </tr>\n",
       "    <tr>\n",
       "      <td>2</td>\n",
       "      <td>34599</td>\n",
       "      <td>Made in Abyss</td>\n",
       "      <td>['Sci-Fi', 'Adventure', 'Mystery', 'Drama', 'F...</td>\n",
       "      <td>Jul 7, 2017 to Sep 29, 2017</td>\n",
       "      <td>13.0</td>\n",
       "      <td>581663</td>\n",
       "      <td>98</td>\n",
       "      <td>23.0</td>\n",
       "      <td>8.83</td>\n",
       "    </tr>\n",
       "    <tr>\n",
       "      <td>3</td>\n",
       "      <td>5114</td>\n",
       "      <td>Fullmetal Alchemist: Brotherhood</td>\n",
       "      <td>['Action', 'Military', 'Adventure', 'Comedy', ...</td>\n",
       "      <td>Apr 5, 2009 to Jul 4, 2010</td>\n",
       "      <td>64.0</td>\n",
       "      <td>1615084</td>\n",
       "      <td>4</td>\n",
       "      <td>1.0</td>\n",
       "      <td>9.23</td>\n",
       "    </tr>\n",
       "    <tr>\n",
       "      <td>4</td>\n",
       "      <td>31758</td>\n",
       "      <td>Kizumonogatari III: Reiketsu-hen</td>\n",
       "      <td>['Action', 'Mystery', 'Supernatural', 'Vampire']</td>\n",
       "      <td>Jan 6, 2017</td>\n",
       "      <td>1.0</td>\n",
       "      <td>214621</td>\n",
       "      <td>502</td>\n",
       "      <td>22.0</td>\n",
       "      <td>8.83</td>\n",
       "    </tr>\n",
       "  </tbody>\n",
       "</table>\n",
       "</div>"
      ],
      "text/plain": [
       "     uid                             title  \\\n",
       "0  28891           Haikyuu!! Second Season   \n",
       "1  23273           Shigatsu wa Kimi no Uso   \n",
       "2  34599                     Made in Abyss   \n",
       "3   5114  Fullmetal Alchemist: Brotherhood   \n",
       "4  31758  Kizumonogatari III: Reiketsu-hen   \n",
       "\n",
       "                                               genre  \\\n",
       "0  ['Comedy', 'Sports', 'Drama', 'School', 'Shoun...   \n",
       "1  ['Drama', 'Music', 'Romance', 'School', 'Shoun...   \n",
       "2  ['Sci-Fi', 'Adventure', 'Mystery', 'Drama', 'F...   \n",
       "3  ['Action', 'Military', 'Adventure', 'Comedy', ...   \n",
       "4   ['Action', 'Mystery', 'Supernatural', 'Vampire']   \n",
       "\n",
       "                          aired  episodes  members  popularity  ranked  score  \n",
       "0   Oct 4, 2015 to Mar 27, 2016      25.0   489888         141    25.0   8.82  \n",
       "1  Oct 10, 2014 to Mar 20, 2015      22.0   995473          28    24.0   8.83  \n",
       "2   Jul 7, 2017 to Sep 29, 2017      13.0   581663          98    23.0   8.83  \n",
       "3    Apr 5, 2009 to Jul 4, 2010      64.0  1615084           4     1.0   9.23  \n",
       "4                   Jan 6, 2017       1.0   214621         502    22.0   8.83  "
      ]
     },
     "execution_count": 11,
     "metadata": {},
     "output_type": "execute_result"
    }
   ],
   "source": [
    "#importing \"anime_marlesson_jan20.csv\"\n",
    "anime_epdata = pd.read_csv(\"animes_marlesson_jan20.csv\")\n",
    "print(\"Number of Columns in anime_epdata: \" + str(len(anime_epdata.columns)))\n",
    "print(\"Number of Observations in anime_epdata: \" + str(len(anime_epdata)))\n",
    "\n",
    "#Brief cleaning of dataset, removed links and dropped duplicates\n",
    "anime_epdata = anime_epdata.drop(columns = ['img_url', 'link', 'synopsis'])\n",
    "anime_epdata = anime_epdata.drop_duplicates()\n",
    "print(\"\\nNumber of Columns in anime_epdata: \" + str(len(anime_epdata.columns)))\n",
    "print(\"Number of Observations in anime_epdata: \" + str(len(anime_epdata)))\n",
    "\n",
    "anime_epdata.head()"
   ]
  },
  {
   "cell_type": "markdown",
   "metadata": {},
   "source": [
    "#### Removing movies, OVAs, and specials\n",
    "Now we want to remove the anime movies and OVAs/specials from the list because they are marked as 1 episode in the dataset. This can skew the analysis because we want to investigate the rating and popularity of TV shows . Many movies with high/low rankings can make it seem like the lower number of episodes result in high/low rankings."
   ]
  },
  {
   "cell_type": "code",
   "execution_count": 12,
   "metadata": {},
   "outputs": [
    {
     "name": "stdout",
     "output_type": "stream",
     "text": [
      "Number of TV animes in anime_epdata: 8555\n"
     ]
    }
   ],
   "source": [
    "anime_epdata = anime_epdata[anime_epdata[\"episodes\"] != 1.0]\n",
    "anime_epdata = anime_epdata.copy()\n",
    "print(\"Number of TV animes in anime_epdata: \" + str(len(anime_epdata)))"
   ]
  },
  {
   "cell_type": "markdown",
   "metadata": {},
   "source": [
    "#### Animes with NaN episodes\n",
    "First, we removed animes with NaN in number of episodes but have an end date. After checking with MAL, these animes seemed to have had an error when compiling the data. For example, one anime was completed at 55 episodes, but the observation in the dataframe had NaN as its number of episodes. "
   ]
  },
  {
   "cell_type": "code",
   "execution_count": 13,
   "metadata": {},
   "outputs": [],
   "source": [
    "#Remove animes that have an end date but have NaN episodes\n",
    "\n",
    "#Currently unsolved error\n",
    "\n",
    "#anime_takeout = anime_epdata.query('episodes == \"NaN\" & aired.str.find(\"?\") == -1')\n",
    "#print(\"Number of animes with start and end date: {}\".format(len(anime_takeout)))\n",
    "#anime_epdata = anime_epdata.drop(anime_takeout.index)\n",
    "#print(\"Number of remainding animes after removal: {}\".format(len(anime_epdata)))"
   ]
  },
  {
   "cell_type": "markdown",
   "metadata": {},
   "source": [
    "There are many animes with an unknown number of episodes (NaN). After looking through the dataset for a pattern, we found that a lot of the animes also have unknown end dates (date to ?), meaning they are ongoing for a while. Manual searching on MyAnimeList showed that these animes tend to have a large number of episodes and are outliers at ~800-1000+ episodes. We decided to apply a placeholder for the number of episodes at 900 since taking a sample of those animes (after manual lookup) showed they averaged around 900."
   ]
  },
  {
   "cell_type": "code",
   "execution_count": 14,
   "metadata": {},
   "outputs": [
    {
     "name": "stdout",
     "output_type": "stream",
     "text": [
      "Number of NaN episode animes with large number of episodes: 543\n"
     ]
    }
   ],
   "source": [
    "#Adjust so that if NaN in anime[episodes], fill in with random number between 800 and 1000\n",
    "is_nan = anime_epdata[\"episodes\"].isna()\n",
    "number_of_nan = is_nan.sum()\n",
    "print(\"Number of NaN episode animes with large number of episodes: {}\".format(number_of_nan))\n",
    "random_eps = np.random.randint(800, 1000, size=number_of_nan)\n",
    "anime_epdata.loc[is_nan, 'episodes'] = random_eps"
   ]
  },
  {
   "cell_type": "code",
   "execution_count": 15,
   "metadata": {},
   "outputs": [
    {
     "data": {
      "image/png": "[encoded data removed]",
      "text/plain": [
       "<Figure size 432x288 with 1 Axes>"
      ]
     },
     "metadata": {
      "needs_background": "light"
     },
     "output_type": "display_data"
    }
   ],
   "source": [
    "plt.hist(anime_epdata[\"episodes\"], bins=100)\n",
    "plt.title(\"Histogram of number of episodes of animes\")\n",
    "plt.xlabel('episodes')\n",
    "plt.ylabel('count')\n",
    "plt.show()"
   ]
  },
  {
   "cell_type": "markdown",
   "metadata": {},
   "source": [
    "From the histogram, we see that there's are a few animes (9) that have over 1000 episodes. Since there are so few in the entire sample, we decided to remove it from the dataset. There is a spike near where the 900 episode bin is, that is most likely due to our filling in NaN episodes as 900."
   ]
  },
  {
   "cell_type": "code",
   "execution_count": 16,
   "metadata": {},
   "outputs": [
    {
     "name": "stdout",
     "output_type": "stream",
     "text": [
      "Statistical summary of the outliers (animes with over 1000 episodes\n",
      "count    9.00\n",
      "mean     6.14\n",
      "std      0.63\n",
      "min      5.66\n",
      "25%      5.84\n",
      "50%      5.89\n",
      "75%      6.22\n",
      "max      7.74\n",
      "Name: score, dtype: float64\n"
     ]
    }
   ],
   "source": [
    "print(\"Statistical summary of the outliers (animes with over 1000 episodes\")\n",
    "anime_epdata_over1k = anime_epdata[anime_epdata[\"episodes\"] > 1000]\n",
    "print(round(anime_epdata_over1k.score.describe(),2))\n",
    "\n",
    "#Removing outlier (anime with episodes > 1000)\n",
    "anime_epdata = anime_epdata[anime_epdata[\"episodes\"] < 1000]"
   ]
  },
  {
   "cell_type": "code",
   "execution_count": 17,
   "metadata": {},
   "outputs": [
    {
     "data": {
      "image/png": "[encoded data removed]",
      "text/plain": [
       "<Figure size 432x288 with 1 Axes>"
      ]
     },
     "metadata": {
      "needs_background": "light"
     },
     "output_type": "display_data"
    }
   ],
   "source": [
    "#New histogram of anime episodes with outliers removed\n",
    "plt.hist(anime_epdata[\"episodes\"], bins=100)\n",
    "plt.title(\"Histogram of number of episodes of animes\")\n",
    "plt.xlabel('episodes')\n",
    "plt.ylabel('count')\n",
    "plt.show()"
   ]
  },
  {
   "cell_type": "markdown",
   "metadata": {},
   "source": [
    "## Data description\n",
    "-------------------------------------------------------------\n",
    "#### anime_data"
   ]
  },
  {
   "cell_type": "code",
   "execution_count": 18,
   "metadata": {},
   "outputs": [
    {
     "name": "stdout",
     "output_type": "stream",
     "text": [
      "Number of columns: 11\n",
      "Column names:\n",
      "uid\n",
      "title\n",
      "synopsis\n",
      "genre\n",
      "aired\n",
      "episodes\n",
      "members\n",
      "popularity\n",
      "ranked\n",
      "rating\n",
      "aired_year\n",
      "Number of observations (anime): 19311\n",
      "Number of observations (anime): 8546\n"
     ]
    }
   ],
   "source": [
    "print(\"Number of columns: \" + str(len(anime_data.columns)))\n",
    "print(\"Column names:\") \n",
    "for column in anime_data.columns: \n",
    "    print(column)\n",
    "print(\"Number of observations (anime): \" + str(len(anime_data)))\n",
    "print(\"Number of observations (anime): \" + str(len(anime_epdata)))"
   ]
  },
  {
   "cell_type": "markdown",
   "metadata": {},
   "source": [
    "Observations: an anime series\n",
    "\n",
    "Attributes: \n",
    "- uid: identifier for each anime set by MAL.\n",
    "- title: title of the anime series in Japanese/English as set by MAL.\n",
    "- synopsis: summary of the anime plot.\n",
    "- genre: genre categories the anime falls in (multiple).\n",
    "- aired: the start and end date of airing of the anime. \"?\" end dates means it is ongoing.\n",
    "- episodes: number of episodes of the anime.\n",
    "- members: number of members who've added the anime to their list: All Anime, Currently Watching, Completed, On Hold, Dropped, or Plan to Watch. The higher the number of members, the higher the popularity (lower numerical value). \n",
    "- popularity: 1-max number of animes ranking system based on the number of members that have it on its list in comparison to the other animes on MAL.\n",
    "- rating: aggregate rating from 0.00 to 10.00 by the MAL community.\n",
    "- ranked: 1-max number of animes ranking system based on its rating to the other animes on MAL.\n",
    "- aired_year: the year of its start aired date."
   ]
  },
  {
   "cell_type": "markdown",
   "metadata": {},
   "source": [
    "**anime_epdata** has the same column attributes as anime_data, without synopsis and aired_year. It has less observations because animes with missing episodes were removed."
   ]
  },
  {
   "cell_type": "markdown",
   "metadata": {},
   "source": [
    "#### users"
   ]
  },
  {
   "cell_type": "code",
   "execution_count": 19,
   "metadata": {},
   "outputs": [
    {
     "name": "stdout",
     "output_type": "stream",
     "text": [
      "Number of columns: 5\n",
      "Column names:\n",
      "profile\n",
      "gender\n",
      "favorites\n",
      "link\n",
      "birth_year\n",
      "Number of observations (users): 34550\n"
     ]
    }
   ],
   "source": [
    "print(\"Number of columns: \" + str(len(users.columns)))\n",
    "print(\"Column names:\")\n",
    "for column in users.columns:\n",
    "    print(column)\n",
    "print(\"Number of observations (users): \" + str(len(users)))"
   ]
  },
  {
   "cell_type": "markdown",
   "metadata": {},
   "source": [
    "Observations: singular MAL user (public profile)\n",
    "\n",
    "Attributes: \n",
    "- profile: username of MAL user (set by the user)\n",
    "- gender: gender (male, female, non-binary) of the MAL user (set by the user) \n",
    "- favorites: List of animes the user put into their Anime List - favorites\n",
    "- birth_year: birth year of the user (set by the user)"
   ]
  },
  {
   "cell_type": "markdown",
   "metadata": {},
   "source": [
    "## Pre-registration statement\n",
    "-------------------------------------------------------------\n",
    "\n",
    "#### Analysis 1: The relationship between gender and genre preferences\n",
    "\n",
    "From the user.csv, we can get information from around 34,550 users out of 81,000 users about their gender (binary M/F) and favorite animes. In the anime_marlesson_jan20.csv, we have information about the multiple genres each anime is tagged by. We would use get_dummies on the gender, and create separate dataframes for males and females. Then, within the dataframes, we would go through each user and look at the genre tags associated with each of the anime in their favorites list. This would allow us to see a distribution of the frequency in which a particular genre appears for male v. female favorites. We would expect that males are more likely to watch genres such as action and adventure than females, and that females are more likely to watch genres such as romance.\n",
    "\n",
    "At the same time, however, genres are not the only factor that males/females take into account, since females also do watch certain action or adventure anime. To dig deeper, we will perform a multivariable linear regression with other predictors such as popularity and rank (on top of genres). In doing so, we could analyze the potentially different weights that males v. females assign to the aspects of an anime that influence their watching decision.\n",
    "\n",
    "#### Analysis 2: The relationship between rank and number of episodes\n",
    "\n",
    "From anime_marlesson_jan20.csv, we can get the information of an anime's rank and the number of episodes that it has. We will perform a linear regression analysis to find the correlation between the number of episodes and the anime's resulting rank. While we expect that animes that are ranked higher may get more episodes, it is also possible that the anime gets more episodes because people ranked it highly, or because it was \"mainstream.\" To better understand the assumed positive correlation between rank and number of episodes, we could then perform a multivariable regression analysis, with rank as the measured variable, with factors such as popularity (which is a measure of how \"mainstream\" it is).\n"
   ]
  },
  {
   "cell_type": "markdown",
   "metadata": {},
   "source": [
    "## Data Analysis\n",
    "-------------------------------------------------------------"
   ]
  },
  {
   "cell_type": "markdown",
   "metadata": {},
   "source": [
    "### Users Information"
   ]
  },
  {
   "cell_type": "markdown",
   "metadata": {},
   "source": [
    "#### Gender Distribution"
   ]
  },
  {
   "cell_type": "code",
   "execution_count": 20,
   "metadata": {},
   "outputs": [
    {
     "data": {
      "image/png": "[encoded data removed]",
      "text/plain": [
       "<Figure size 432x288 with 1 Axes>"
      ]
     },
     "metadata": {
      "needs_background": "light"
     },
     "output_type": "display_data"
    }
   ],
   "source": [
    "plt.hist(users['gender'])\n",
    "plt.title(\"Gender Distribution of Users on MyAnimeList\")\n",
    "plt.xlabel(\"Gender\") and plt.ylabel(\"Number of Users\")\n",
    "plt.show()"
   ]
  },
  {
   "cell_type": "code",
   "execution_count": 21,
   "metadata": {
    "scrolled": true
   },
   "outputs": [
    {
     "name": "stdout",
     "output_type": "stream",
     "text": [
      "Number of Male Users: 24311\n",
      "Number of Female Users: 9773\n",
      "Number of Non-Binary Users: 466\n"
     ]
    }
   ],
   "source": [
    "male_count = len(users[users['gender'] == 'Male'])\n",
    "female_count = len(users[users['gender'] == \"Female\"])\n",
    "non_bi_count = len(users[users['gender'] == \"Non-Binary\"])\n",
    "print(\"Number of Male Users: {}\".format(male_count))\n",
    "print(\"Number of Female Users: {}\".format(female_count))\n",
    "print(\"Number of Non-Binary Users: {}\".format(non_bi_count))"
   ]
  },
  {
   "cell_type": "markdown",
   "metadata": {},
   "source": [
    "From the above histogram and printed values, we can see that there are approximately 2.5 times more male users (24311 males) than female users (9773 females), and non-binary users make up the smallest portion of the user population (466 non-binary). "
   ]
  },
  {
   "cell_type": "markdown",
   "metadata": {},
   "source": [
    "#### Age Distribution"
   ]
  },
  {
   "cell_type": "code",
   "execution_count": 23,
   "metadata": {},
   "outputs": [],
   "source": [
    "#converting the year (str) to year (int)\n",
    "for i in range(len(users['birth_year'])):\n",
    "    users['birth_year'][i] = int(users['birth_year'][i])"
   ]
  },
  {
   "cell_type": "code",
   "execution_count": 24,
   "metadata": {},
   "outputs": [
    {
     "data": {
      "image/png": "[encoded data removed]",
      "text/plain": [
       "<Figure size 432x288 with 1 Axes>"
      ]
     },
     "metadata": {
      "needs_background": "light"
     },
     "output_type": "display_data"
    }
   ],
   "source": [
    "plt.hist(users['birth_year'].values)\n",
    "plt.title(\"Age Distribution of Users on MyAnimeList\")\n",
    "plt.xlabel(\"Birth Year\") and plt.ylabel(\"Number of Users\")\n",
    "plt.show()"
   ]
  },
  {
   "cell_type": "code",
   "execution_count": 25,
   "metadata": {},
   "outputs": [
    {
     "name": "stdout",
     "output_type": "stream",
     "text": [
      "Highest birth year: 2021\n",
      "Lowest birth year: 1930\n"
     ]
    },
    {
     "data": {
      "text/plain": [
       "count     34550\n",
       "unique       88\n",
       "top        1997\n",
       "freq       3023\n",
       "Name: birth_year, dtype: int64"
      ]
     },
     "execution_count": 25,
     "metadata": {},
     "output_type": "execute_result"
    }
   ],
   "source": [
    "print(\"Highest birth year: \" + str(max(users['birth_year'])))\n",
    "print(\"Lowest birth year: \" + str(min(users['birth_year'])))\n",
    "users['birth_year'].describe()"
   ]
  },
  {
   "cell_type": "markdown",
   "metadata": {},
   "source": [
    "The above histogram shows that the majority of users are clustered around birth years in the 1990s and 2000s, although there are noticeable outliers with some users noting birth years of below 1950 and above 2007. Since MyAnimeList's user policy states that users must be at least 13 years of age, we excluded users born after 2007  in our analysis below. We also ommitted users born before 1960 since those users are stark outliers. "
   ]
  },
  {
   "cell_type": "markdown",
   "metadata": {},
   "source": [
    "Below, we can more clearly see that the majority of users were born sometime between 1995 and early 2000s. "
   ]
  },
  {
   "cell_type": "code",
   "execution_count": 26,
   "metadata": {
    "scrolled": true
   },
   "outputs": [
    {
     "data": {
      "image/png": "[encoded data removed]",
      "text/plain": [
       "<Figure size 432x288 with 1 Axes>"
      ]
     },
     "metadata": {
      "needs_background": "light"
     },
     "output_type": "display_data"
    }
   ],
   "source": [
    "plt.hist(users['birth_year'].values)\n",
    "plt.title(\"Age Distribution of Users on MyAnimeList\")\n",
    "plt.xlabel(\"Birth Year\") and plt.ylabel(\"Number of Users\")\n",
    "plt.xlim([1960, 2007])\n",
    "plt.show()"
   ]
  },
  {
   "cell_type": "markdown",
   "metadata": {},
   "source": [
    "#### Extracting anime ID from the Users' String of Anime Favorites"
   ]
  },
  {
   "cell_type": "markdown",
   "metadata": {},
   "source": [
    "The users dataframe presents the anime ID of user favorites in strings. Below, we extract the integer value of those IDs."
   ]
  },
  {
   "cell_type": "code",
   "execution_count": 27,
   "metadata": {},
   "outputs": [],
   "source": [
    "### function to extract uid from string\n",
    "def extract_uid(string): \n",
    "    final_list = []\n",
    "    if '[]' not in string: #ignoring empty lists\n",
    "        fav_list = string.strip('[]')\n",
    "        fav_list = fav_list.split(\"'\")\n",
    "        for anime_id in fav_list:\n",
    "            if anime_id.isdigit():\n",
    "                final_list.append(int(anime_id))\n",
    "    return(final_list)"
   ]
  },
  {
   "cell_type": "code",
   "execution_count": 28,
   "metadata": {},
   "outputs": [],
   "source": [
    "#Running function on all users' favorites \n",
    "fav_lists = []\n",
    "for each in users['favorites']:\n",
    "    fav_lists.append(extract_uid(each))\n",
    "users['favorites'] = fav_lists"
   ]
  },
  {
   "cell_type": "markdown",
   "metadata": {},
   "source": [
    "### Anime Information: Genres and Their Counts"
   ]
  },
  {
   "cell_type": "code",
   "execution_count": 29,
   "metadata": {},
   "outputs": [
    {
     "name": "stdout",
     "output_type": "stream",
     "text": [
      "Number of Unique Anime Genres: 43\n"
     ]
    }
   ],
   "source": [
    "genre_dict = {}\n",
    "for anime_tags in anime_data['genre']:\n",
    "    anime_tags = ast.literal_eval(anime_tags)\n",
    "    for genre in anime_tags:\n",
    "        if genre not in genre_dict: \n",
    "            genre_dict[genre] = 1 \n",
    "        else:\n",
    "            genre_dict[genre] += 1 \n",
    "print(\"Number of Unique Anime Genres: \" + str(len(genre_dict)))"
   ]
  },
  {
   "cell_type": "code",
   "execution_count": 30,
   "metadata": {},
   "outputs": [],
   "source": [
    "genres =[key for key in genre_dict]\n",
    "genre_counts=[genre_dict[key] for key in genre_dict]"
   ]
  },
  {
   "cell_type": "code",
   "execution_count": 31,
   "metadata": {},
   "outputs": [
    {
     "name": "stdout",
     "output_type": "stream",
     "text": [
      "Below is a dataframe showcasing genres and their counts. Genres with highest counts are on the top.\n",
      "\n",
      "Genre with highest count: Comedy at 6461 counts\n",
      "Genre with lowest count: Yaoi at 78 counts\n"
     ]
    },
    {
     "data": {
      "text/html": [
       "<div>\n",
       "<style scoped>\n",
       "    .dataframe tbody tr th:only-of-type {\n",
       "        vertical-align: middle;\n",
       "    }\n",
       "\n",
       "    .dataframe tbody tr th {\n",
       "        vertical-align: top;\n",
       "    }\n",
       "\n",
       "    .dataframe thead th {\n",
       "        text-align: right;\n",
       "    }\n",
       "</style>\n",
       "<table border=\"1\" class=\"dataframe\">\n",
       "  <thead>\n",
       "    <tr style=\"text-align: right;\">\n",
       "      <th></th>\n",
       "      <th>genre</th>\n",
       "      <th>counts</th>\n",
       "    </tr>\n",
       "  </thead>\n",
       "  <tbody>\n",
       "    <tr>\n",
       "      <td>0</td>\n",
       "      <td>Comedy</td>\n",
       "      <td>6461</td>\n",
       "    </tr>\n",
       "    <tr>\n",
       "      <td>1</td>\n",
       "      <td>Action</td>\n",
       "      <td>4215</td>\n",
       "    </tr>\n",
       "    <tr>\n",
       "      <td>2</td>\n",
       "      <td>Fantasy</td>\n",
       "      <td>3466</td>\n",
       "    </tr>\n",
       "    <tr>\n",
       "      <td>3</td>\n",
       "      <td>Adventure</td>\n",
       "      <td>3143</td>\n",
       "    </tr>\n",
       "    <tr>\n",
       "      <td>4</td>\n",
       "      <td>Drama</td>\n",
       "      <td>3004</td>\n",
       "    </tr>\n",
       "    <tr>\n",
       "      <td>5</td>\n",
       "      <td>Sci-Fi</td>\n",
       "      <td>2832</td>\n",
       "    </tr>\n",
       "    <tr>\n",
       "      <td>6</td>\n",
       "      <td>Hentai</td>\n",
       "      <td>2574</td>\n",
       "    </tr>\n",
       "    <tr>\n",
       "      <td>7</td>\n",
       "      <td>Kids</td>\n",
       "      <td>2549</td>\n",
       "    </tr>\n",
       "    <tr>\n",
       "      <td>8</td>\n",
       "      <td>Shounen</td>\n",
       "      <td>2322</td>\n",
       "    </tr>\n",
       "    <tr>\n",
       "      <td>9</td>\n",
       "      <td>Romance</td>\n",
       "      <td>2152</td>\n",
       "    </tr>\n",
       "    <tr>\n",
       "      <td>10</td>\n",
       "      <td>Slice of Life</td>\n",
       "      <td>2056</td>\n",
       "    </tr>\n",
       "    <tr>\n",
       "      <td>11</td>\n",
       "      <td>Music</td>\n",
       "      <td>1993</td>\n",
       "    </tr>\n",
       "    <tr>\n",
       "      <td>12</td>\n",
       "      <td>School</td>\n",
       "      <td>1912</td>\n",
       "    </tr>\n",
       "    <tr>\n",
       "      <td>13</td>\n",
       "      <td>Supernatural</td>\n",
       "      <td>1719</td>\n",
       "    </tr>\n",
       "    <tr>\n",
       "      <td>14</td>\n",
       "      <td>Historical</td>\n",
       "      <td>1218</td>\n",
       "    </tr>\n",
       "    <tr>\n",
       "      <td>15</td>\n",
       "      <td>Mecha</td>\n",
       "      <td>1197</td>\n",
       "    </tr>\n",
       "    <tr>\n",
       "      <td>16</td>\n",
       "      <td>Magic</td>\n",
       "      <td>1174</td>\n",
       "    </tr>\n",
       "    <tr>\n",
       "      <td>17</td>\n",
       "      <td>Seinen</td>\n",
       "      <td>982</td>\n",
       "    </tr>\n",
       "    <tr>\n",
       "      <td>18</td>\n",
       "      <td>Mystery</td>\n",
       "      <td>874</td>\n",
       "    </tr>\n",
       "    <tr>\n",
       "      <td>19</td>\n",
       "      <td>Sports</td>\n",
       "      <td>811</td>\n",
       "    </tr>\n",
       "    <tr>\n",
       "      <td>20</td>\n",
       "      <td>Ecchi</td>\n",
       "      <td>805</td>\n",
       "    </tr>\n",
       "    <tr>\n",
       "      <td>21</td>\n",
       "      <td>Shoujo</td>\n",
       "      <td>788</td>\n",
       "    </tr>\n",
       "    <tr>\n",
       "      <td>22</td>\n",
       "      <td>Super Power</td>\n",
       "      <td>716</td>\n",
       "    </tr>\n",
       "    <tr>\n",
       "      <td>23</td>\n",
       "      <td>Parody</td>\n",
       "      <td>702</td>\n",
       "    </tr>\n",
       "    <tr>\n",
       "      <td>24</td>\n",
       "      <td>Military</td>\n",
       "      <td>678</td>\n",
       "    </tr>\n",
       "    <tr>\n",
       "      <td>25</td>\n",
       "      <td>Demons</td>\n",
       "      <td>605</td>\n",
       "    </tr>\n",
       "    <tr>\n",
       "      <td>26</td>\n",
       "      <td>Space</td>\n",
       "      <td>564</td>\n",
       "    </tr>\n",
       "    <tr>\n",
       "      <td>27</td>\n",
       "      <td>Horror</td>\n",
       "      <td>511</td>\n",
       "    </tr>\n",
       "    <tr>\n",
       "      <td>28</td>\n",
       "      <td>Harem</td>\n",
       "      <td>435</td>\n",
       "    </tr>\n",
       "    <tr>\n",
       "      <td>29</td>\n",
       "      <td>Martial Arts</td>\n",
       "      <td>424</td>\n",
       "    </tr>\n",
       "    <tr>\n",
       "      <td>30</td>\n",
       "      <td>Dementia</td>\n",
       "      <td>419</td>\n",
       "    </tr>\n",
       "    <tr>\n",
       "      <td>31</td>\n",
       "      <td>Psychological</td>\n",
       "      <td>415</td>\n",
       "    </tr>\n",
       "    <tr>\n",
       "      <td>32</td>\n",
       "      <td>Game</td>\n",
       "      <td>395</td>\n",
       "    </tr>\n",
       "    <tr>\n",
       "      <td>33</td>\n",
       "      <td>Police</td>\n",
       "      <td>301</td>\n",
       "    </tr>\n",
       "    <tr>\n",
       "      <td>34</td>\n",
       "      <td>Samurai</td>\n",
       "      <td>238</td>\n",
       "    </tr>\n",
       "    <tr>\n",
       "      <td>35</td>\n",
       "      <td>Vampire</td>\n",
       "      <td>165</td>\n",
       "    </tr>\n",
       "    <tr>\n",
       "      <td>36</td>\n",
       "      <td>Thriller</td>\n",
       "      <td>161</td>\n",
       "    </tr>\n",
       "    <tr>\n",
       "      <td>37</td>\n",
       "      <td>Cars</td>\n",
       "      <td>133</td>\n",
       "    </tr>\n",
       "    <tr>\n",
       "      <td>38</td>\n",
       "      <td>Josei</td>\n",
       "      <td>115</td>\n",
       "    </tr>\n",
       "    <tr>\n",
       "      <td>39</td>\n",
       "      <td>Shounen Ai</td>\n",
       "      <td>113</td>\n",
       "    </tr>\n",
       "    <tr>\n",
       "      <td>40</td>\n",
       "      <td>Shoujo Ai</td>\n",
       "      <td>87</td>\n",
       "    </tr>\n",
       "    <tr>\n",
       "      <td>41</td>\n",
       "      <td>Yuri</td>\n",
       "      <td>79</td>\n",
       "    </tr>\n",
       "    <tr>\n",
       "      <td>42</td>\n",
       "      <td>Yaoi</td>\n",
       "      <td>78</td>\n",
       "    </tr>\n",
       "  </tbody>\n",
       "</table>\n",
       "</div>"
      ],
      "text/plain": [
       "            genre  counts\n",
       "0          Comedy    6461\n",
       "1          Action    4215\n",
       "2         Fantasy    3466\n",
       "3       Adventure    3143\n",
       "4           Drama    3004\n",
       "5          Sci-Fi    2832\n",
       "6          Hentai    2574\n",
       "7            Kids    2549\n",
       "8         Shounen    2322\n",
       "9         Romance    2152\n",
       "10  Slice of Life    2056\n",
       "11          Music    1993\n",
       "12         School    1912\n",
       "13   Supernatural    1719\n",
       "14     Historical    1218\n",
       "15          Mecha    1197\n",
       "16          Magic    1174\n",
       "17         Seinen     982\n",
       "18        Mystery     874\n",
       "19         Sports     811\n",
       "20          Ecchi     805\n",
       "21         Shoujo     788\n",
       "22    Super Power     716\n",
       "23         Parody     702\n",
       "24       Military     678\n",
       "25         Demons     605\n",
       "26          Space     564\n",
       "27         Horror     511\n",
       "28          Harem     435\n",
       "29   Martial Arts     424\n",
       "30       Dementia     419\n",
       "31  Psychological     415\n",
       "32           Game     395\n",
       "33         Police     301\n",
       "34        Samurai     238\n",
       "35        Vampire     165\n",
       "36       Thriller     161\n",
       "37           Cars     133\n",
       "38          Josei     115\n",
       "39     Shounen Ai     113\n",
       "40      Shoujo Ai      87\n",
       "41           Yuri      79\n",
       "42           Yaoi      78"
      ]
     },
     "execution_count": 31,
     "metadata": {},
     "output_type": "execute_result"
    }
   ],
   "source": [
    "genre_distribution = pd.DataFrame(columns = ['genre', 'counts'])\n",
    "genre_distribution['genre'] = genres\n",
    "genre_distribution['counts'] = genre_counts\n",
    "genre_distribution = genre_distribution.sort_values(by = 'counts', ascending = False)\n",
    "genre_distribution = genre_distribution.reset_index(drop = True)\n",
    "print(\"Below is a dataframe showcasing genres and their counts. Genres with highest counts are on the top.\")\n",
    "print(\"\\nGenre with highest count: \" + genre_distribution['genre'][0] + \" at \" + str(genre_distribution['counts'][0]) + \" counts\")\n",
    "print(\"Genre with lowest count: \" + genre_distribution['genre'][len(genre_distribution) - 1] + \" at \" + str(genre_distribution['counts'][len(genre_distribution) - 1]) + \" counts\")\n",
    "genre_distribution"
   ]
  },
  {
   "cell_type": "markdown",
   "metadata": {},
   "source": [
    "The above analysis shows the number of anime that have a specific genre tag. Below is a visual representation of that information. "
   ]
  },
  {
   "cell_type": "code",
   "execution_count": 32,
   "metadata": {},
   "outputs": [
    {
     "data": {
      "image/png": "[encoded data removed]",
      "text/plain": [
       "<Figure size 1440x936 with 1 Axes>"
      ]
     },
     "metadata": {
      "needs_background": "light"
     },
     "output_type": "display_data"
    }
   ],
   "source": [
    "f, ax = plt.subplots(1, 1, figsize = (20, 13))\n",
    "plt.barh(genre_distribution['genre'], genre_distribution['counts'])\n",
    "plt.title(\"Genre Distribution of Anime\")\n",
    "plt.xlabel(\"Number of Anime\") and plt.ylabel(\"Genre\")\n",
    "plt.show()"
   ]
  },
  {
   "cell_type": "markdown",
   "metadata": {},
   "source": [
    "### Analysis of Gender Differences in Anime Genre Preference"
   ]
  },
  {
   "cell_type": "code",
   "execution_count": 33,
   "metadata": {},
   "outputs": [],
   "source": [
    "#dummy for gender and genre \n",
    "genre_indicator = pd.get_dummies(genres)\n",
    "gender_indicator = pd.get_dummies(users['gender']) #1 = female, 0 = male \n",
    "users['gender'] = gender_indicator"
   ]
  },
  {
   "cell_type": "markdown",
   "metadata": {},
   "source": [
    "In our analysis of the data, we hope to understand any potential differences in anime genre preferences according to a user's gender. To do so, we will look at the gender of the user and the genres of the anime that they have indicated are their favorites."
   ]
  },
  {
   "cell_type": "markdown",
   "metadata": {},
   "source": [
    "First, we created separate dataframes for male vs. female users:"
   ]
  },
  {
   "cell_type": "code",
   "execution_count": 34,
   "metadata": {},
   "outputs": [],
   "source": [
    "#separate dataframe for male v. female users\n",
    "female_users = users[users.gender == 1 ]\n",
    "male_users = users[users.gender == 0]"
   ]
  },
  {
   "cell_type": "code",
   "execution_count": 35,
   "metadata": {},
   "outputs": [],
   "source": [
    "#pd Series containing all female favorites \n",
    "female_favs = []\n",
    "for each in female_users['favorites']: \n",
    "    for anime in each:\n",
    "        female_favs.append(anime)\n",
    "female_favs = pd.Series(female_favs)\n",
    "\n",
    "#pd Series containing the all male favorites \n",
    "male_favs = []\n",
    "for each in male_users['favorites']: \n",
    "    for anime in each:\n",
    "        male_favs.append(anime)\n",
    "male_favs = pd.Series(male_favs)"
   ]
  },
  {
   "cell_type": "markdown",
   "metadata": {},
   "source": [
    "Next, using the dataframes that we created, we created a list containing all of the females' favorite animes and all of the males' favorite animes. "
   ]
  },
  {
   "cell_type": "code",
   "execution_count": 36,
   "metadata": {},
   "outputs": [],
   "source": [
    "#pd Series containing all female favorites \n",
    "female_favs = []\n",
    "for each in female_users['favorites']: \n",
    "    for anime in each:\n",
    "        female_favs.append(anime)\n",
    "female_favs = pd.Series(female_favs)\n",
    "\n",
    "#pd Series containing the all male favorites \n",
    "male_favs = []\n",
    "for each in male_users['favorites']: \n",
    "    for anime in each:\n",
    "        male_favs.append(anime)\n",
    "male_favs = pd.Series(male_favs)"
   ]
  },
  {
   "cell_type": "markdown",
   "metadata": {},
   "source": [
    "#### Top 10 Male vs. Female Favorites"
   ]
  },
  {
   "cell_type": "code",
   "execution_count": 37,
   "metadata": {},
   "outputs": [
    {
     "name": "stdout",
     "output_type": "stream",
     "text": [
      "Anime ID of Top 10 female favorites: \n",
      "[5114, 1535, 853, 11061, 16498, 9756, 9253, 21, 1575]\n"
     ]
    }
   ],
   "source": [
    "ff_count = female_favs.value_counts().index.tolist()\n",
    "print(\"Anime ID of Top 10 female favorites: \")\n",
    "ff_count = ff_count[0:10]\n",
    "print(ff_count[0:9])"
   ]
  },
  {
   "cell_type": "code",
   "execution_count": 38,
   "metadata": {},
   "outputs": [
    {
     "name": "stdout",
     "output_type": "stream",
     "text": [
      "UID and Titles of Top 10 Female Favorites (Ordered from Most Counts to Least Counts):\n"
     ]
    },
    {
     "data": {
      "text/html": [
       "<div>\n",
       "<style scoped>\n",
       "    .dataframe tbody tr th:only-of-type {\n",
       "        vertical-align: middle;\n",
       "    }\n",
       "\n",
       "    .dataframe tbody tr th {\n",
       "        vertical-align: top;\n",
       "    }\n",
       "\n",
       "    .dataframe thead th {\n",
       "        text-align: right;\n",
       "    }\n",
       "</style>\n",
       "<table border=\"1\" class=\"dataframe\">\n",
       "  <thead>\n",
       "    <tr style=\"text-align: right;\">\n",
       "      <th></th>\n",
       "      <th>uid</th>\n",
       "      <th>title</th>\n",
       "    </tr>\n",
       "  </thead>\n",
       "  <tbody>\n",
       "    <tr>\n",
       "      <td>0</td>\n",
       "      <td>5114</td>\n",
       "      <td>Fullmetal Alchemist: Brotherhood</td>\n",
       "    </tr>\n",
       "    <tr>\n",
       "      <td>1</td>\n",
       "      <td>1535</td>\n",
       "      <td>Death Note</td>\n",
       "    </tr>\n",
       "    <tr>\n",
       "      <td>2</td>\n",
       "      <td>853</td>\n",
       "      <td>Ouran Koukou Host Club</td>\n",
       "    </tr>\n",
       "    <tr>\n",
       "      <td>3</td>\n",
       "      <td>11061</td>\n",
       "      <td>Hunter x Hunter (2011)</td>\n",
       "    </tr>\n",
       "    <tr>\n",
       "      <td>4</td>\n",
       "      <td>16498</td>\n",
       "      <td>Shingeki no Kyojin</td>\n",
       "    </tr>\n",
       "    <tr>\n",
       "      <td>5</td>\n",
       "      <td>9756</td>\n",
       "      <td>Mahou Shoujo Madoka★Magica</td>\n",
       "    </tr>\n",
       "    <tr>\n",
       "      <td>6</td>\n",
       "      <td>9253</td>\n",
       "      <td>Steins;Gate</td>\n",
       "    </tr>\n",
       "    <tr>\n",
       "      <td>7</td>\n",
       "      <td>21</td>\n",
       "      <td>One Piece</td>\n",
       "    </tr>\n",
       "    <tr>\n",
       "      <td>8</td>\n",
       "      <td>1575</td>\n",
       "      <td>Code Geass: Hangyaku no Lelouch</td>\n",
       "    </tr>\n",
       "    <tr>\n",
       "      <td>9</td>\n",
       "      <td>20583</td>\n",
       "      <td>Haikyuu!!</td>\n",
       "    </tr>\n",
       "  </tbody>\n",
       "</table>\n",
       "</div>"
      ],
      "text/plain": [
       "     uid                             title\n",
       "0   5114  Fullmetal Alchemist: Brotherhood\n",
       "1   1535                        Death Note\n",
       "2    853            Ouran Koukou Host Club\n",
       "3  11061            Hunter x Hunter (2011)\n",
       "4  16498                Shingeki no Kyojin\n",
       "5   9756        Mahou Shoujo Madoka★Magica\n",
       "6   9253                       Steins;Gate\n",
       "7     21                         One Piece\n",
       "8   1575   Code Geass: Hangyaku no Lelouch\n",
       "9  20583                         Haikyuu!!"
      ]
     },
     "execution_count": 38,
     "metadata": {},
     "output_type": "execute_result"
    }
   ],
   "source": [
    "top10_titles = []\n",
    "f_top10_df = pd.DataFrame(columns = ['uid', 'title'])\n",
    "f_top10_df['uid'] = ff_count\n",
    "for anime_id in ff_count: \n",
    "    anime = anime_data[anime_data.uid == anime_id].drop_duplicates() \n",
    "    index = anime.index[0]\n",
    "    title = anime_data['title'][index]\n",
    "    top10_titles.append(title)\n",
    "f_top10_df['title'] = top10_titles\n",
    "print(\"UID and Titles of Top 10 Female Favorites (Ordered from Most Counts to Least Counts):\")\n",
    "f_top10_df.head(10)"
   ]
  },
  {
   "cell_type": "code",
   "execution_count": 39,
   "metadata": {},
   "outputs": [
    {
     "name": "stdout",
     "output_type": "stream",
     "text": [
      "Anime ID of Top 10 male favorites: \n",
      "[9253, 5114, 4181, 1535, 2001, 11061, 1575, 1, 30]\n",
      "\n",
      "UID and Titles of Top 10 Male Favorites (Ordered from Most Counts to Least Counts):\n"
     ]
    },
    {
     "data": {
      "text/html": [
       "<div>\n",
       "<style scoped>\n",
       "    .dataframe tbody tr th:only-of-type {\n",
       "        vertical-align: middle;\n",
       "    }\n",
       "\n",
       "    .dataframe tbody tr th {\n",
       "        vertical-align: top;\n",
       "    }\n",
       "\n",
       "    .dataframe thead th {\n",
       "        text-align: right;\n",
       "    }\n",
       "</style>\n",
       "<table border=\"1\" class=\"dataframe\">\n",
       "  <thead>\n",
       "    <tr style=\"text-align: right;\">\n",
       "      <th></th>\n",
       "      <th>uid</th>\n",
       "      <th>title</th>\n",
       "    </tr>\n",
       "  </thead>\n",
       "  <tbody>\n",
       "    <tr>\n",
       "      <td>0</td>\n",
       "      <td>9253</td>\n",
       "      <td>Steins;Gate</td>\n",
       "    </tr>\n",
       "    <tr>\n",
       "      <td>1</td>\n",
       "      <td>5114</td>\n",
       "      <td>Fullmetal Alchemist: Brotherhood</td>\n",
       "    </tr>\n",
       "    <tr>\n",
       "      <td>2</td>\n",
       "      <td>4181</td>\n",
       "      <td>Clannad: After Story</td>\n",
       "    </tr>\n",
       "    <tr>\n",
       "      <td>3</td>\n",
       "      <td>1535</td>\n",
       "      <td>Death Note</td>\n",
       "    </tr>\n",
       "    <tr>\n",
       "      <td>4</td>\n",
       "      <td>2001</td>\n",
       "      <td>Tengen Toppa Gurren Lagann</td>\n",
       "    </tr>\n",
       "    <tr>\n",
       "      <td>5</td>\n",
       "      <td>11061</td>\n",
       "      <td>Hunter x Hunter (2011)</td>\n",
       "    </tr>\n",
       "    <tr>\n",
       "      <td>6</td>\n",
       "      <td>1575</td>\n",
       "      <td>Code Geass: Hangyaku no Lelouch</td>\n",
       "    </tr>\n",
       "    <tr>\n",
       "      <td>7</td>\n",
       "      <td>1</td>\n",
       "      <td>Cowboy Bebop</td>\n",
       "    </tr>\n",
       "    <tr>\n",
       "      <td>8</td>\n",
       "      <td>30</td>\n",
       "      <td>Neon Genesis Evangelion</td>\n",
       "    </tr>\n",
       "    <tr>\n",
       "      <td>9</td>\n",
       "      <td>21</td>\n",
       "      <td>One Piece</td>\n",
       "    </tr>\n",
       "  </tbody>\n",
       "</table>\n",
       "</div>"
      ],
      "text/plain": [
       "     uid                             title\n",
       "0   9253                       Steins;Gate\n",
       "1   5114  Fullmetal Alchemist: Brotherhood\n",
       "2   4181              Clannad: After Story\n",
       "3   1535                        Death Note\n",
       "4   2001        Tengen Toppa Gurren Lagann\n",
       "5  11061            Hunter x Hunter (2011)\n",
       "6   1575   Code Geass: Hangyaku no Lelouch\n",
       "7      1                      Cowboy Bebop\n",
       "8     30           Neon Genesis Evangelion\n",
       "9     21                         One Piece"
      ]
     },
     "execution_count": 39,
     "metadata": {},
     "output_type": "execute_result"
    }
   ],
   "source": [
    "mf_count = male_favs.value_counts().index.tolist()\n",
    "print(\"Anime ID of Top 10 male favorites: \")\n",
    "mf_count = mf_count[0:10]\n",
    "print(mf_count[0:9])\n",
    "\n",
    "#titles of top10\n",
    "top10_titles = []\n",
    "m_top10_df = pd.DataFrame(columns = ['uid', 'title'])\n",
    "m_top10_df['uid'] = mf_count\n",
    "for anime_id in mf_count: \n",
    "    anime = anime_data[anime_data.uid == anime_id].drop_duplicates() \n",
    "    index = anime.index[0]\n",
    "    title = anime_data['title'][index]\n",
    "    top10_titles.append(title)\n",
    "m_top10_df['title'] = top10_titles\n",
    "print(\"\\nUID and Titles of Top 10 Male Favorites (Ordered from Most Counts to Least Counts):\")\n",
    "m_top10_df.head(10)"
   ]
  },
  {
   "cell_type": "markdown",
   "metadata": {},
   "source": [
    "From the above analyses, we see that females and males share some common anime favorites. Namely, many male and female users liked \"Fullmetal Alchemist: Brotherhood\", \"One Piece\", \"Steins;Gate\", and \"Code Geass: Hangyaku no Lelouch.\""
   ]
  },
  {
   "cell_type": "markdown",
   "metadata": {},
   "source": [
    "#### Genre Tags Present in Top 10 Male v. Female Favorites: "
   ]
  },
  {
   "cell_type": "code",
   "execution_count": 41,
   "metadata": {},
   "outputs": [
    {
     "name": "stdout",
     "output_type": "stream",
     "text": [
      "Top 10 Most observed genres of the top 10 male favorites: \n",
      "Action          7\n",
      "Drama           6\n",
      "Adventure       5\n",
      "Sci-Fi          5\n",
      "Comedy          5\n",
      "Shounen         4\n",
      "Fantasy         3\n",
      "Super Power     3\n",
      "Mecha           3\n",
      "Supernatural    2\n",
      "dtype: int64\n"
     ]
    }
   ],
   "source": [
    "mtop10_genres = []\n",
    "for uid in m_top10_df['uid']:\n",
    "    anime = anime_data[anime_data.uid == uid].drop_duplicates()\n",
    "    index = anime.index[0]\n",
    "    anime_genres = anime_data['genre'][index]\n",
    "    anime_genres = anime_genres.strip(\"[]\")\n",
    "    anime_genres = anime_genres.split(\", \")\n",
    "    for i in range(len(anime_genres)):\n",
    "        anime_genres[i] = anime_genres[i].strip(\"''\")\n",
    "        mtop10_genres.append(anime_genres[i])\n",
    "mtop10_genres = pd.Series(mtop10_genres) #all genre tags of male top10 \n",
    "print(\"Top 10 Most observed genres of the top 10 male favorites: \")\n",
    "mgenres = mtop10_genres.value_counts()[:10]\n",
    "print(mgenres)"
   ]
  },
  {
   "cell_type": "code",
   "execution_count": 42,
   "metadata": {},
   "outputs": [
    {
     "name": "stdout",
     "output_type": "stream",
     "text": [
      "Top 10 Most observed genres of the top 10 female favorites: \n",
      "Drama          6\n",
      "Shounen        6\n",
      "Action         5\n",
      "Fantasy        4\n",
      "Super Power    4\n",
      "Comedy         4\n",
      "Thriller       3\n",
      "School         3\n",
      "Adventure      3\n",
      "Military       3\n",
      "dtype: int64\n"
     ]
    }
   ],
   "source": [
    "ftop10_genres = []\n",
    "for uid in f_top10_df['uid']:\n",
    "    anime = anime_data[anime_data.uid == uid].drop_duplicates()\n",
    "    index = anime.index[0]\n",
    "    anime_genres = anime_data['genre'][index]\n",
    "    anime_genres = anime_genres.strip(\"[]\")\n",
    "    anime_genres = anime_genres.split(\", \")\n",
    "    for i in range(len(anime_genres)):\n",
    "        anime_genres[i] = anime_genres[i].strip(\"''\")\n",
    "        ftop10_genres.append(anime_genres[i])\n",
    "ftop10_genres = pd.Series(ftop10_genres) #all genre tags of male top10 \n",
    "print(\"Top 10 Most observed genres of the top 10 female favorites: \")\n",
    "fgenres = ftop10_genres.value_counts()[:10]\n",
    "print(fgenres)"
   ]
  },
  {
   "cell_type": "markdown",
   "metadata": {},
   "source": [
    "Next, we count the number of all animes favorites that have a specific genre tag for female users v. male users. "
   ]
  },
  {
   "cell_type": "code",
   "execution_count": 43,
   "metadata": {},
   "outputs": [],
   "source": [
    "f_genre_dict = {}\n",
    "dropped = 0 \n",
    "for uid in female_favs:\n",
    "    anime = anime_data[anime_data.uid == uid].drop_duplicates()\n",
    "    if len(anime) == 1: \n",
    "        genres = ast.literal_eval(anime['genre'][anime.index[0]])\n",
    "        for genre in genres: \n",
    "            if genre in f_genre_dict: \n",
    "                f_genre_dict[genre] += 1 \n",
    "            else:\n",
    "                f_genre_dict[genre] = 1 \n",
    "    else: \n",
    "        dropped += 1 \n",
    "#f_genre_dict"
   ]
  },
  {
   "cell_type": "markdown",
   "metadata": {},
   "source": [
    "In the analysis above, there were cases where a specific anime UID was not found in the dataset, and thus we dropped those animes from our observation of genres. "
   ]
  },
  {
   "cell_type": "code",
   "execution_count": 44,
   "metadata": {},
   "outputs": [
    {
     "name": "stdout",
     "output_type": "stream",
     "text": [
      "Number of anime not found (and thus dropped): 739\n"
     ]
    }
   ],
   "source": [
    "print(\"Number of anime not found (and thus dropped): \" + str(dropped))"
   ]
  },
  {
   "cell_type": "code",
   "execution_count": 45,
   "metadata": {},
   "outputs": [],
   "source": [
    "f_genres_df = pd.DataFrame(columns = ['genre', 'count_f'])"
   ]
  },
  {
   "cell_type": "code",
   "execution_count": 46,
   "metadata": {},
   "outputs": [],
   "source": [
    "f_genres = [key for key in f_genre_dict] \n",
    "f_counts = [f_genre_dict[key] for key in f_genre_dict]"
   ]
  },
  {
   "cell_type": "code",
   "execution_count": 47,
   "metadata": {},
   "outputs": [
    {
     "name": "stdout",
     "output_type": "stream",
     "text": [
      "Number of Times that Females Listed An Anime that Contained A Specific Genre: \n"
     ]
    },
    {
     "data": {
      "text/html": [
       "<div>\n",
       "<style scoped>\n",
       "    .dataframe tbody tr th:only-of-type {\n",
       "        vertical-align: middle;\n",
       "    }\n",
       "\n",
       "    .dataframe tbody tr th {\n",
       "        vertical-align: top;\n",
       "    }\n",
       "\n",
       "    .dataframe thead th {\n",
       "        text-align: right;\n",
       "    }\n",
       "</style>\n",
       "<table border=\"1\" class=\"dataframe\">\n",
       "  <thead>\n",
       "    <tr style=\"text-align: right;\">\n",
       "      <th></th>\n",
       "      <th>genre</th>\n",
       "      <th>count_f</th>\n",
       "    </tr>\n",
       "  </thead>\n",
       "  <tbody>\n",
       "    <tr>\n",
       "      <td>5</td>\n",
       "      <td>Comedy</td>\n",
       "      <td>25728</td>\n",
       "    </tr>\n",
       "    <tr>\n",
       "      <td>0</td>\n",
       "      <td>Action</td>\n",
       "      <td>22376</td>\n",
       "    </tr>\n",
       "    <tr>\n",
       "      <td>11</td>\n",
       "      <td>Drama</td>\n",
       "      <td>21315</td>\n",
       "    </tr>\n",
       "    <tr>\n",
       "      <td>3</td>\n",
       "      <td>Shounen</td>\n",
       "      <td>16536</td>\n",
       "    </tr>\n",
       "    <tr>\n",
       "      <td>18</td>\n",
       "      <td>Supernatural</td>\n",
       "      <td>15306</td>\n",
       "    </tr>\n",
       "    <tr>\n",
       "      <td>8</td>\n",
       "      <td>Romance</td>\n",
       "      <td>13841</td>\n",
       "    </tr>\n",
       "    <tr>\n",
       "      <td>2</td>\n",
       "      <td>Fantasy</td>\n",
       "      <td>13025</td>\n",
       "    </tr>\n",
       "    <tr>\n",
       "      <td>1</td>\n",
       "      <td>Adventure</td>\n",
       "      <td>12996</td>\n",
       "    </tr>\n",
       "    <tr>\n",
       "      <td>6</td>\n",
       "      <td>School</td>\n",
       "      <td>11062</td>\n",
       "    </tr>\n",
       "    <tr>\n",
       "      <td>17</td>\n",
       "      <td>Mystery</td>\n",
       "      <td>10404</td>\n",
       "    </tr>\n",
       "    <tr>\n",
       "      <td>22</td>\n",
       "      <td>Slice of Life</td>\n",
       "      <td>8697</td>\n",
       "    </tr>\n",
       "    <tr>\n",
       "      <td>15</td>\n",
       "      <td>Sci-Fi</td>\n",
       "      <td>8446</td>\n",
       "    </tr>\n",
       "    <tr>\n",
       "      <td>20</td>\n",
       "      <td>Psychological</td>\n",
       "      <td>7229</td>\n",
       "    </tr>\n",
       "    <tr>\n",
       "      <td>9</td>\n",
       "      <td>Shoujo</td>\n",
       "      <td>7077</td>\n",
       "    </tr>\n",
       "    <tr>\n",
       "      <td>4</td>\n",
       "      <td>Super Power</td>\n",
       "      <td>6822</td>\n",
       "    </tr>\n",
       "    <tr>\n",
       "      <td>24</td>\n",
       "      <td>Magic</td>\n",
       "      <td>6343</td>\n",
       "    </tr>\n",
       "    <tr>\n",
       "      <td>27</td>\n",
       "      <td>Military</td>\n",
       "      <td>4447</td>\n",
       "    </tr>\n",
       "    <tr>\n",
       "      <td>12</td>\n",
       "      <td>Historical</td>\n",
       "      <td>4295</td>\n",
       "    </tr>\n",
       "    <tr>\n",
       "      <td>16</td>\n",
       "      <td>Thriller</td>\n",
       "      <td>4259</td>\n",
       "    </tr>\n",
       "    <tr>\n",
       "      <td>21</td>\n",
       "      <td>Seinen</td>\n",
       "      <td>3928</td>\n",
       "    </tr>\n",
       "    <tr>\n",
       "      <td>23</td>\n",
       "      <td>Demons</td>\n",
       "      <td>3724</td>\n",
       "    </tr>\n",
       "    <tr>\n",
       "      <td>25</td>\n",
       "      <td>Horror</td>\n",
       "      <td>3092</td>\n",
       "    </tr>\n",
       "    <tr>\n",
       "      <td>28</td>\n",
       "      <td>Mecha</td>\n",
       "      <td>2722</td>\n",
       "    </tr>\n",
       "    <tr>\n",
       "      <td>10</td>\n",
       "      <td>Sports</td>\n",
       "      <td>2403</td>\n",
       "    </tr>\n",
       "    <tr>\n",
       "      <td>35</td>\n",
       "      <td>Music</td>\n",
       "      <td>1998</td>\n",
       "    </tr>\n",
       "    <tr>\n",
       "      <td>19</td>\n",
       "      <td>Police</td>\n",
       "      <td>1865</td>\n",
       "    </tr>\n",
       "    <tr>\n",
       "      <td>13</td>\n",
       "      <td>Parody</td>\n",
       "      <td>1723</td>\n",
       "    </tr>\n",
       "    <tr>\n",
       "      <td>7</td>\n",
       "      <td>Harem</td>\n",
       "      <td>1407</td>\n",
       "    </tr>\n",
       "    <tr>\n",
       "      <td>30</td>\n",
       "      <td>Dementia</td>\n",
       "      <td>1395</td>\n",
       "    </tr>\n",
       "    <tr>\n",
       "      <td>29</td>\n",
       "      <td>Martial Arts</td>\n",
       "      <td>1284</td>\n",
       "    </tr>\n",
       "    <tr>\n",
       "      <td>33</td>\n",
       "      <td>Ecchi</td>\n",
       "      <td>1274</td>\n",
       "    </tr>\n",
       "    <tr>\n",
       "      <td>26</td>\n",
       "      <td>Vampire</td>\n",
       "      <td>1258</td>\n",
       "    </tr>\n",
       "    <tr>\n",
       "      <td>31</td>\n",
       "      <td>Game</td>\n",
       "      <td>1256</td>\n",
       "    </tr>\n",
       "    <tr>\n",
       "      <td>14</td>\n",
       "      <td>Samurai</td>\n",
       "      <td>1158</td>\n",
       "    </tr>\n",
       "    <tr>\n",
       "      <td>32</td>\n",
       "      <td>Josei</td>\n",
       "      <td>1111</td>\n",
       "    </tr>\n",
       "    <tr>\n",
       "      <td>34</td>\n",
       "      <td>Space</td>\n",
       "      <td>950</td>\n",
       "    </tr>\n",
       "    <tr>\n",
       "      <td>36</td>\n",
       "      <td>Shounen Ai</td>\n",
       "      <td>580</td>\n",
       "    </tr>\n",
       "    <tr>\n",
       "      <td>37</td>\n",
       "      <td>Shoujo Ai</td>\n",
       "      <td>315</td>\n",
       "    </tr>\n",
       "    <tr>\n",
       "      <td>38</td>\n",
       "      <td>Kids</td>\n",
       "      <td>254</td>\n",
       "    </tr>\n",
       "    <tr>\n",
       "      <td>39</td>\n",
       "      <td>Hentai</td>\n",
       "      <td>67</td>\n",
       "    </tr>\n",
       "    <tr>\n",
       "      <td>41</td>\n",
       "      <td>Yaoi</td>\n",
       "      <td>51</td>\n",
       "    </tr>\n",
       "    <tr>\n",
       "      <td>40</td>\n",
       "      <td>Cars</td>\n",
       "      <td>23</td>\n",
       "    </tr>\n",
       "    <tr>\n",
       "      <td>42</td>\n",
       "      <td>Yuri</td>\n",
       "      <td>3</td>\n",
       "    </tr>\n",
       "  </tbody>\n",
       "</table>\n",
       "</div>"
      ],
      "text/plain": [
       "            genre  count_f\n",
       "5          Comedy    25728\n",
       "0          Action    22376\n",
       "11          Drama    21315\n",
       "3         Shounen    16536\n",
       "18   Supernatural    15306\n",
       "8         Romance    13841\n",
       "2         Fantasy    13025\n",
       "1       Adventure    12996\n",
       "6          School    11062\n",
       "17        Mystery    10404\n",
       "22  Slice of Life     8697\n",
       "15         Sci-Fi     8446\n",
       "20  Psychological     7229\n",
       "9          Shoujo     7077\n",
       "4     Super Power     6822\n",
       "24          Magic     6343\n",
       "27       Military     4447\n",
       "12     Historical     4295\n",
       "16       Thriller     4259\n",
       "21         Seinen     3928\n",
       "23         Demons     3724\n",
       "25         Horror     3092\n",
       "28          Mecha     2722\n",
       "10         Sports     2403\n",
       "35          Music     1998\n",
       "19         Police     1865\n",
       "13         Parody     1723\n",
       "7           Harem     1407\n",
       "30       Dementia     1395\n",
       "29   Martial Arts     1284\n",
       "33          Ecchi     1274\n",
       "26        Vampire     1258\n",
       "31           Game     1256\n",
       "14        Samurai     1158\n",
       "32          Josei     1111\n",
       "34          Space      950\n",
       "36     Shounen Ai      580\n",
       "37      Shoujo Ai      315\n",
       "38           Kids      254\n",
       "39         Hentai       67\n",
       "41           Yaoi       51\n",
       "40           Cars       23\n",
       "42           Yuri        3"
      ]
     },
     "execution_count": 47,
     "metadata": {},
     "output_type": "execute_result"
    }
   ],
   "source": [
    "f_genres_df['genre'] = f_genres\n",
    "f_genres_df['count_f'] = f_counts\n",
    "f_genres_df = f_genres_df.sort_values(by = 'count_f', ascending = False)\n",
    "print(\"Number of Times that Females Listed An Anime that Contained A Specific Genre: \")\n",
    "f_genres_df"
   ]
  },
  {
   "cell_type": "markdown",
   "metadata": {},
   "source": [
    "Now, we do the same for males:"
   ]
  },
  {
   "cell_type": "code",
   "execution_count": 48,
   "metadata": {},
   "outputs": [],
   "source": [
    "m_genre_dict = {}\n",
    "dropped = 0 \n",
    "for uid in male_favs:\n",
    "    anime = anime_data[anime_data.uid == uid].drop_duplicates()\n",
    "    if len(anime) == 1: \n",
    "        genres = ast.literal_eval(anime['genre'][anime.index[0]])\n",
    "        for genre in genres: \n",
    "            if genre in m_genre_dict: \n",
    "                m_genre_dict[genre] += 1 \n",
    "            else:\n",
    "                m_genre_dict[genre] = 1 \n",
    "    else: \n",
    "        dropped += 1 \n",
    "#m_genre_dict"
   ]
  },
  {
   "cell_type": "code",
   "execution_count": 49,
   "metadata": {},
   "outputs": [
    {
     "name": "stdout",
     "output_type": "stream",
     "text": [
      "Number of anime not found (and thus dropped): 1360\n"
     ]
    }
   ],
   "source": [
    "print(\"Number of anime not found (and thus dropped): \" + str(dropped))"
   ]
  },
  {
   "cell_type": "code",
   "execution_count": 50,
   "metadata": {},
   "outputs": [
    {
     "name": "stdout",
     "output_type": "stream",
     "text": [
      "Number of Times that Females Listed An Anime that Contained A Specific Genre: \n"
     ]
    },
    {
     "data": {
      "text/html": [
       "<div>\n",
       "<style scoped>\n",
       "    .dataframe tbody tr th:only-of-type {\n",
       "        vertical-align: middle;\n",
       "    }\n",
       "\n",
       "    .dataframe tbody tr th {\n",
       "        vertical-align: top;\n",
       "    }\n",
       "\n",
       "    .dataframe thead th {\n",
       "        text-align: right;\n",
       "    }\n",
       "</style>\n",
       "<table border=\"1\" class=\"dataframe\">\n",
       "  <thead>\n",
       "    <tr style=\"text-align: right;\">\n",
       "      <th></th>\n",
       "      <th>genre</th>\n",
       "      <th>count_m</th>\n",
       "    </tr>\n",
       "  </thead>\n",
       "  <tbody>\n",
       "    <tr>\n",
       "      <td>3</td>\n",
       "      <td>Action</td>\n",
       "      <td>64463</td>\n",
       "    </tr>\n",
       "    <tr>\n",
       "      <td>5</td>\n",
       "      <td>Comedy</td>\n",
       "      <td>63700</td>\n",
       "    </tr>\n",
       "    <tr>\n",
       "      <td>1</td>\n",
       "      <td>Drama</td>\n",
       "      <td>59327</td>\n",
       "    </tr>\n",
       "    <tr>\n",
       "      <td>9</td>\n",
       "      <td>Shounen</td>\n",
       "      <td>41169</td>\n",
       "    </tr>\n",
       "    <tr>\n",
       "      <td>10</td>\n",
       "      <td>Supernatural</td>\n",
       "      <td>38056</td>\n",
       "    </tr>\n",
       "    <tr>\n",
       "      <td>4</td>\n",
       "      <td>Adventure</td>\n",
       "      <td>36895</td>\n",
       "    </tr>\n",
       "    <tr>\n",
       "      <td>16</td>\n",
       "      <td>Sci-Fi</td>\n",
       "      <td>36131</td>\n",
       "    </tr>\n",
       "    <tr>\n",
       "      <td>6</td>\n",
       "      <td>Romance</td>\n",
       "      <td>35694</td>\n",
       "    </tr>\n",
       "    <tr>\n",
       "      <td>2</td>\n",
       "      <td>Fantasy</td>\n",
       "      <td>33281</td>\n",
       "    </tr>\n",
       "    <tr>\n",
       "      <td>22</td>\n",
       "      <td>School</td>\n",
       "      <td>31415</td>\n",
       "    </tr>\n",
       "    <tr>\n",
       "      <td>0</td>\n",
       "      <td>Slice of Life</td>\n",
       "      <td>24596</td>\n",
       "    </tr>\n",
       "    <tr>\n",
       "      <td>8</td>\n",
       "      <td>Mystery</td>\n",
       "      <td>23201</td>\n",
       "    </tr>\n",
       "    <tr>\n",
       "      <td>19</td>\n",
       "      <td>Psychological</td>\n",
       "      <td>21579</td>\n",
       "    </tr>\n",
       "    <tr>\n",
       "      <td>12</td>\n",
       "      <td>Super Power</td>\n",
       "      <td>18929</td>\n",
       "    </tr>\n",
       "    <tr>\n",
       "      <td>15</td>\n",
       "      <td>Military</td>\n",
       "      <td>14873</td>\n",
       "    </tr>\n",
       "    <tr>\n",
       "      <td>20</td>\n",
       "      <td>Seinen</td>\n",
       "      <td>14611</td>\n",
       "    </tr>\n",
       "    <tr>\n",
       "      <td>17</td>\n",
       "      <td>Mecha</td>\n",
       "      <td>14269</td>\n",
       "    </tr>\n",
       "    <tr>\n",
       "      <td>30</td>\n",
       "      <td>Magic</td>\n",
       "      <td>13961</td>\n",
       "    </tr>\n",
       "    <tr>\n",
       "      <td>32</td>\n",
       "      <td>Thriller</td>\n",
       "      <td>13742</td>\n",
       "    </tr>\n",
       "    <tr>\n",
       "      <td>24</td>\n",
       "      <td>Historical</td>\n",
       "      <td>8785</td>\n",
       "    </tr>\n",
       "    <tr>\n",
       "      <td>18</td>\n",
       "      <td>Horror</td>\n",
       "      <td>7872</td>\n",
       "    </tr>\n",
       "    <tr>\n",
       "      <td>34</td>\n",
       "      <td>Ecchi</td>\n",
       "      <td>6913</td>\n",
       "    </tr>\n",
       "    <tr>\n",
       "      <td>28</td>\n",
       "      <td>Parody</td>\n",
       "      <td>5825</td>\n",
       "    </tr>\n",
       "    <tr>\n",
       "      <td>27</td>\n",
       "      <td>Police</td>\n",
       "      <td>5553</td>\n",
       "    </tr>\n",
       "    <tr>\n",
       "      <td>35</td>\n",
       "      <td>Space</td>\n",
       "      <td>5444</td>\n",
       "    </tr>\n",
       "    <tr>\n",
       "      <td>29</td>\n",
       "      <td>Dementia</td>\n",
       "      <td>5245</td>\n",
       "    </tr>\n",
       "    <tr>\n",
       "      <td>11</td>\n",
       "      <td>Game</td>\n",
       "      <td>5071</td>\n",
       "    </tr>\n",
       "    <tr>\n",
       "      <td>33</td>\n",
       "      <td>Sports</td>\n",
       "      <td>4710</td>\n",
       "    </tr>\n",
       "    <tr>\n",
       "      <td>13</td>\n",
       "      <td>Demons</td>\n",
       "      <td>4576</td>\n",
       "    </tr>\n",
       "    <tr>\n",
       "      <td>14</td>\n",
       "      <td>Music</td>\n",
       "      <td>4558</td>\n",
       "    </tr>\n",
       "    <tr>\n",
       "      <td>25</td>\n",
       "      <td>Martial Arts</td>\n",
       "      <td>4375</td>\n",
       "    </tr>\n",
       "    <tr>\n",
       "      <td>23</td>\n",
       "      <td>Harem</td>\n",
       "      <td>4312</td>\n",
       "    </tr>\n",
       "    <tr>\n",
       "      <td>21</td>\n",
       "      <td>Vampire</td>\n",
       "      <td>3801</td>\n",
       "    </tr>\n",
       "    <tr>\n",
       "      <td>7</td>\n",
       "      <td>Shoujo</td>\n",
       "      <td>3321</td>\n",
       "    </tr>\n",
       "    <tr>\n",
       "      <td>31</td>\n",
       "      <td>Samurai</td>\n",
       "      <td>3222</td>\n",
       "    </tr>\n",
       "    <tr>\n",
       "      <td>26</td>\n",
       "      <td>Josei</td>\n",
       "      <td>1422</td>\n",
       "    </tr>\n",
       "    <tr>\n",
       "      <td>37</td>\n",
       "      <td>Shoujo Ai</td>\n",
       "      <td>530</td>\n",
       "    </tr>\n",
       "    <tr>\n",
       "      <td>36</td>\n",
       "      <td>Kids</td>\n",
       "      <td>473</td>\n",
       "    </tr>\n",
       "    <tr>\n",
       "      <td>40</td>\n",
       "      <td>Hentai</td>\n",
       "      <td>455</td>\n",
       "    </tr>\n",
       "    <tr>\n",
       "      <td>39</td>\n",
       "      <td>Cars</td>\n",
       "      <td>375</td>\n",
       "    </tr>\n",
       "    <tr>\n",
       "      <td>38</td>\n",
       "      <td>Shounen Ai</td>\n",
       "      <td>122</td>\n",
       "    </tr>\n",
       "    <tr>\n",
       "      <td>42</td>\n",
       "      <td>Yaoi</td>\n",
       "      <td>84</td>\n",
       "    </tr>\n",
       "    <tr>\n",
       "      <td>41</td>\n",
       "      <td>Yuri</td>\n",
       "      <td>25</td>\n",
       "    </tr>\n",
       "  </tbody>\n",
       "</table>\n",
       "</div>"
      ],
      "text/plain": [
       "            genre  count_m\n",
       "3          Action    64463\n",
       "5          Comedy    63700\n",
       "1           Drama    59327\n",
       "9         Shounen    41169\n",
       "10   Supernatural    38056\n",
       "4       Adventure    36895\n",
       "16         Sci-Fi    36131\n",
       "6         Romance    35694\n",
       "2         Fantasy    33281\n",
       "22         School    31415\n",
       "0   Slice of Life    24596\n",
       "8         Mystery    23201\n",
       "19  Psychological    21579\n",
       "12    Super Power    18929\n",
       "15       Military    14873\n",
       "20         Seinen    14611\n",
       "17          Mecha    14269\n",
       "30          Magic    13961\n",
       "32       Thriller    13742\n",
       "24     Historical     8785\n",
       "18         Horror     7872\n",
       "34          Ecchi     6913\n",
       "28         Parody     5825\n",
       "27         Police     5553\n",
       "35          Space     5444\n",
       "29       Dementia     5245\n",
       "11           Game     5071\n",
       "33         Sports     4710\n",
       "13         Demons     4576\n",
       "14          Music     4558\n",
       "25   Martial Arts     4375\n",
       "23          Harem     4312\n",
       "21        Vampire     3801\n",
       "7          Shoujo     3321\n",
       "31        Samurai     3222\n",
       "26          Josei     1422\n",
       "37      Shoujo Ai      530\n",
       "36           Kids      473\n",
       "40         Hentai      455\n",
       "39           Cars      375\n",
       "38     Shounen Ai      122\n",
       "42           Yaoi       84\n",
       "41           Yuri       25"
      ]
     },
     "execution_count": 50,
     "metadata": {},
     "output_type": "execute_result"
    }
   ],
   "source": [
    "m_genres_df = pd.DataFrame(columns = ['genre', 'count_m'])\n",
    "m_genres = [key for key in m_genre_dict] \n",
    "m_counts = [m_genre_dict[key] for key in m_genre_dict]\n",
    "m_genres_df['genre'] = m_genres\n",
    "m_genres_df['count_m'] = m_counts\n",
    "m_genres_df = m_genres_df.sort_values(by = 'count_m', ascending = False)\n",
    "print(\"Number of Times that Females Listed An Anime that Contained A Specific Genre: \")\n",
    "m_genres_df"
   ]
  },
  {
   "cell_type": "markdown",
   "metadata": {},
   "source": [
    "To do a comparative analysis, we then attempted to merge the two dataframes to compare the numbers. Some analyses we looked at include the % of all genres that counts of a specific genre takes up for males v. females, as well as the ratio of male:female percentages for each genre.  "
   ]
  },
  {
   "cell_type": "code",
   "execution_count": 51,
   "metadata": {},
   "outputs": [],
   "source": [
    "m_genres_df = m_genres_df.reset_index(drop = True)\n",
    "f_genres_df = f_genres_df.reset_index(drop = True)"
   ]
  },
  {
   "cell_type": "code",
   "execution_count": 52,
   "metadata": {},
   "outputs": [],
   "source": [
    "merged = pd.merge(m_genres_df, f_genres_df, on = \"genre\")"
   ]
  },
  {
   "cell_type": "code",
   "execution_count": 53,
   "metadata": {},
   "outputs": [],
   "source": [
    "merged['% of all counts (m)'] = len(merged) * [0]\n",
    "merged['% of all counts (f)'] = len(merged) * [0]\n",
    "merged['ratio of m:f'] = len(merged) * [0]"
   ]
  },
  {
   "cell_type": "code",
   "execution_count": 54,
   "metadata": {},
   "outputs": [
    {
     "data": {
      "text/html": [
       "<div>\n",
       "<style scoped>\n",
       "    .dataframe tbody tr th:only-of-type {\n",
       "        vertical-align: middle;\n",
       "    }\n",
       "\n",
       "    .dataframe tbody tr th {\n",
       "        vertical-align: top;\n",
       "    }\n",
       "\n",
       "    .dataframe thead th {\n",
       "        text-align: right;\n",
       "    }\n",
       "</style>\n",
       "<table border=\"1\" class=\"dataframe\">\n",
       "  <thead>\n",
       "    <tr style=\"text-align: right;\">\n",
       "      <th></th>\n",
       "      <th>genre</th>\n",
       "      <th>count_m</th>\n",
       "      <th>count_f</th>\n",
       "      <th>% of all counts (m)</th>\n",
       "      <th>% of all counts (f)</th>\n",
       "      <th>ratio of m:f</th>\n",
       "    </tr>\n",
       "  </thead>\n",
       "  <tbody>\n",
       "    <tr>\n",
       "      <td>0</td>\n",
       "      <td>Action</td>\n",
       "      <td>64463</td>\n",
       "      <td>22376</td>\n",
       "      <td>9.3838</td>\n",
       "      <td>8.8079</td>\n",
       "      <td>1.065385</td>\n",
       "    </tr>\n",
       "    <tr>\n",
       "      <td>1</td>\n",
       "      <td>Comedy</td>\n",
       "      <td>63700</td>\n",
       "      <td>25728</td>\n",
       "      <td>9.2727</td>\n",
       "      <td>10.1273</td>\n",
       "      <td>0.915613</td>\n",
       "    </tr>\n",
       "    <tr>\n",
       "      <td>2</td>\n",
       "      <td>Drama</td>\n",
       "      <td>59327</td>\n",
       "      <td>21315</td>\n",
       "      <td>8.6362</td>\n",
       "      <td>8.3902</td>\n",
       "      <td>1.029309</td>\n",
       "    </tr>\n",
       "    <tr>\n",
       "      <td>3</td>\n",
       "      <td>Shounen</td>\n",
       "      <td>41169</td>\n",
       "      <td>16536</td>\n",
       "      <td>5.9929</td>\n",
       "      <td>6.5091</td>\n",
       "      <td>0.920701</td>\n",
       "    </tr>\n",
       "    <tr>\n",
       "      <td>4</td>\n",
       "      <td>Supernatural</td>\n",
       "      <td>38056</td>\n",
       "      <td>15306</td>\n",
       "      <td>5.5398</td>\n",
       "      <td>6.0249</td>\n",
       "      <td>0.919475</td>\n",
       "    </tr>\n",
       "    <tr>\n",
       "      <td>5</td>\n",
       "      <td>Adventure</td>\n",
       "      <td>36895</td>\n",
       "      <td>12996</td>\n",
       "      <td>5.3708</td>\n",
       "      <td>5.1156</td>\n",
       "      <td>1.049872</td>\n",
       "    </tr>\n",
       "    <tr>\n",
       "      <td>6</td>\n",
       "      <td>Sci-Fi</td>\n",
       "      <td>36131</td>\n",
       "      <td>8446</td>\n",
       "      <td>5.2595</td>\n",
       "      <td>3.3246</td>\n",
       "      <td>1.582004</td>\n",
       "    </tr>\n",
       "    <tr>\n",
       "      <td>7</td>\n",
       "      <td>Romance</td>\n",
       "      <td>35694</td>\n",
       "      <td>13841</td>\n",
       "      <td>5.1959</td>\n",
       "      <td>5.4482</td>\n",
       "      <td>0.953688</td>\n",
       "    </tr>\n",
       "    <tr>\n",
       "      <td>8</td>\n",
       "      <td>Fantasy</td>\n",
       "      <td>33281</td>\n",
       "      <td>13025</td>\n",
       "      <td>4.8447</td>\n",
       "      <td>5.1270</td>\n",
       "      <td>0.944925</td>\n",
       "    </tr>\n",
       "    <tr>\n",
       "      <td>9</td>\n",
       "      <td>School</td>\n",
       "      <td>31415</td>\n",
       "      <td>11062</td>\n",
       "      <td>4.5730</td>\n",
       "      <td>4.3543</td>\n",
       "      <td>1.050224</td>\n",
       "    </tr>\n",
       "    <tr>\n",
       "      <td>10</td>\n",
       "      <td>Slice of Life</td>\n",
       "      <td>24596</td>\n",
       "      <td>8697</td>\n",
       "      <td>3.5804</td>\n",
       "      <td>3.4234</td>\n",
       "      <td>1.045860</td>\n",
       "    </tr>\n",
       "    <tr>\n",
       "      <td>11</td>\n",
       "      <td>Mystery</td>\n",
       "      <td>23201</td>\n",
       "      <td>10404</td>\n",
       "      <td>3.3773</td>\n",
       "      <td>4.0953</td>\n",
       "      <td>0.824679</td>\n",
       "    </tr>\n",
       "    <tr>\n",
       "      <td>12</td>\n",
       "      <td>Psychological</td>\n",
       "      <td>21579</td>\n",
       "      <td>7229</td>\n",
       "      <td>3.1412</td>\n",
       "      <td>2.8456</td>\n",
       "      <td>1.103905</td>\n",
       "    </tr>\n",
       "    <tr>\n",
       "      <td>13</td>\n",
       "      <td>Super Power</td>\n",
       "      <td>18929</td>\n",
       "      <td>6822</td>\n",
       "      <td>2.7555</td>\n",
       "      <td>2.6854</td>\n",
       "      <td>1.026111</td>\n",
       "    </tr>\n",
       "    <tr>\n",
       "      <td>14</td>\n",
       "      <td>Military</td>\n",
       "      <td>14873</td>\n",
       "      <td>4447</td>\n",
       "      <td>2.1650</td>\n",
       "      <td>1.7505</td>\n",
       "      <td>1.236830</td>\n",
       "    </tr>\n",
       "    <tr>\n",
       "      <td>15</td>\n",
       "      <td>Seinen</td>\n",
       "      <td>14611</td>\n",
       "      <td>3928</td>\n",
       "      <td>2.1269</td>\n",
       "      <td>1.5462</td>\n",
       "      <td>1.375584</td>\n",
       "    </tr>\n",
       "    <tr>\n",
       "      <td>16</td>\n",
       "      <td>Mecha</td>\n",
       "      <td>14269</td>\n",
       "      <td>2722</td>\n",
       "      <td>2.0771</td>\n",
       "      <td>1.0715</td>\n",
       "      <td>1.938581</td>\n",
       "    </tr>\n",
       "    <tr>\n",
       "      <td>17</td>\n",
       "      <td>Magic</td>\n",
       "      <td>13961</td>\n",
       "      <td>6343</td>\n",
       "      <td>2.0323</td>\n",
       "      <td>2.4968</td>\n",
       "      <td>0.813955</td>\n",
       "    </tr>\n",
       "    <tr>\n",
       "      <td>18</td>\n",
       "      <td>Thriller</td>\n",
       "      <td>13742</td>\n",
       "      <td>4259</td>\n",
       "      <td>2.0004</td>\n",
       "      <td>1.6765</td>\n",
       "      <td>1.193221</td>\n",
       "    </tr>\n",
       "    <tr>\n",
       "      <td>19</td>\n",
       "      <td>Historical</td>\n",
       "      <td>8785</td>\n",
       "      <td>4295</td>\n",
       "      <td>1.2788</td>\n",
       "      <td>1.6906</td>\n",
       "      <td>0.756410</td>\n",
       "    </tr>\n",
       "    <tr>\n",
       "      <td>20</td>\n",
       "      <td>Horror</td>\n",
       "      <td>7872</td>\n",
       "      <td>3092</td>\n",
       "      <td>1.1459</td>\n",
       "      <td>1.2171</td>\n",
       "      <td>0.941508</td>\n",
       "    </tr>\n",
       "    <tr>\n",
       "      <td>21</td>\n",
       "      <td>Ecchi</td>\n",
       "      <td>6913</td>\n",
       "      <td>1274</td>\n",
       "      <td>1.0063</td>\n",
       "      <td>0.5015</td>\n",
       "      <td>2.006669</td>\n",
       "    </tr>\n",
       "    <tr>\n",
       "      <td>22</td>\n",
       "      <td>Parody</td>\n",
       "      <td>5825</td>\n",
       "      <td>1723</td>\n",
       "      <td>0.8479</td>\n",
       "      <td>0.6782</td>\n",
       "      <td>1.250228</td>\n",
       "    </tr>\n",
       "    <tr>\n",
       "      <td>23</td>\n",
       "      <td>Police</td>\n",
       "      <td>5553</td>\n",
       "      <td>1865</td>\n",
       "      <td>0.8083</td>\n",
       "      <td>0.7341</td>\n",
       "      <td>1.101102</td>\n",
       "    </tr>\n",
       "    <tr>\n",
       "      <td>24</td>\n",
       "      <td>Space</td>\n",
       "      <td>5444</td>\n",
       "      <td>950</td>\n",
       "      <td>0.7925</td>\n",
       "      <td>0.3739</td>\n",
       "      <td>2.119206</td>\n",
       "    </tr>\n",
       "    <tr>\n",
       "      <td>25</td>\n",
       "      <td>Dementia</td>\n",
       "      <td>5245</td>\n",
       "      <td>1395</td>\n",
       "      <td>0.7635</td>\n",
       "      <td>0.5491</td>\n",
       "      <td>1.390432</td>\n",
       "    </tr>\n",
       "    <tr>\n",
       "      <td>26</td>\n",
       "      <td>Game</td>\n",
       "      <td>5071</td>\n",
       "      <td>1256</td>\n",
       "      <td>0.7382</td>\n",
       "      <td>0.4944</td>\n",
       "      <td>1.493078</td>\n",
       "    </tr>\n",
       "    <tr>\n",
       "      <td>27</td>\n",
       "      <td>Sports</td>\n",
       "      <td>4710</td>\n",
       "      <td>2403</td>\n",
       "      <td>0.6856</td>\n",
       "      <td>0.9459</td>\n",
       "      <td>0.724846</td>\n",
       "    </tr>\n",
       "    <tr>\n",
       "      <td>28</td>\n",
       "      <td>Demons</td>\n",
       "      <td>4576</td>\n",
       "      <td>3724</td>\n",
       "      <td>0.6661</td>\n",
       "      <td>1.4659</td>\n",
       "      <td>0.454417</td>\n",
       "    </tr>\n",
       "    <tr>\n",
       "      <td>29</td>\n",
       "      <td>Music</td>\n",
       "      <td>4558</td>\n",
       "      <td>1998</td>\n",
       "      <td>0.6635</td>\n",
       "      <td>0.7865</td>\n",
       "      <td>0.843640</td>\n",
       "    </tr>\n",
       "    <tr>\n",
       "      <td>30</td>\n",
       "      <td>Martial Arts</td>\n",
       "      <td>4375</td>\n",
       "      <td>1284</td>\n",
       "      <td>0.6369</td>\n",
       "      <td>0.5054</td>\n",
       "      <td>1.260061</td>\n",
       "    </tr>\n",
       "    <tr>\n",
       "      <td>31</td>\n",
       "      <td>Harem</td>\n",
       "      <td>4312</td>\n",
       "      <td>1407</td>\n",
       "      <td>0.6277</td>\n",
       "      <td>0.5538</td>\n",
       "      <td>1.133348</td>\n",
       "    </tr>\n",
       "    <tr>\n",
       "      <td>32</td>\n",
       "      <td>Vampire</td>\n",
       "      <td>3801</td>\n",
       "      <td>1258</td>\n",
       "      <td>0.5533</td>\n",
       "      <td>0.4952</td>\n",
       "      <td>1.117367</td>\n",
       "    </tr>\n",
       "    <tr>\n",
       "      <td>33</td>\n",
       "      <td>Shoujo</td>\n",
       "      <td>3321</td>\n",
       "      <td>7077</td>\n",
       "      <td>0.4834</td>\n",
       "      <td>2.7857</td>\n",
       "      <td>0.173539</td>\n",
       "    </tr>\n",
       "    <tr>\n",
       "      <td>34</td>\n",
       "      <td>Samurai</td>\n",
       "      <td>3222</td>\n",
       "      <td>1158</td>\n",
       "      <td>0.4690</td>\n",
       "      <td>0.4558</td>\n",
       "      <td>1.028953</td>\n",
       "    </tr>\n",
       "    <tr>\n",
       "      <td>35</td>\n",
       "      <td>Josei</td>\n",
       "      <td>1422</td>\n",
       "      <td>1111</td>\n",
       "      <td>0.2070</td>\n",
       "      <td>0.4373</td>\n",
       "      <td>0.473330</td>\n",
       "    </tr>\n",
       "    <tr>\n",
       "      <td>36</td>\n",
       "      <td>Shoujo Ai</td>\n",
       "      <td>530</td>\n",
       "      <td>315</td>\n",
       "      <td>0.0772</td>\n",
       "      <td>0.1240</td>\n",
       "      <td>0.622220</td>\n",
       "    </tr>\n",
       "    <tr>\n",
       "      <td>37</td>\n",
       "      <td>Kids</td>\n",
       "      <td>473</td>\n",
       "      <td>254</td>\n",
       "      <td>0.0689</td>\n",
       "      <td>0.1000</td>\n",
       "      <td>0.688662</td>\n",
       "    </tr>\n",
       "    <tr>\n",
       "      <td>38</td>\n",
       "      <td>Hentai</td>\n",
       "      <td>455</td>\n",
       "      <td>67</td>\n",
       "      <td>0.0662</td>\n",
       "      <td>0.0264</td>\n",
       "      <td>2.511396</td>\n",
       "    </tr>\n",
       "    <tr>\n",
       "      <td>39</td>\n",
       "      <td>Cars</td>\n",
       "      <td>375</td>\n",
       "      <td>23</td>\n",
       "      <td>0.0546</td>\n",
       "      <td>0.0091</td>\n",
       "      <td>6.029510</td>\n",
       "    </tr>\n",
       "    <tr>\n",
       "      <td>40</td>\n",
       "      <td>Shounen Ai</td>\n",
       "      <td>122</td>\n",
       "      <td>580</td>\n",
       "      <td>0.0178</td>\n",
       "      <td>0.2283</td>\n",
       "      <td>0.077788</td>\n",
       "    </tr>\n",
       "    <tr>\n",
       "      <td>41</td>\n",
       "      <td>Yaoi</td>\n",
       "      <td>84</td>\n",
       "      <td>51</td>\n",
       "      <td>0.0122</td>\n",
       "      <td>0.0201</td>\n",
       "      <td>0.609099</td>\n",
       "    </tr>\n",
       "    <tr>\n",
       "      <td>42</td>\n",
       "      <td>Yuri</td>\n",
       "      <td>25</td>\n",
       "      <td>3</td>\n",
       "      <td>0.0036</td>\n",
       "      <td>0.0012</td>\n",
       "      <td>3.081749</td>\n",
       "    </tr>\n",
       "  </tbody>\n",
       "</table>\n",
       "</div>"
      ],
      "text/plain": [
       "            genre  count_m  count_f  % of all counts (m)  % of all counts (f)  \\\n",
       "0          Action    64463    22376               9.3838               8.8079   \n",
       "1          Comedy    63700    25728               9.2727              10.1273   \n",
       "2           Drama    59327    21315               8.6362               8.3902   \n",
       "3         Shounen    41169    16536               5.9929               6.5091   \n",
       "4    Supernatural    38056    15306               5.5398               6.0249   \n",
       "5       Adventure    36895    12996               5.3708               5.1156   \n",
       "6          Sci-Fi    36131     8446               5.2595               3.3246   \n",
       "7         Romance    35694    13841               5.1959               5.4482   \n",
       "8         Fantasy    33281    13025               4.8447               5.1270   \n",
       "9          School    31415    11062               4.5730               4.3543   \n",
       "10  Slice of Life    24596     8697               3.5804               3.4234   \n",
       "11        Mystery    23201    10404               3.3773               4.0953   \n",
       "12  Psychological    21579     7229               3.1412               2.8456   \n",
       "13    Super Power    18929     6822               2.7555               2.6854   \n",
       "14       Military    14873     4447               2.1650               1.7505   \n",
       "15         Seinen    14611     3928               2.1269               1.5462   \n",
       "16          Mecha    14269     2722               2.0771               1.0715   \n",
       "17          Magic    13961     6343               2.0323               2.4968   \n",
       "18       Thriller    13742     4259               2.0004               1.6765   \n",
       "19     Historical     8785     4295               1.2788               1.6906   \n",
       "20         Horror     7872     3092               1.1459               1.2171   \n",
       "21          Ecchi     6913     1274               1.0063               0.5015   \n",
       "22         Parody     5825     1723               0.8479               0.6782   \n",
       "23         Police     5553     1865               0.8083               0.7341   \n",
       "24          Space     5444      950               0.7925               0.3739   \n",
       "25       Dementia     5245     1395               0.7635               0.5491   \n",
       "26           Game     5071     1256               0.7382               0.4944   \n",
       "27         Sports     4710     2403               0.6856               0.9459   \n",
       "28         Demons     4576     3724               0.6661               1.4659   \n",
       "29          Music     4558     1998               0.6635               0.7865   \n",
       "30   Martial Arts     4375     1284               0.6369               0.5054   \n",
       "31          Harem     4312     1407               0.6277               0.5538   \n",
       "32        Vampire     3801     1258               0.5533               0.4952   \n",
       "33         Shoujo     3321     7077               0.4834               2.7857   \n",
       "34        Samurai     3222     1158               0.4690               0.4558   \n",
       "35          Josei     1422     1111               0.2070               0.4373   \n",
       "36      Shoujo Ai      530      315               0.0772               0.1240   \n",
       "37           Kids      473      254               0.0689               0.1000   \n",
       "38         Hentai      455       67               0.0662               0.0264   \n",
       "39           Cars      375       23               0.0546               0.0091   \n",
       "40     Shounen Ai      122      580               0.0178               0.2283   \n",
       "41           Yaoi       84       51               0.0122               0.0201   \n",
       "42           Yuri       25        3               0.0036               0.0012   \n",
       "\n",
       "    ratio of m:f  \n",
       "0       1.065385  \n",
       "1       0.915613  \n",
       "2       1.029309  \n",
       "3       0.920701  \n",
       "4       0.919475  \n",
       "5       1.049872  \n",
       "6       1.582004  \n",
       "7       0.953688  \n",
       "8       0.944925  \n",
       "9       1.050224  \n",
       "10      1.045860  \n",
       "11      0.824679  \n",
       "12      1.103905  \n",
       "13      1.026111  \n",
       "14      1.236830  \n",
       "15      1.375584  \n",
       "16      1.938581  \n",
       "17      0.813955  \n",
       "18      1.193221  \n",
       "19      0.756410  \n",
       "20      0.941508  \n",
       "21      2.006669  \n",
       "22      1.250228  \n",
       "23      1.101102  \n",
       "24      2.119206  \n",
       "25      1.390432  \n",
       "26      1.493078  \n",
       "27      0.724846  \n",
       "28      0.454417  \n",
       "29      0.843640  \n",
       "30      1.260061  \n",
       "31      1.133348  \n",
       "32      1.117367  \n",
       "33      0.173539  \n",
       "34      1.028953  \n",
       "35      0.473330  \n",
       "36      0.622220  \n",
       "37      0.688662  \n",
       "38      2.511396  \n",
       "39      6.029510  \n",
       "40      0.077788  \n",
       "41      0.609099  \n",
       "42      3.081749  "
      ]
     },
     "execution_count": 54,
     "metadata": {},
     "output_type": "execute_result"
    }
   ],
   "source": [
    "m_ratios = []\n",
    "m_total = sum(merged['count_m'])\n",
    "f_ratios = []\n",
    "f_total = sum(merged['count_f'])\n",
    "mf_ratios = []\n",
    "\n",
    "for i in range(len(merged)):\n",
    "    m_ratio = merged['count_m'][i] / m_total * 100\n",
    "    f_ratio = merged['count_f'][i] / f_total * 100\n",
    "    mf_ratio = m_ratio / f_ratio\n",
    "    m_ratios.append(round(m_ratio,4))\n",
    "    f_ratios.append(round(f_ratio, 4))\n",
    "    mf_ratios.append(mf_ratio)\n",
    "    i += 1 \n",
    "merged['% of all counts (m)'] = m_ratios\n",
    "merged['% of all counts (f)'] = f_ratios\n",
    "merged['ratio of m:f'] = mf_ratios\n",
    "merged"
   ]
  },
  {
   "cell_type": "markdown",
   "metadata": {},
   "source": [
    "Below is a graphic representation of genre counts of male vs. female favorites:"
   ]
  },
  {
   "cell_type": "code",
   "execution_count": 56,
   "metadata": {},
   "outputs": [
    {
     "data": {
      "image/png": "[encoded data removed]",
      "text/plain": [
       "<Figure size 1440x936 with 1 Axes>"
      ]
     },
     "metadata": {
      "needs_background": "light"
     },
     "output_type": "display_data"
    }
   ],
   "source": [
    "#graphic representation\n",
    "f, ax = plt.subplots(1, 1, figsize = (20, 13))\n",
    "plt.barh(merged['genre'], merged['count_m'], label = 'male', color = 'green')\n",
    "plt.barh(merged['genre'], f_genres_df['count_f'], color = 'orange', label = 'female', alpha = 0.9)\n",
    "plt.legend()\n",
    "plt.title(\"Count of Genres for Male v. Female Favorites\")\n",
    "plt.xlabel(\"Count\")\n",
    "plt.ylabel(\"Genre\")\n",
    "plt.show()"
   ]
  },
  {
   "cell_type": "code",
   "execution_count": null,
   "metadata": {},
   "outputs": [],
   "source": [
    "#genre preferences compared\n",
    "print(\"Genres where Females have Higher % of Counts than Males: \")\n",
    "female_pref = merged[merged['% of all counts (f)'] > merged['% of all counts (m)']]\n",
    "female_pref = female_pref.reset_index(drop = True)\n",
    "female_pref"
   ]
  },
  {
   "cell_type": "markdown",
   "metadata": {},
   "source": [
    "The first dataframe shows that there are indeed certain genres that are named as male favorites more often than female favorites, although the % differences tend to be within 1. The second dataframe shows that there are some genres that females tend to like more than males, the top 10 most common being the ones below: (comedy, shounen, supernatural, romance, fantasy, mystery, magic, historical, horror, and sports)"
   ]
  },
  {
   "cell_type": "code",
   "execution_count": null,
   "metadata": {},
   "outputs": [],
   "source": [
    "female_pref.head(10)"
   ]
  },
  {
   "cell_type": "code",
   "execution_count": null,
   "metadata": {},
   "outputs": [],
   "source": [
    "print('p-value: {}'.format(stats.ttest_ind(merged['count_m'] , merged['count_f'])[1]))"
   ]
  },
  {
   "cell_type": "markdown",
   "metadata": {},
   "source": [
    "In performing a t-test to examine whether there are significant differences between the counts of genres for male and female favorites, we found that the p-value came out to be 0.0008398428186774142 for a two-tailed test. This is less than the alpha = 0.05, which suggests that the observed gender differences are significant."
   ]
  },
  {
   "cell_type": "markdown",
   "metadata": {},
   "source": [
    "### Anime Episodes"
   ]
  },
  {
   "cell_type": "code",
   "execution_count": 11,
   "metadata": {},
   "outputs": [
    {
     "name": "stdout",
     "output_type": "stream",
     "text": [
      "Statistical summary of anime episodes\n",
      "count    8546.00\n",
      "mean       76.11\n",
      "std       217.67\n",
      "min         2.00\n",
      "25%         4.00\n",
      "50%        12.00\n",
      "75%        26.00\n",
      "max       999.00\n",
      "Name: episodes, dtype: float64\n"
     ]
    }
   ],
   "source": [
    "print(\"Statistical summary of anime episodes\")\n",
    "print(round(anime_epdata.episodes.describe(),2))"
   ]
  },
  {
   "cell_type": "markdown",
   "metadata": {},
   "source": [
    "It looks like the majority of the anime are within 100 episodes. The large standard deviation may be due to the large number of anime in the 800-1000 episode region which may skew the data."
   ]
  },
  {
   "cell_type": "markdown",
   "metadata": {},
   "source": [
    "### Popularity and ranking/score"
   ]
  },
  {
   "cell_type": "code",
   "execution_count": 12,
   "metadata": {},
   "outputs": [],
   "source": [
    "rank=anime_epdata[\"ranked\"]\n",
    "popularity=anime_epdata[\"popularity\"]\n",
    "score=anime_epdata[\"score\"]\n",
    "members=anime_epdata[\"members\"]\n",
    "episodes=anime_epdata[\"episodes\"]"
   ]
  },
  {
   "cell_type": "code",
   "execution_count": 13,
   "metadata": {},
   "outputs": [
    {
     "data": {
      "image/png": "[encoded data removed]",
      "text/plain": [
       "<Figure size 432x288 with 1 Axes>"
      ]
     },
     "metadata": {
      "needs_background": "light"
     },
     "output_type": "display_data"
    }
   ],
   "source": [
    "plt.scatter(episodes, score, alpha=0.3)\n",
    "plt.title(\"Scatterplot of number of episodes to score\")\n",
    "plt.xlabel('episodes')\n",
    "plt.ylabel('score')\n",
    "plt.show()"
   ]
  },
  {
   "cell_type": "markdown",
   "metadata": {},
   "source": [
    "Looking at this data, most of the animes are within 100 episodes, and there is a cluster around 800-1000 episodes. The score for the animes don't usually go below 3.0 and animes with a high number of episodes still tend to score just as well as the animes near the lower end of number of episodes."
   ]
  },
  {
   "cell_type": "code",
   "execution_count": 14,
   "metadata": {},
   "outputs": [
    {
     "data": {
      "image/png": "[encoded data removed]",
      "text/plain": [
       "<Figure size 432x288 with 1 Axes>"
      ]
     },
     "metadata": {
      "needs_background": "light"
     },
     "output_type": "display_data"
    }
   ],
   "source": [
    "sns.scatterplot(score, rank, popularity, alpha=0.3)\n",
    "plt.title(\"Scatterplot of number of episodes to score to popularity\")\n",
    "plt.xlabel('score')\n",
    "plt.ylabel('rank')\n",
    "plt.show()"
   ]
  },
  {
   "cell_type": "markdown",
   "metadata": {},
   "source": [
    "The graph follows the general relationship between score and rank in that the higher the score, the higher its ranking (inversed). It is interesting to see that it is not a linear relationship. It is interesting to see that there is a large cluster around range of 4-7 score with a low rank."
   ]
  },
  {
   "cell_type": "code",
   "execution_count": 15,
   "metadata": {},
   "outputs": [
    {
     "data": {
      "image/png": "[encoded data removed]",
      "text/plain": [
       "<Figure size 432x288 with 1 Axes>"
      ]
     },
     "metadata": {
      "needs_background": "light"
     },
     "output_type": "display_data"
    }
   ],
   "source": [
    "sns.scatterplot(popularity, members, alpha=0.3, s=20)\n",
    "plt.title(\"Scatterplot of popularity to members\")\n",
    "plt.xlabel('popularity')\n",
    "plt.ylabel('members')\n",
    "plt.show()"
   ]
  },
  {
   "cell_type": "markdown",
   "metadata": {},
   "source": [
    "The graph follows the general relationship between popularity and number of members in that the higher the number of members, the higher its popularity (inversed). Just as with score and rank, it is interesting to see that it is not a linear relationship."
   ]
  },
  {
   "cell_type": "markdown",
   "metadata": {},
   "source": [
    "### Episodes and popularity\n",
    "Because popularity is based on number of members and is inversed (lower the numerical value the better), we also analyzed members aong with popularity."
   ]
  },
  {
   "cell_type": "markdown",
   "metadata": {},
   "source": [
    "##### Linear Regression model"
   ]
  },
  {
   "cell_type": "code",
   "execution_count": 16,
   "metadata": {},
   "outputs": [
    {
     "data": {
      "image/png": "[encoded data removed]",
      "text/plain": [
       "<Figure size 432x288 with 1 Axes>"
      ]
     },
     "metadata": {
      "needs_background": "light"
     },
     "output_type": "display_data"
    },
    {
     "name": "stdout",
     "output_type": "stream",
     "text": [
      "r-squared value with episodes: 0.003916501287817065\n",
      "regression slope with episodes: -35.1625616183033\n"
     ]
    }
   ],
   "source": [
    "members_model = LinearRegression().fit(anime_epdata[[\"episodes\"]], anime_epdata[\"members\"])\n",
    "predictions = members_model.predict(anime_epdata[[\"episodes\"]])\n",
    "plt.plot(anime_epdata[\"episodes\"], predictions)\n",
    "plt.title(\"Prediction for episodes vs members\")\n",
    "plt.xlabel('Number of episodes')\n",
    "plt.ylabel('Number of members')\n",
    "plt.show()\n",
    "print(\"r-squared value with episodes: {}\".format(members_model.score(anime_epdata[[\"episodes\"]], anime_epdata[\"members\"])))\n",
    "print(\"regression slope with episodes: {}\".format(members_model.coef_[0]))"
   ]
  },
  {
   "cell_type": "markdown",
   "metadata": {},
   "source": [
    "It seems that with higher number of episodes, there are less anime watchers who add it to their list, suggesting that fewer people are exposed to it in general. However, we don't know which list they added it to (it may be dropped animes). That may mean that the longer the anime, the more intimidating it might be for users to start wathing it. Overall, we can say that there is less exposure for longer animes. A multi-variable analysis could help further analyze this relationship."
   ]
  },
  {
   "cell_type": "code",
   "execution_count": 17,
   "metadata": {},
   "outputs": [
    {
     "data": {
      "image/png": "[encoded data removed]",
      "text/plain": [
       "<Figure size 432x288 with 1 Axes>"
      ]
     },
     "metadata": {
      "needs_background": "light"
     },
     "output_type": "display_data"
    },
    {
     "name": "stdout",
     "output_type": "stream",
     "text": [
      "r-squared value with episodes: 0.025297959205990317\n",
      "regression slope with episodes: 3.3072497471218028\n"
     ]
    }
   ],
   "source": [
    "popularity_model = LinearRegression().fit(anime_epdata[[\"episodes\"]], anime_epdata[\"popularity\"])\n",
    "predictions = popularity_model.predict(anime_epdata[[\"episodes\"]])\n",
    "plt.plot(anime_epdata[\"episodes\"], predictions)\n",
    "plt.title(\"Prediction for episodes vs popularity\")\n",
    "plt.xlabel('Number of episodes')\n",
    "plt.ylabel('Popularity')\n",
    "plt.show()\n",
    "print(\"r-squared value with episodes: {}\".format(popularity_model.score(anime_epdata[[\"episodes\"]], anime_epdata[\"popularity\"])))\n",
    "print(\"regression slope with episodes: {}\".format(popularity_model.coef_[0]))"
   ]
  },
  {
   "cell_type": "markdown",
   "metadata": {},
   "source": [
    "As with the members v episodes linear regression model, the higher number of episodes put the anime are at lower (inversed) general popularity.  "
   ]
  },
  {
   "cell_type": "markdown",
   "metadata": {},
   "source": [
    "##### Multivariable linear regression"
   ]
  },
  {
   "cell_type": "code",
   "execution_count": 20,
   "metadata": {},
   "outputs": [],
   "source": [
    "#Currently unsolved error\n",
    "\n",
    "#multi_episode_model = LinearRegression().fit(anime_epdata[[\"popularity\", \"ranked\", \"score\",\"members\"]], anime_epdata[\"episodes\"])\n",
    "#multi_predictions = multi_episode_model.predict(anime_epdata[[\"popularity\", \"ranked\", \"score\",\"members\"]])\n",
    "#print(\"coefficient for popularity: {}\".format(multi_episodes_model.coef_[0]))\n",
    "#print(\"coefficient for ranked: {}\".format(multi_episodes_model.coef_[1]))\n",
    "#print(\"coefficient for score: {}\".format(multi_episodes_model.coef_[2]))\n",
    "#print(\"coefficient for members: {}\".format(multi_episodes_model.coef_[3]))\n",
    "#print(\"r-squared value: {}\".format(multi_episodes_model.score(anime_epdata[[popularity\", \"ranked\", \"score\",\"members\"]], anime_epdata[\"episodes\"])))"
   ]
  },
  {
   "cell_type": "markdown",
   "metadata": {},
   "source": [
    "## Data limitations\n",
    "-------------------------------------------------------------\n",
    "Although we had a vast array of data available to us, there were some limitations we faced in our analyses.\n",
    "\n",
    "Datasets:\n",
    "\n",
    "- The anime_data dataset was missing some anime titles, which was observed when no anime data could be found for anime of a certain anime uid.\n",
    "- The user profiles dataset contained birth years, but the outliers in birth years demonstrate that some user data might have been fabricated. This puts the validity of the data into question since the birth years in the dataset might not have been the users' actual birth years.\n",
    "- Over 500 anime that are ongoing or have end dates were missing episodes in the dataset despite having a set number of episodes on MAL. This may have been an error in the initial collection of data. These were removed which took out the data for these set of animes.\n",
    "- We worked under the assumption that animes with unknown end dates and NaN episodes had 800-1000 episodes, it may have heavily skewed the data in that not all the unknown end date and unknown episode animes had that many episodes.\n",
    "\n",
    "Analyses: \n",
    "- Users identified themselves as female, male, or non-binary. While doing analysis on gender-based differences in genre preference, we ommitted looking at non-binary users because they were an extremely small fraction of the user population, and we were primarily interested in male vs. female differences. Thus, our analysis does not cover gender preferences for non-binary users. \n",
    "- Each anime has multiple genre tags (ex: an anime can simultaneously be action, adventure, romance, comedy, mystery), thus making it difficult for us to categorize an anime as one specific genre. The existence of these mulitple tags makes it impossible for us to determine whether an anime is predominantly one genre over another."
   ]
  },
  {
   "cell_type": "markdown",
   "metadata": {},
   "source": [
    "## Possible Interpretations\n",
    "_____"
   ]
  },
  {
   "cell_type": "markdown",
   "metadata": {},
   "source": [
    "##### Which animes are the top rated animes? Why are they top rated?\n",
    "From our analyses, we found that animes with fewer episodes tend to score about the same as anime with more episodes. \n",
    "\n",
    "##### What are the genre preferences for each gender? Do they play into stereotypes?\n",
    "Our analyses revealed that for general genres such as romance v. action, genre preferences for males v. females do on average play into stereotypes. Males are more likely to prefer anime with themes such as action, adventure, sci-fi, military, and super power, whereas females are more likely to prefer anime with themes such as romance, fantasy, magic, and comedy. However, what's \"gender-specific\" is up for debate, and there may be more subtlety when it comes to other non-clearly gender-defined genres. For example, females surprisingly more frequently than males list animes with themes such as horror, sports, and shounen. \n",
    "\n",
    "\n",
    "##### Which animes are most favorited and why?\n",
    "From the graphic distribution of anime genres, we can see that a majority of animes have the comedy, action, fantasy, and adventure tags. When looking at the graphic distribution of most frequent genre tags in reported male v. female favorites, we see a similar distribution for both genders where comedy and action are the most frequent genre tags in reported favorites, but shounen and drama genre tags frequencies in favorites are greater than the fantasy and adventure tags. This discrepancy could suggest that while studios are creating more animes with themes of fantasy and adventure than shounen and drama, anime viewers actually enjoy watching anime with themes of shounen and drama more. "
   ]
  },
  {
   "cell_type": "markdown",
   "metadata": {},
   "source": [
    "## Conclusion"
   ]
  },
  {
   "cell_type": "markdown",
   "metadata": {},
   "source": [
    "In any industry, it's essential that customer preferences are understood in order to better market one's product to the customer base. From our analyses on anime viewer preferences by gender as well as anime characteristics, we found that higher number of anime episodes put animes at lower popularity, meaning that less people watch those anime. Moreover, when looking at gender, we did find differences in female v. male preferences for genres. Therefore, anime studios would be wise in considering their customer base and analyzing their anime characteristics when deciding what kind of anime to make. "
   ]
  },
  {
   "cell_type": "markdown",
   "metadata": {},
   "source": [
    "## Questions for Reviewers \n",
    "____"
   ]
  },
  {
   "cell_type": "markdown",
   "metadata": {},
   "source": [
    "1. If parts of our pre-registration analysis are actually impossible/undoable, can we take those out?\n",
    "2. What is the ideal way to deal with NaN data? If we can harbor an educated guess (Like number of episodes being 800-1000 episodes but probably unrealistic), should we set that, or take it out completely?\n",
    "3. For data description, does that pertain to the original datasets or the cleaned datasets?"
   ]
  }
 ],
 "metadata": {
  "kernelspec": {
   "display_name": "Python 3",
   "language": "python",
   "name": "python3"
  },
  "language_info": {
   "codemirror_mode": {
    "name": "ipython",
    "version": 3
   },
   "file_extension": ".py",
   "mimetype": "text/x-python",
   "name": "python",
   "nbconvert_exporter": "python",
   "pygments_lexer": "ipython3",
   "version": "3.7.4"
  }
 },
 "nbformat": 4,
 "nbformat_minor": 4
}
