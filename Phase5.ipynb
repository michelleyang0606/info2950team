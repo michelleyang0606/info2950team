{
 "cells": [
  {
   "cell_type": "markdown",
   "metadata": {},
   "source": [
    "# Introduction\n",
    "Anime is a type of hand-drawn and computer animation from Japan, and is a part of Japan's signature \"otaku\" culture that consists of manga and anime fanatics. Some well-known classics include \"One Piece\", \"Pokemon\", \"Detective Conan\", and works by Studio Ghibli such as \"Spirited Away\". Since its emergence at the start of the 20th century, anime has significantly impacted Japan's popular culture and economy. According to the 2018 Anime Industry Report, Japan's anime industry has a net worth of approximately $19 billion dollars, and has been consistently expanding. Akihabara, a shopping hub known as the center of Japan's modern culture, is a popular tourist destination due to its wide variety of otaku stores that sell anime merchandise such as posters, figurines, cosplay clothing, and more. The influence of anime is not limited to just Japan as anime conventions are held around the world. Anime Expo, held in Los Angeles, California, is the largest anime convention overseas and boasts a yearly attendance of 107,658 people (https://largest.org/entertainment/anime-conventions-usa/). \n",
    "\n",
    "In light of anime's broad audience and its economic and cultural impact on Japan, the goal of this analysis is to dissect the anime consumer base. Specifically, we will look into the consumer demographics and various characteristics of anime that can influence its success, such as genres and length of the anime. Through these analyses, anime studios can develop more effective approaches to maximizing rating and viewership. The anime that these studios subsequently produce may then bring about the next wave of pop cultural notes.\n",
    "\n",
    "\n",
    "____"
   ]
  },
  {
   "cell_type": "markdown",
   "metadata": {},
   "source": [
    "# Data Description\n",
    "\n",
    "### What are the observations (rows) and the attributes (columns)?\n",
    "**1. anime_data:** \n",
    "\n",
    "Observations: anime series\n",
    "\n",
    "Attributes: \n",
    "- **uid**: identifier for each anime set by MAL.\n",
    "- **title**: title of the anime series in Japanese/English as set by MAL.\n",
    "- **genre**: genre categories the anime falls in (multiple).\n",
    "- **aired**: the start and end date of airing of the anime. \"?\" end dates means it is ongoing.\n",
    "- **episodes**: number of episodes of the anime.\n",
    "- **members**: number of members who've added the anime to their list: All Anime, Currently Watching, Completed, On Hold, Dropped, or Plan to Watch. The higher the number of members, the higher the popularity (lower numerical value).\n",
    "- **popularity**: 1-max number of animes ranking system based on the number of members that have it on its list in comparison to the other animes on MAL.\n",
    "- **rating**: aggregate rating from 0.00 to 10.00 by the MAL community.\n",
    "- **ranked**: 1-max number of animes ranking system based on its rating to the other animes on MAL.\n",
    "- **aired_year**: the year of its start aired date.\n",
    "\n",
    "**2. anime_epdata:** \n",
    "\n",
    "anime_epdata has the same column attributes as anime_data, without aired_year. It has less observations because animes with missing episodes were removed.\n",
    "\n",
    "\n",
    "\n",
    "**3. users:**\n",
    "\n",
    "Observations: singular MAL user (public profile)\n",
    "\n",
    "Attributes: \n",
    "- **profile**: username of MAL user (set by the user)\n",
    "- **gender**: gender (male, female, non-binary) of the MAL user (set by the user) \n",
    "- **favorites**: List of animes the user put into their Anime List - favorites\n",
    "- **birth_year**: birth year of the user (set by the user)\n",
    "\n",
    "### Who created the datasets?\n",
    "All datasets were obtained from Kaggle. These datasets are collected by Kaggle users from by web-crawling MyAnimeList (MAL) https://myanimelist.net/ and the unofficial Jikan API. \n",
    "\n",
    "### Why were the datasets created? \n",
    "Users on Kaggle created these datasets for personal/public interests and are not funded. \n",
    "\n",
    "### What processes might have influenced what data was observed and recorded and what was not? \n",
    "The Kaggle user had created the dataset to provide a general overview of the information available on MyAnimeList, so a lot of the most important information (ex: anime title, id, synopsis, genre, number of episodes, air date) were recorded. In a possible attempt to make the dataset as concise as possible, other less important information (ex: recommendations for similar anime titles, videos, news, forum, featured, pictures) were excluded. \n",
    "\n",
    "### What preprocessing was done, and how did the data come to be in the form that you are using? \n",
    "After obtaining them from Kaggle, we imported and cleaned the dataset to create the modified versions (\"anime_data.csv\", \"anime_epdata.csv\", \"users.csv\"). In preprocessing, we renamed columns, deleted missing information, and removed columns that we would not be using. Specific details on the cleaning process can be found in the Appendix.\n",
    "\n",
    "### Where can your raw source data be found, if applicable?\n",
    "https://www.kaggle.com/marlesson/myanimelist-dataset-animes-profiles-reviews?select=reviews.csv\n",
    "\n",
    "- animes_marlesson_may20.csv\n",
    "- profiles_marlesson_may20.csv\n",
    "___"
   ]
  },
  {
   "cell_type": "markdown",
   "metadata": {},
   "source": [
    "# Pre-registration Statement\n",
    "\n",
    "___"
   ]
  },
  {
   "cell_type": "markdown",
   "metadata": {},
   "source": [
    "# Data Analysis\n",
    "\n",
    "___"
   ]
  },
  {
   "cell_type": "markdown",
   "metadata": {},
   "source": [
    "# Evaluation of Significance\n",
    "\n",
    "___ "
   ]
  },
  {
   "cell_type": "markdown",
   "metadata": {},
   "source": [
    "# Limitations\n",
    "\n",
    "____ "
   ]
  },
  {
   "cell_type": "markdown",
   "metadata": {},
   "source": [
    "# Acknowledgements \n",
    "\n",
    "___ "
   ]
  },
  {
   "cell_type": "markdown",
   "metadata": {},
   "source": [
    "# Appendix"
   ]
  }
 ],
 "metadata": {
  "kernelspec": {
   "display_name": "Python 3",
   "language": "python",
   "name": "python3"
  },
  "language_info": {
   "codemirror_mode": {
    "name": "ipython",
    "version": 3
   },
   "file_extension": ".py",
   "mimetype": "text/x-python",
   "name": "python",
   "nbconvert_exporter": "python",
   "pygments_lexer": "ipython3",
   "version": "3.7.4"
  }
 },
 "nbformat": 4,
 "nbformat_minor": 2
}
