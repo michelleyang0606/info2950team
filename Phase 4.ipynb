{
 "cells": [
  {
   "cell_type": "code",
   "execution_count": 1,
   "metadata": {},
   "outputs": [],
   "source": [
    "import numpy as np\n",
    "import pandas as pd\n",
    "import matplotlib.pyplot as plt\n",
    "import seaborn as sns\n",
    "import ast"
   ]
  },
  {
   "cell_type": "markdown",
   "metadata": {},
   "source": [
    "# Importing Datasets"
   ]
  },
  {
   "cell_type": "code",
   "execution_count": 2,
   "metadata": {
    "scrolled": true
   },
   "outputs": [
    {
     "name": "stdout",
     "output_type": "stream",
     "text": [
      "Number of Columns in anime_data: 12\n",
      "Number of Observations in anime_data: 19311\n",
      "\n",
      "Number of Columns in users: 5\n",
      "Number of Observations in users: 81727\n"
     ]
    }
   ],
   "source": [
    "#importing \"anime_marlesson_jan20.csv\"\n",
    "anime_data = pd.read_csv(\"animes_marlesson_jan20.csv\")\n",
    "print(\"Number of Columns in anime_data: \" + str(len(anime_data.columns)))\n",
    "print(\"Number of Observations in anime_data: \" + str(len(anime_data)))\n",
    "#importing \"profiles_marlesson_jan20.csv\"\n",
    "users = pd.read_csv(\"profiles_marlesson_jan20.csv\")\n",
    "print(\"\\nNumber of Columns in users: \" + str(len(users.columns)))\n",
    "print(\"Number of Observations in users: \" + str(len(users)))\n"
   ]
  },
  {
   "cell_type": "markdown",
   "metadata": {},
   "source": [
    "# Cleaning Data: anime_data"
   ]
  },
  {
   "cell_type": "code",
   "execution_count": 3,
   "metadata": {},
   "outputs": [
    {
     "name": "stdout",
     "output_type": "stream",
     "text": [
      "Number of Columns After Cleaning Data: 10\n",
      "Number of Observations After Cleaning Data: 15187\n"
     ]
    },
    {
     "data": {
      "text/html": [
       "<div>\n",
       "<style scoped>\n",
       "    .dataframe tbody tr th:only-of-type {\n",
       "        vertical-align: middle;\n",
       "    }\n",
       "\n",
       "    .dataframe tbody tr th {\n",
       "        vertical-align: top;\n",
       "    }\n",
       "\n",
       "    .dataframe thead th {\n",
       "        text-align: right;\n",
       "    }\n",
       "</style>\n",
       "<table border=\"1\" class=\"dataframe\">\n",
       "  <thead>\n",
       "    <tr style=\"text-align: right;\">\n",
       "      <th></th>\n",
       "      <th>uid</th>\n",
       "      <th>title</th>\n",
       "      <th>synopsis</th>\n",
       "      <th>genre</th>\n",
       "      <th>aired</th>\n",
       "      <th>episodes</th>\n",
       "      <th>members</th>\n",
       "      <th>popularity</th>\n",
       "      <th>ranked</th>\n",
       "      <th>rating</th>\n",
       "    </tr>\n",
       "  </thead>\n",
       "  <tbody>\n",
       "    <tr>\n",
       "      <td>0</td>\n",
       "      <td>28891</td>\n",
       "      <td>Haikyuu!! Second Season</td>\n",
       "      <td>Following their participation at the Inter-Hig...</td>\n",
       "      <td>['Comedy', 'Sports', 'Drama', 'School', 'Shoun...</td>\n",
       "      <td>Oct 4, 2015 to Mar 27, 2016</td>\n",
       "      <td>25.0</td>\n",
       "      <td>489888</td>\n",
       "      <td>141</td>\n",
       "      <td>25.0</td>\n",
       "      <td>8.82</td>\n",
       "    </tr>\n",
       "    <tr>\n",
       "      <td>1</td>\n",
       "      <td>23273</td>\n",
       "      <td>Shigatsu wa Kimi no Uso</td>\n",
       "      <td>Music accompanies the path of the human metron...</td>\n",
       "      <td>['Drama', 'Music', 'Romance', 'School', 'Shoun...</td>\n",
       "      <td>Oct 10, 2014 to Mar 20, 2015</td>\n",
       "      <td>22.0</td>\n",
       "      <td>995473</td>\n",
       "      <td>28</td>\n",
       "      <td>24.0</td>\n",
       "      <td>8.83</td>\n",
       "    </tr>\n",
       "    <tr>\n",
       "      <td>2</td>\n",
       "      <td>34599</td>\n",
       "      <td>Made in Abyss</td>\n",
       "      <td>The Abyss—a gaping chasm stretching down into ...</td>\n",
       "      <td>['Sci-Fi', 'Adventure', 'Mystery', 'Drama', 'F...</td>\n",
       "      <td>Jul 7, 2017 to Sep 29, 2017</td>\n",
       "      <td>13.0</td>\n",
       "      <td>581663</td>\n",
       "      <td>98</td>\n",
       "      <td>23.0</td>\n",
       "      <td>8.83</td>\n",
       "    </tr>\n",
       "    <tr>\n",
       "      <td>3</td>\n",
       "      <td>5114</td>\n",
       "      <td>Fullmetal Alchemist: Brotherhood</td>\n",
       "      <td>\"In order for something to be obtained, someth...</td>\n",
       "      <td>['Action', 'Military', 'Adventure', 'Comedy', ...</td>\n",
       "      <td>Apr 5, 2009 to Jul 4, 2010</td>\n",
       "      <td>64.0</td>\n",
       "      <td>1615084</td>\n",
       "      <td>4</td>\n",
       "      <td>1.0</td>\n",
       "      <td>9.23</td>\n",
       "    </tr>\n",
       "    <tr>\n",
       "      <td>4</td>\n",
       "      <td>31758</td>\n",
       "      <td>Kizumonogatari III: Reiketsu-hen</td>\n",
       "      <td>After helping revive the legendary vampire Kis...</td>\n",
       "      <td>['Action', 'Mystery', 'Supernatural', 'Vampire']</td>\n",
       "      <td>Jan 6, 2017</td>\n",
       "      <td>1.0</td>\n",
       "      <td>214621</td>\n",
       "      <td>502</td>\n",
       "      <td>22.0</td>\n",
       "      <td>8.83</td>\n",
       "    </tr>\n",
       "  </tbody>\n",
       "</table>\n",
       "</div>"
      ],
      "text/plain": [
       "     uid                             title  \\\n",
       "0  28891           Haikyuu!! Second Season   \n",
       "1  23273           Shigatsu wa Kimi no Uso   \n",
       "2  34599                     Made in Abyss   \n",
       "3   5114  Fullmetal Alchemist: Brotherhood   \n",
       "4  31758  Kizumonogatari III: Reiketsu-hen   \n",
       "\n",
       "                                            synopsis  \\\n",
       "0  Following their participation at the Inter-Hig...   \n",
       "1  Music accompanies the path of the human metron...   \n",
       "2  The Abyss—a gaping chasm stretching down into ...   \n",
       "3  \"In order for something to be obtained, someth...   \n",
       "4  After helping revive the legendary vampire Kis...   \n",
       "\n",
       "                                               genre  \\\n",
       "0  ['Comedy', 'Sports', 'Drama', 'School', 'Shoun...   \n",
       "1  ['Drama', 'Music', 'Romance', 'School', 'Shoun...   \n",
       "2  ['Sci-Fi', 'Adventure', 'Mystery', 'Drama', 'F...   \n",
       "3  ['Action', 'Military', 'Adventure', 'Comedy', ...   \n",
       "4   ['Action', 'Mystery', 'Supernatural', 'Vampire']   \n",
       "\n",
       "                          aired  episodes  members  popularity  ranked  rating  \n",
       "0   Oct 4, 2015 to Mar 27, 2016      25.0   489888         141    25.0    8.82  \n",
       "1  Oct 10, 2014 to Mar 20, 2015      22.0   995473          28    24.0    8.83  \n",
       "2   Jul 7, 2017 to Sep 29, 2017      13.0   581663          98    23.0    8.83  \n",
       "3    Apr 5, 2009 to Jul 4, 2010      64.0  1615084           4     1.0    9.23  \n",
       "4                   Jan 6, 2017       1.0   214621         502    22.0    8.83  "
      ]
     },
     "execution_count": 3,
     "metadata": {},
     "output_type": "execute_result"
    }
   ],
   "source": [
    "anime_data = anime_data.dropna()\n",
    "anime_data = anime_data.drop(columns = ['img_url', 'link'])\n",
    "anime_data = anime_data.rename(columns = {'score':'rating'}) \n",
    "print(\"Number of Columns After Cleaning Data: \" + str(len(anime_data.columns)))\n",
    "print(\"Number of Observations After Cleaning Data: \" + str(len(anime_data)))\n",
    "anime_data.head()"
   ]
  },
  {
   "cell_type": "markdown",
   "metadata": {},
   "source": [
    "### Creating \"aired_year\" column"
   ]
  },
  {
   "cell_type": "code",
   "execution_count": 4,
   "metadata": {
    "scrolled": true
   },
   "outputs": [
    {
     "name": "stdout",
     "output_type": "stream",
     "text": [
      "Number of observations after dropping anime without aired_year: 15072\n",
      "Below are the first 5 rows of the dataset with the new column 'aired_year' \n"
     ]
    },
    {
     "data": {
      "text/html": [
       "<div>\n",
       "<style scoped>\n",
       "    .dataframe tbody tr th:only-of-type {\n",
       "        vertical-align: middle;\n",
       "    }\n",
       "\n",
       "    .dataframe tbody tr th {\n",
       "        vertical-align: top;\n",
       "    }\n",
       "\n",
       "    .dataframe thead th {\n",
       "        text-align: right;\n",
       "    }\n",
       "</style>\n",
       "<table border=\"1\" class=\"dataframe\">\n",
       "  <thead>\n",
       "    <tr style=\"text-align: right;\">\n",
       "      <th></th>\n",
       "      <th>uid</th>\n",
       "      <th>title</th>\n",
       "      <th>synopsis</th>\n",
       "      <th>genre</th>\n",
       "      <th>aired</th>\n",
       "      <th>episodes</th>\n",
       "      <th>members</th>\n",
       "      <th>popularity</th>\n",
       "      <th>ranked</th>\n",
       "      <th>rating</th>\n",
       "      <th>aired_year</th>\n",
       "    </tr>\n",
       "  </thead>\n",
       "  <tbody>\n",
       "    <tr>\n",
       "      <td>0</td>\n",
       "      <td>28891</td>\n",
       "      <td>Haikyuu!! Second Season</td>\n",
       "      <td>Following their participation at the Inter-Hig...</td>\n",
       "      <td>['Comedy', 'Sports', 'Drama', 'School', 'Shoun...</td>\n",
       "      <td>Oct 4, 2015 to Mar 27, 2016</td>\n",
       "      <td>25.0</td>\n",
       "      <td>489888</td>\n",
       "      <td>141</td>\n",
       "      <td>25.0</td>\n",
       "      <td>8.82</td>\n",
       "      <td>2015</td>\n",
       "    </tr>\n",
       "    <tr>\n",
       "      <td>1</td>\n",
       "      <td>23273</td>\n",
       "      <td>Shigatsu wa Kimi no Uso</td>\n",
       "      <td>Music accompanies the path of the human metron...</td>\n",
       "      <td>['Drama', 'Music', 'Romance', 'School', 'Shoun...</td>\n",
       "      <td>Oct 10, 2014 to Mar 20, 2015</td>\n",
       "      <td>22.0</td>\n",
       "      <td>995473</td>\n",
       "      <td>28</td>\n",
       "      <td>24.0</td>\n",
       "      <td>8.83</td>\n",
       "      <td>2014</td>\n",
       "    </tr>\n",
       "    <tr>\n",
       "      <td>2</td>\n",
       "      <td>34599</td>\n",
       "      <td>Made in Abyss</td>\n",
       "      <td>The Abyss—a gaping chasm stretching down into ...</td>\n",
       "      <td>['Sci-Fi', 'Adventure', 'Mystery', 'Drama', 'F...</td>\n",
       "      <td>Jul 7, 2017 to Sep 29, 2017</td>\n",
       "      <td>13.0</td>\n",
       "      <td>581663</td>\n",
       "      <td>98</td>\n",
       "      <td>23.0</td>\n",
       "      <td>8.83</td>\n",
       "      <td>2017</td>\n",
       "    </tr>\n",
       "    <tr>\n",
       "      <td>3</td>\n",
       "      <td>5114</td>\n",
       "      <td>Fullmetal Alchemist: Brotherhood</td>\n",
       "      <td>\"In order for something to be obtained, someth...</td>\n",
       "      <td>['Action', 'Military', 'Adventure', 'Comedy', ...</td>\n",
       "      <td>Apr 5, 2009 to Jul 4, 2010</td>\n",
       "      <td>64.0</td>\n",
       "      <td>1615084</td>\n",
       "      <td>4</td>\n",
       "      <td>1.0</td>\n",
       "      <td>9.23</td>\n",
       "      <td>2009</td>\n",
       "    </tr>\n",
       "    <tr>\n",
       "      <td>4</td>\n",
       "      <td>31758</td>\n",
       "      <td>Kizumonogatari III: Reiketsu-hen</td>\n",
       "      <td>After helping revive the legendary vampire Kis...</td>\n",
       "      <td>['Action', 'Mystery', 'Supernatural', 'Vampire']</td>\n",
       "      <td>Jan 6, 2017</td>\n",
       "      <td>1.0</td>\n",
       "      <td>214621</td>\n",
       "      <td>502</td>\n",
       "      <td>22.0</td>\n",
       "      <td>8.83</td>\n",
       "      <td>2017</td>\n",
       "    </tr>\n",
       "  </tbody>\n",
       "</table>\n",
       "</div>"
      ],
      "text/plain": [
       "     uid                             title  \\\n",
       "0  28891           Haikyuu!! Second Season   \n",
       "1  23273           Shigatsu wa Kimi no Uso   \n",
       "2  34599                     Made in Abyss   \n",
       "3   5114  Fullmetal Alchemist: Brotherhood   \n",
       "4  31758  Kizumonogatari III: Reiketsu-hen   \n",
       "\n",
       "                                            synopsis  \\\n",
       "0  Following their participation at the Inter-Hig...   \n",
       "1  Music accompanies the path of the human metron...   \n",
       "2  The Abyss—a gaping chasm stretching down into ...   \n",
       "3  \"In order for something to be obtained, someth...   \n",
       "4  After helping revive the legendary vampire Kis...   \n",
       "\n",
       "                                               genre  \\\n",
       "0  ['Comedy', 'Sports', 'Drama', 'School', 'Shoun...   \n",
       "1  ['Drama', 'Music', 'Romance', 'School', 'Shoun...   \n",
       "2  ['Sci-Fi', 'Adventure', 'Mystery', 'Drama', 'F...   \n",
       "3  ['Action', 'Military', 'Adventure', 'Comedy', ...   \n",
       "4   ['Action', 'Mystery', 'Supernatural', 'Vampire']   \n",
       "\n",
       "                          aired  episodes  members  popularity  ranked  \\\n",
       "0   Oct 4, 2015 to Mar 27, 2016      25.0   489888         141    25.0   \n",
       "1  Oct 10, 2014 to Mar 20, 2015      22.0   995473          28    24.0   \n",
       "2   Jul 7, 2017 to Sep 29, 2017      13.0   581663          98    23.0   \n",
       "3    Apr 5, 2009 to Jul 4, 2010      64.0  1615084           4     1.0   \n",
       "4                   Jan 6, 2017       1.0   214621         502    22.0   \n",
       "\n",
       "   rating aired_year  \n",
       "0    8.82       2015  \n",
       "1    8.83       2014  \n",
       "2    8.83       2017  \n",
       "3    9.23       2009  \n",
       "4    8.83       2017  "
      ]
     },
     "execution_count": 4,
     "metadata": {},
     "output_type": "execute_result"
    }
   ],
   "source": [
    "# Adding a new column to represent the aired year \n",
    "# Cases: month, year ; Not available ; just 1 year ; 20xx to 20xx \n",
    "aired_years = [] \n",
    "for dates in anime_data['aired']: \n",
    "    if dates == \"Not available\":\n",
    "        aired_years.append(np.nan)\n",
    "    elif len(dates) > 4 and dates[0].isalpha():\n",
    "        start = dates.index(\",\") + 2 \n",
    "        year = dates[start:start+4] #gets the first year  \n",
    "        aired_years.append(int(year))\n",
    "    else:\n",
    "        aired_years.append(dates[0:3])\n",
    "anime_data['aired_year'] = aired_years\n",
    "anime_data = anime_data.dropna()\n",
    "print(\"Number of observations after dropping anime without aired_year: \" + str(len(anime_data)))\n",
    "print(\"Below are the first 5 rows of the dataset with the new column 'aired_year' \")\n",
    "anime_data.head()"
   ]
  },
  {
   "cell_type": "markdown",
   "metadata": {},
   "source": [
    "# Cleaning Data: users"
   ]
  },
  {
   "cell_type": "code",
   "execution_count": 5,
   "metadata": {},
   "outputs": [
    {
     "name": "stdout",
     "output_type": "stream",
     "text": [
      "Number of Columns After Cleaning Data: 5\n",
      "Number of Observations After Cleaning Data: 43636\n"
     ]
    }
   ],
   "source": [
    "users = users.dropna()\n",
    "users = users.rename(columns = {'favorites_anime':'favorites'}) \n",
    "print(\"Number of Columns After Cleaning Data: \" + str(len(users.columns)))\n",
    "print(\"Number of Observations After Cleaning Data: \" + str(len(users)))"
   ]
  },
  {
   "cell_type": "code",
   "execution_count": 6,
   "metadata": {},
   "outputs": [
    {
     "name": "stdout",
     "output_type": "stream",
     "text": [
      "Number of users after dropping users without birth year: 34550\n"
     ]
    },
    {
     "data": {
      "text/html": [
       "<div>\n",
       "<style scoped>\n",
       "    .dataframe tbody tr th:only-of-type {\n",
       "        vertical-align: middle;\n",
       "    }\n",
       "\n",
       "    .dataframe tbody tr th {\n",
       "        vertical-align: top;\n",
       "    }\n",
       "\n",
       "    .dataframe thead th {\n",
       "        text-align: right;\n",
       "    }\n",
       "</style>\n",
       "<table border=\"1\" class=\"dataframe\">\n",
       "  <thead>\n",
       "    <tr style=\"text-align: right;\">\n",
       "      <th></th>\n",
       "      <th>profile</th>\n",
       "      <th>gender</th>\n",
       "      <th>favorites</th>\n",
       "      <th>link</th>\n",
       "      <th>birth_year</th>\n",
       "    </tr>\n",
       "  </thead>\n",
       "  <tbody>\n",
       "    <tr>\n",
       "      <td>0</td>\n",
       "      <td>DesolatePsyche</td>\n",
       "      <td>Male</td>\n",
       "      <td>['33352', '25013', '5530', '33674', '1482', '2...</td>\n",
       "      <td>https://myanimelist.net/profile/DesolatePsyche</td>\n",
       "      <td>1994</td>\n",
       "    </tr>\n",
       "    <tr>\n",
       "      <td>1</td>\n",
       "      <td>baekbeans</td>\n",
       "      <td>Female</td>\n",
       "      <td>['11061', '31964', '853', '20583', '918', '925...</td>\n",
       "      <td>https://myanimelist.net/profile/baekbeans</td>\n",
       "      <td>2000</td>\n",
       "    </tr>\n",
       "    <tr>\n",
       "      <td>4</td>\n",
       "      <td>aManOfCulture99</td>\n",
       "      <td>Male</td>\n",
       "      <td>['4181', '7791', '9617', '5680', '2167', '4382...</td>\n",
       "      <td>https://myanimelist.net/profile/aManOfCulture99</td>\n",
       "      <td>1999</td>\n",
       "    </tr>\n",
       "    <tr>\n",
       "      <td>7</td>\n",
       "      <td>NIGGER_BONER</td>\n",
       "      <td>Male</td>\n",
       "      <td>['11061', '30', '6594', '28701', '10087', '674...</td>\n",
       "      <td>https://myanimelist.net/profile/NIGGER_BONER</td>\n",
       "      <td>1985</td>\n",
       "    </tr>\n",
       "    <tr>\n",
       "      <td>8</td>\n",
       "      <td>jchang</td>\n",
       "      <td>Male</td>\n",
       "      <td>['846', '2904', '5114', '2924', '72']</td>\n",
       "      <td>https://myanimelist.net/profile/jchang</td>\n",
       "      <td>1992</td>\n",
       "    </tr>\n",
       "  </tbody>\n",
       "</table>\n",
       "</div>"
      ],
      "text/plain": [
       "           profile  gender                                          favorites  \\\n",
       "0   DesolatePsyche    Male  ['33352', '25013', '5530', '33674', '1482', '2...   \n",
       "1        baekbeans  Female  ['11061', '31964', '853', '20583', '918', '925...   \n",
       "4  aManOfCulture99    Male  ['4181', '7791', '9617', '5680', '2167', '4382...   \n",
       "7     NIGGER_BONER    Male  ['11061', '30', '6594', '28701', '10087', '674...   \n",
       "8           jchang    Male              ['846', '2904', '5114', '2924', '72']   \n",
       "\n",
       "                                              link birth_year  \n",
       "0   https://myanimelist.net/profile/DesolatePsyche       1994  \n",
       "1        https://myanimelist.net/profile/baekbeans       2000  \n",
       "4  https://myanimelist.net/profile/aManOfCulture99       1999  \n",
       "7     https://myanimelist.net/profile/NIGGER_BONER       1985  \n",
       "8           https://myanimelist.net/profile/jchang       1992  "
      ]
     },
     "execution_count": 6,
     "metadata": {},
     "output_type": "execute_result"
    }
   ],
   "source": [
    "birth_years = []\n",
    "for birthday in users['birthday']: #str \n",
    "    if \",\" in birthday:\n",
    "        comma_index = birthday.index(',') \n",
    "        year = birthday[comma_index + 2:]\n",
    "        birth_years.append(year)\n",
    "    else: \n",
    "        birth_years.append(np.nan)\n",
    "users['birth_year']  = birth_years\n",
    "#dropping users without a birth year\n",
    "users = users.dropna()\n",
    "print(\"Number of users after dropping users without birth year: \" + str(len(users)))\n",
    "users = users.drop(columns = ['birthday'])\n",
    "users.head()"
   ]
  },
  {
   "cell_type": "markdown",
   "metadata": {},
   "source": [
    "# Summary of Data Sets After Cleaning"
   ]
  },
  {
   "cell_type": "markdown",
   "metadata": {},
   "source": [
    "## anime_data"
   ]
  },
  {
   "cell_type": "code",
   "execution_count": 7,
   "metadata": {},
   "outputs": [
    {
     "name": "stdout",
     "output_type": "stream",
     "text": [
      "Number of columns: 11\n",
      "Column names:\n",
      "uid\n",
      "title\n",
      "synopsis\n",
      "genre\n",
      "aired\n",
      "episodes\n",
      "members\n",
      "popularity\n",
      "ranked\n",
      "rating\n",
      "aired_year\n",
      "Number of observations (anime): 15072\n"
     ]
    }
   ],
   "source": [
    "print(\"Number of columns: \" + str(len(anime_data.columns)))\n",
    "print(\"Column names:\") \n",
    "for column in anime_data.columns: \n",
    "    print(column)\n",
    "print(\"Number of observations (anime): \" + str(len(anime_data)))"
   ]
  },
  {
   "cell_type": "markdown",
   "metadata": {},
   "source": [
    "## users"
   ]
  },
  {
   "cell_type": "code",
   "execution_count": 8,
   "metadata": {},
   "outputs": [
    {
     "name": "stdout",
     "output_type": "stream",
     "text": [
      "Number of columns: 5\n",
      "Column names:\n",
      "profile\n",
      "gender\n",
      "favorites\n",
      "link\n",
      "birth_year\n",
      "Number of observations (users): 34550\n"
     ]
    }
   ],
   "source": [
    "print(\"Number of columns: \" + str(len(users.columns)))\n",
    "print(\"Column names:\")\n",
    "for column in users.columns:\n",
    "    print(column)\n",
    "print(\"Number of observations (users): \" + str(len(users)))"
   ]
  },
  {
   "cell_type": "markdown",
   "metadata": {},
   "source": [
    "# Merging user and user reviews"
   ]
  },
  {
   "cell_type": "code",
   "execution_count": 13,
   "metadata": {
    "scrolled": true
   },
   "outputs": [
    {
     "data": {
      "text/html": [
       "<div>\n",
       "<style scoped>\n",
       "    .dataframe tbody tr th:only-of-type {\n",
       "        vertical-align: middle;\n",
       "    }\n",
       "\n",
       "    .dataframe tbody tr th {\n",
       "        vertical-align: top;\n",
       "    }\n",
       "\n",
       "    .dataframe thead th {\n",
       "        text-align: right;\n",
       "    }\n",
       "</style>\n",
       "<table border=\"1\" class=\"dataframe\">\n",
       "  <thead>\n",
       "    <tr style=\"text-align: right;\">\n",
       "      <th></th>\n",
       "      <th>profile</th>\n",
       "      <th>gender</th>\n",
       "      <th>favorites</th>\n",
       "      <th>birth_year</th>\n",
       "      <th>uid</th>\n",
       "      <th>anime_uid</th>\n",
       "      <th>text</th>\n",
       "      <th>score</th>\n",
       "      <th>scores</th>\n",
       "    </tr>\n",
       "  </thead>\n",
       "  <tbody>\n",
       "    <tr>\n",
       "      <td>0</td>\n",
       "      <td>DesolatePsyche</td>\n",
       "      <td>Male</td>\n",
       "      <td>['33352', '25013', '5530', '33674', '1482', '2...</td>\n",
       "      <td>1994</td>\n",
       "      <td>255938</td>\n",
       "      <td>34096</td>\n",
       "      <td>\\n           \\n         \\n           \\n       ...</td>\n",
       "      <td>8</td>\n",
       "      <td>{'Overall': '8', 'Story': '8', 'Animation': '8...</td>\n",
       "    </tr>\n",
       "    <tr>\n",
       "      <td>1</td>\n",
       "      <td>DesolatePsyche</td>\n",
       "      <td>Male</td>\n",
       "      <td>['33352', '25013', '5530', '33674', '1482', '2...</td>\n",
       "      <td>1994</td>\n",
       "      <td>255793</td>\n",
       "      <td>12403</td>\n",
       "      <td>\\n           \\n         \\n           \\n       ...</td>\n",
       "      <td>6</td>\n",
       "      <td>{'Overall': '6', 'Story': '6', 'Animation': '9...</td>\n",
       "    </tr>\n",
       "    <tr>\n",
       "      <td>2</td>\n",
       "      <td>DesolatePsyche</td>\n",
       "      <td>Male</td>\n",
       "      <td>['33352', '25013', '5530', '33674', '1482', '2...</td>\n",
       "      <td>1994</td>\n",
       "      <td>298207</td>\n",
       "      <td>35073</td>\n",
       "      <td>\\n           \\n         \\n           \\n       ...</td>\n",
       "      <td>6</td>\n",
       "      <td>{'Overall': '6', 'Story': '6', 'Animation': '8...</td>\n",
       "    </tr>\n",
       "    <tr>\n",
       "      <td>3</td>\n",
       "      <td>DesolatePsyche</td>\n",
       "      <td>Male</td>\n",
       "      <td>['33352', '25013', '5530', '33674', '1482', '2...</td>\n",
       "      <td>1994</td>\n",
       "      <td>255795</td>\n",
       "      <td>23225</td>\n",
       "      <td>\\n           \\n         \\n           \\n       ...</td>\n",
       "      <td>7</td>\n",
       "      <td>{'Overall': '7', 'Story': '8', 'Animation': '9...</td>\n",
       "    </tr>\n",
       "    <tr>\n",
       "      <td>4</td>\n",
       "      <td>DesolatePsyche</td>\n",
       "      <td>Male</td>\n",
       "      <td>['33352', '25013', '5530', '33674', '1482', '2...</td>\n",
       "      <td>1994</td>\n",
       "      <td>291256</td>\n",
       "      <td>2035</td>\n",
       "      <td>\\n           \\n         \\n           \\n       ...</td>\n",
       "      <td>8</td>\n",
       "      <td>{'Overall': '8', 'Story': '9', 'Animation': '7...</td>\n",
       "    </tr>\n",
       "  </tbody>\n",
       "</table>\n",
       "</div>"
      ],
      "text/plain": [
       "          profile gender                                          favorites  \\\n",
       "0  DesolatePsyche   Male  ['33352', '25013', '5530', '33674', '1482', '2...   \n",
       "1  DesolatePsyche   Male  ['33352', '25013', '5530', '33674', '1482', '2...   \n",
       "2  DesolatePsyche   Male  ['33352', '25013', '5530', '33674', '1482', '2...   \n",
       "3  DesolatePsyche   Male  ['33352', '25013', '5530', '33674', '1482', '2...   \n",
       "4  DesolatePsyche   Male  ['33352', '25013', '5530', '33674', '1482', '2...   \n",
       "\n",
       "  birth_year     uid  anime_uid  \\\n",
       "0       1994  255938      34096   \n",
       "1       1994  255793      12403   \n",
       "2       1994  298207      35073   \n",
       "3       1994  255795      23225   \n",
       "4       1994  291256       2035   \n",
       "\n",
       "                                                text  score  \\\n",
       "0  \\n           \\n         \\n           \\n       ...      8   \n",
       "1  \\n           \\n         \\n           \\n       ...      6   \n",
       "2  \\n           \\n         \\n           \\n       ...      6   \n",
       "3  \\n           \\n         \\n           \\n       ...      7   \n",
       "4  \\n           \\n         \\n           \\n       ...      8   \n",
       "\n",
       "                                              scores  \n",
       "0  {'Overall': '8', 'Story': '8', 'Animation': '8...  \n",
       "1  {'Overall': '6', 'Story': '6', 'Animation': '9...  \n",
       "2  {'Overall': '6', 'Story': '6', 'Animation': '8...  \n",
       "3  {'Overall': '7', 'Story': '8', 'Animation': '9...  \n",
       "4  {'Overall': '8', 'Story': '9', 'Animation': '7...  "
      ]
     },
     "execution_count": 13,
     "metadata": {},
     "output_type": "execute_result"
    }
   ],
   "source": [
    "reviews = pd.read_csv(\"reviews.csv\")\n",
    "user_reviews = pd.merge(users, reviews, on = \"profile\")\n",
    "user_reviews = user_reviews.drop(columns = ['link_x', 'link_y'])\n",
    "user_reviews.head()"
   ]
  },
  {
   "cell_type": "markdown",
   "metadata": {},
   "source": [
    "# Data Analysis: Gender Preferences"
   ]
  },
  {
   "cell_type": "markdown",
   "metadata": {},
   "source": [
    "### Creating Separate datasets for male and female users"
   ]
  },
  {
   "cell_type": "code",
   "execution_count": 14,
   "metadata": {},
   "outputs": [],
   "source": [
    "male_users = users[users.gender == \"Male\"]\n",
    "female_users = users[users.gender == \"Female\"]\n",
    "#favorites are stored as strings: '['10', '3', '4']'"
   ]
  },
  {
   "cell_type": "code",
   "execution_count": 15,
   "metadata": {
    "scrolled": true
   },
   "outputs": [
    {
     "data": {
      "text/html": [
       "<div>\n",
       "<style scoped>\n",
       "    .dataframe tbody tr th:only-of-type {\n",
       "        vertical-align: middle;\n",
       "    }\n",
       "\n",
       "    .dataframe tbody tr th {\n",
       "        vertical-align: top;\n",
       "    }\n",
       "\n",
       "    .dataframe thead th {\n",
       "        text-align: right;\n",
       "    }\n",
       "</style>\n",
       "<table border=\"1\" class=\"dataframe\">\n",
       "  <thead>\n",
       "    <tr style=\"text-align: right;\">\n",
       "      <th></th>\n",
       "      <th>profile</th>\n",
       "      <th>gender</th>\n",
       "      <th>favorites</th>\n",
       "      <th>link</th>\n",
       "      <th>birth_year</th>\n",
       "    </tr>\n",
       "  </thead>\n",
       "  <tbody>\n",
       "    <tr>\n",
       "      <td>1</td>\n",
       "      <td>baekbeans</td>\n",
       "      <td>Female</td>\n",
       "      <td>['11061', '31964', '853', '20583', '918', '925...</td>\n",
       "      <td>https://myanimelist.net/profile/baekbeans</td>\n",
       "      <td>2000</td>\n",
       "    </tr>\n",
       "    <tr>\n",
       "      <td>10</td>\n",
       "      <td>angelsreview</td>\n",
       "      <td>Female</td>\n",
       "      <td>['534', '71', '7724', '861', '5060', '853']</td>\n",
       "      <td>https://myanimelist.net/profile/angelsreview</td>\n",
       "      <td>1989</td>\n",
       "    </tr>\n",
       "    <tr>\n",
       "      <td>27</td>\n",
       "      <td>GinKagu</td>\n",
       "      <td>Female</td>\n",
       "      <td>['918', '2904', '4181', '9989']</td>\n",
       "      <td>https://myanimelist.net/profile/GinKagu</td>\n",
       "      <td>2012</td>\n",
       "    </tr>\n",
       "    <tr>\n",
       "      <td>35</td>\n",
       "      <td>greatyu</td>\n",
       "      <td>Female</td>\n",
       "      <td>['20', '21', '918', '11061', '934', '13125']</td>\n",
       "      <td>https://myanimelist.net/profile/greatyu</td>\n",
       "      <td>1993</td>\n",
       "    </tr>\n",
       "    <tr>\n",
       "      <td>37</td>\n",
       "      <td>Slushpuppy282</td>\n",
       "      <td>Female</td>\n",
       "      <td>['407', '3588', '177', '1604', '269']</td>\n",
       "      <td>https://myanimelist.net/profile/Slushpuppy282</td>\n",
       "      <td>1990</td>\n",
       "    </tr>\n",
       "    <tr>\n",
       "      <td>...</td>\n",
       "      <td>...</td>\n",
       "      <td>...</td>\n",
       "      <td>...</td>\n",
       "      <td>...</td>\n",
       "      <td>...</td>\n",
       "    </tr>\n",
       "    <tr>\n",
       "      <td>81715</td>\n",
       "      <td>sango868</td>\n",
       "      <td>Female</td>\n",
       "      <td>['269', '355', '5114', '4898', '934', '32995']</td>\n",
       "      <td>https://myanimelist.net/profile/sango868</td>\n",
       "      <td>1996</td>\n",
       "    </tr>\n",
       "    <tr>\n",
       "      <td>81719</td>\n",
       "      <td>samdineen20</td>\n",
       "      <td>Female</td>\n",
       "      <td>['120', '150', '3457', '3655', '4898']</td>\n",
       "      <td>https://myanimelist.net/profile/samdineen20</td>\n",
       "      <td>1992</td>\n",
       "    </tr>\n",
       "    <tr>\n",
       "      <td>81721</td>\n",
       "      <td>anjel</td>\n",
       "      <td>Female</td>\n",
       "      <td>[]</td>\n",
       "      <td>https://myanimelist.net/profile/anjel</td>\n",
       "      <td>1988</td>\n",
       "    </tr>\n",
       "    <tr>\n",
       "      <td>81722</td>\n",
       "      <td>lovelessxd</td>\n",
       "      <td>Female</td>\n",
       "      <td>['853', '5114']</td>\n",
       "      <td>https://myanimelist.net/profile/lovelessxd</td>\n",
       "      <td>1992</td>\n",
       "    </tr>\n",
       "    <tr>\n",
       "      <td>81723</td>\n",
       "      <td>Shattered_Angel</td>\n",
       "      <td>Female</td>\n",
       "      <td>['150', '27', '1520', '121', '31452', '32995',...</td>\n",
       "      <td>https://myanimelist.net/profile/Shattered_Angel</td>\n",
       "      <td>1994</td>\n",
       "    </tr>\n",
       "  </tbody>\n",
       "</table>\n",
       "<p>9773 rows × 5 columns</p>\n",
       "</div>"
      ],
      "text/plain": [
       "               profile  gender  \\\n",
       "1            baekbeans  Female   \n",
       "10        angelsreview  Female   \n",
       "27             GinKagu  Female   \n",
       "35             greatyu  Female   \n",
       "37       Slushpuppy282  Female   \n",
       "...                ...     ...   \n",
       "81715         sango868  Female   \n",
       "81719      samdineen20  Female   \n",
       "81721            anjel  Female   \n",
       "81722       lovelessxd  Female   \n",
       "81723  Shattered_Angel  Female   \n",
       "\n",
       "                                               favorites  \\\n",
       "1      ['11061', '31964', '853', '20583', '918', '925...   \n",
       "10           ['534', '71', '7724', '861', '5060', '853']   \n",
       "27                       ['918', '2904', '4181', '9989']   \n",
       "35          ['20', '21', '918', '11061', '934', '13125']   \n",
       "37                 ['407', '3588', '177', '1604', '269']   \n",
       "...                                                  ...   \n",
       "81715     ['269', '355', '5114', '4898', '934', '32995']   \n",
       "81719             ['120', '150', '3457', '3655', '4898']   \n",
       "81721                                                 []   \n",
       "81722                                    ['853', '5114']   \n",
       "81723  ['150', '27', '1520', '121', '31452', '32995',...   \n",
       "\n",
       "                                                  link birth_year  \n",
       "1            https://myanimelist.net/profile/baekbeans       2000  \n",
       "10        https://myanimelist.net/profile/angelsreview       1989  \n",
       "27             https://myanimelist.net/profile/GinKagu       2012  \n",
       "35             https://myanimelist.net/profile/greatyu       1993  \n",
       "37       https://myanimelist.net/profile/Slushpuppy282       1990  \n",
       "...                                                ...        ...  \n",
       "81715         https://myanimelist.net/profile/sango868       1996  \n",
       "81719      https://myanimelist.net/profile/samdineen20       1992  \n",
       "81721            https://myanimelist.net/profile/anjel       1988  \n",
       "81722       https://myanimelist.net/profile/lovelessxd       1992  \n",
       "81723  https://myanimelist.net/profile/Shattered_Angel       1994  \n",
       "\n",
       "[9773 rows x 5 columns]"
      ]
     },
     "execution_count": 15,
     "metadata": {},
     "output_type": "execute_result"
    }
   ],
   "source": [
    "female_users"
   ]
  },
  {
   "cell_type": "code",
   "execution_count": 109,
   "metadata": {
    "scrolled": true
   },
   "outputs": [
    {
     "name": "stdout",
     "output_type": "stream",
     "text": [
      "First five observations for female favorites:\n"
     ]
    },
    {
     "data": {
      "text/plain": [
       "0    11061\n",
       "1    31964\n",
       "2      853\n",
       "3    20583\n",
       "4      918\n",
       "dtype: int64"
      ]
     },
     "execution_count": 109,
     "metadata": {},
     "output_type": "execute_result"
    }
   ],
   "source": [
    "combined = []\n",
    "for fav_list in female_users['favorites']:\n",
    "    if '[]' not in fav_list: #ignoring empty lists \n",
    "        fav_list = fav_list.strip('[]') \n",
    "        fav_list = fav_list.split(\"'\")\n",
    "        for anime_id in fav_list:\n",
    "            if anime_id.isdigit():\n",
    "                combined.append(int(anime_id))\n",
    "#converting to pandas series for easier processing \n",
    "combined = np.array(combined) \n",
    "female_favs = pd.Series(combined) \n",
    "print(\"First five observations for female favorites:\")\n",
    "female_favs.head() #List of all the favorite animes, contains repeats "
   ]
  },
  {
   "cell_type": "code",
   "execution_count": 110,
   "metadata": {},
   "outputs": [
    {
     "name": "stdout",
     "output_type": "stream",
     "text": [
      "First five observations for male favorites:\n"
     ]
    },
    {
     "data": {
      "text/plain": [
       "0    33352\n",
       "1    25013\n",
       "2     5530\n",
       "3    33674\n",
       "4     1482\n",
       "dtype: int64"
      ]
     },
     "execution_count": 110,
     "metadata": {},
     "output_type": "execute_result"
    }
   ],
   "source": [
    "combined = []\n",
    "for fav_list in male_users['favorites']:\n",
    "    if '[]' not in fav_list: #ignoring empty lists \n",
    "        fav_list = fav_list.strip('[]') \n",
    "        fav_list = fav_list.split(\"'\")\n",
    "        for anime_id in fav_list:\n",
    "            if anime_id.isdigit():\n",
    "                combined.append(int(anime_id))\n",
    "#converting to pandas series for easier processing \n",
    "combined = np.array(combined) \n",
    "male_favs = pd.Series(combined) \n",
    "print(\"First five observations for male favorites:\")\n",
    "male_favs.head() #List of all the favorite animes, contains repeats "
   ]
  },
  {
   "cell_type": "markdown",
   "metadata": {},
   "source": [
    "### Counting Frequency of Favorites"
   ]
  },
  {
   "cell_type": "code",
   "execution_count": 124,
   "metadata": {},
   "outputs": [
    {
     "name": "stdout",
     "output_type": "stream",
     "text": [
      "Anime ID of Top 10 female favorites: \n",
      "5114     1274\n",
      "1535      903\n",
      "853       772\n",
      "11061     712\n",
      "16498     659\n",
      "9756      556\n",
      "9253      552\n",
      "21        549\n",
      "1575      501\n",
      "dtype: int64\n"
     ]
    }
   ],
   "source": [
    "ff_count = female_favs.value_counts()\n",
    "print(\"Anime ID of Top 10 female favorites: \")\n",
    "print(ff_count[0:9])"
   ]
  },
  {
   "cell_type": "code",
   "execution_count": 125,
   "metadata": {},
   "outputs": [
    {
     "name": "stdout",
     "output_type": "stream",
     "text": [
      "Anime ID of Top 10 male favorites: \n",
      "9253     3723\n",
      "5114     3417\n",
      "4181     2311\n",
      "1535     2272\n",
      "2001     2263\n",
      "11061    2187\n",
      "1575     2009\n",
      "1        1867\n",
      "30       1675\n",
      "dtype: int64\n"
     ]
    }
   ],
   "source": [
    "mf_count = male_favs.value_counts()\n",
    "print(\"Anime ID of Top 10 male favorites: \")\n",
    "print(mf_count[0:9])"
   ]
  },
  {
   "cell_type": "markdown",
   "metadata": {},
   "source": [
    "### Genre of Favorites"
   ]
  },
  {
   "cell_type": "markdown",
   "metadata": {},
   "source": [
    "Problem: There seems to be duplicates in the dataset for anime ID"
   ]
  },
  {
   "cell_type": "code",
   "execution_count": 132,
   "metadata": {},
   "outputs": [
    {
     "data": {
      "text/html": [
       "<div>\n",
       "<style scoped>\n",
       "    .dataframe tbody tr th:only-of-type {\n",
       "        vertical-align: middle;\n",
       "    }\n",
       "\n",
       "    .dataframe tbody tr th {\n",
       "        vertical-align: top;\n",
       "    }\n",
       "\n",
       "    .dataframe thead th {\n",
       "        text-align: right;\n",
       "    }\n",
       "</style>\n",
       "<table border=\"1\" class=\"dataframe\">\n",
       "  <thead>\n",
       "    <tr style=\"text-align: right;\">\n",
       "      <th></th>\n",
       "      <th>uid</th>\n",
       "      <th>title</th>\n",
       "      <th>synopsis</th>\n",
       "      <th>genre</th>\n",
       "      <th>aired</th>\n",
       "      <th>episodes</th>\n",
       "      <th>members</th>\n",
       "      <th>popularity</th>\n",
       "      <th>ranked</th>\n",
       "      <th>rating</th>\n",
       "      <th>aired_year</th>\n",
       "    </tr>\n",
       "  </thead>\n",
       "  <tbody>\n",
       "    <tr>\n",
       "      <td>759</td>\n",
       "      <td>1575</td>\n",
       "      <td>Code Geass: Hangyaku no Lelouch</td>\n",
       "      <td>In the year 2010, the Holy Empire of Britannia...</td>\n",
       "      <td>['Action', 'Military', 'Sci-Fi', 'Super Power'...</td>\n",
       "      <td>Oct 6, 2006 to Jul 29, 2007</td>\n",
       "      <td>25.0</td>\n",
       "      <td>1231546</td>\n",
       "      <td>11</td>\n",
       "      <td>31.0</td>\n",
       "      <td>8.76</td>\n",
       "      <td>2006</td>\n",
       "    </tr>\n",
       "  </tbody>\n",
       "</table>\n",
       "</div>"
      ],
      "text/plain": [
       "      uid                            title  \\\n",
       "759  1575  Code Geass: Hangyaku no Lelouch   \n",
       "\n",
       "                                              synopsis  \\\n",
       "759  In the year 2010, the Holy Empire of Britannia...   \n",
       "\n",
       "                                                 genre  \\\n",
       "759  ['Action', 'Military', 'Sci-Fi', 'Super Power'...   \n",
       "\n",
       "                           aired  episodes  members  popularity  ranked  \\\n",
       "759  Oct 6, 2006 to Jul 29, 2007      25.0  1231546          11    31.0   \n",
       "\n",
       "     rating aired_year  \n",
       "759    8.76       2006  "
      ]
     },
     "execution_count": 132,
     "metadata": {},
     "output_type": "execute_result"
    }
   ],
   "source": [
    "anime_data[anime_data.uid == 1575].drop_duplicates() #change the uid number to get the anime data"
   ]
  }
 ],
 "metadata": {
  "kernelspec": {
   "display_name": "Python 3",
   "language": "python",
   "name": "python3"
  },
  "language_info": {
   "codemirror_mode": {
    "name": "ipython",
    "version": 3
   },
   "file_extension": ".py",
   "mimetype": "text/x-python",
   "name": "python",
   "nbconvert_exporter": "python",
   "pygments_lexer": "ipython3",
   "version": "3.7.4"
  }
 },
 "nbformat": 4,
 "nbformat_minor": 2
}
