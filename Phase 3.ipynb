{
 "cells": [
  {
   "cell_type": "markdown",
   "metadata": {},
   "source": [
    "# Phase 3\n",
    "By Michelle Yang and Rachel Zhang"
   ]
  },
  {
   "cell_type": "markdown",
   "metadata": {},
   "source": [
    "### Analysis 1: The relationship between gender and genre preferences"
   ]
  },
  {
   "cell_type": "markdown",
   "metadata": {},
   "source": [
    "From the [user.csv], we can get information from around 53,000 users out of 81,000 users about their gender (binary M/F) and favorite animes. In the animes_marlesson_jan20.csv, we have information about the multiple genres each anime is tagged by. We would use get_dummies on the genres and gender and match them with the user, removing double-counts (for animes that have the same genres). Then we would find the favorability [(similar to the polling example from class) maybe u could write about this?] to predict the likelihood of a certain gender choosing a certain genre. We can do further analysis by performing analyses on a linear regression model to find out correlation."
   ]
  },
  {
   "cell_type": "markdown",
   "metadata": {},
   "source": [
    "Information from this could reveal multivariable linear regression trends in that perhaps animes with high popularity/low numerical ranking can skew gender preferences. We would then perform multivariable linear regression model with other variables such as rank on top of genre count. "
   ]
  },
  {
   "cell_type": "markdown",
   "metadata": {},
   "source": [
    "### Analysis 2: The relationship between rank and number of episodes"
   ]
  },
  {
   "cell_type": "markdown",
   "metadata": {},
   "source": [
    "We will categorize animes by number of episodes (?) . We will then use multivariable linear regression model (etcetc)\n",
    "\n",
    "https://www.kaggle.com/msjgriffiths/exploratory-analysis\n",
    "or do we want to compare ratings with avg number of episodes by genre? the link above might give some details about it (they did avg number of episode per anime by genre and then avg rating/std deviation in rating) "
   ]
  }
 ],
 "metadata": {
  "kernelspec": {
   "display_name": "Python 3",
   "language": "python",
   "name": "python3"
  },
  "language_info": {
   "codemirror_mode": {
    "name": "ipython",
    "version": 3
   },
   "file_extension": ".py",
   "mimetype": "text/x-python",
   "name": "python",
   "nbconvert_exporter": "python",
   "pygments_lexer": "ipython3",
   "version": "3.7.4"
  }
 },
 "nbformat": 4,
 "nbformat_minor": 4
}
